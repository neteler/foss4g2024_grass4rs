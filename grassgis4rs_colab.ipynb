{
  "cells": [
    {
      "cell_type": "markdown",
      "metadata": {
        "id": "ginhG9FI-EoW"
      },
      "source": [
        "<a href=\"https://raw.githubusercontent.com/veroandreo/foss4g2022_grass4rs/main/assets/img/grass_and_satellites.png\">\n",
        "  <img src=\"https://raw.githubusercontent.com/veroandreo/foss4g2022_grass4rs/main/assets/img/grass_and_satellites.png\"\n",
        "   width=\"25%\" style=\"float:right\">\n",
        "</a>\n",
        "\n",
        "# **<span style='color:Green'>GRASS GIS for remote sensing data processing and analysis</span>**\n",
        "\n",
        "### Workshop at FOSS4G 2024, Florence (Italy)\n",
        "\n",
        "*Lecturer:* Veronica Andreo\n",
        "\n",
        "*Date:* 2024-12-02\n",
        "\n",
        "Acknowledgements to **Markus Neteler** and **Maris Nartiss** who were part of an earlier edition of this workshop.\n",
        "\n",
        "---"
      ]
    },
    {
      "cell_type": "markdown",
      "metadata": {
        "id": "xehLKtRR-Eob"
      },
      "source": [
        "### Foreword\n",
        "\n",
        "This notebook will demonstrate the use of **GRASS GIS 8.4+** in combination with Python within a Jupyter Notebook in the [Google Colab](https://colab.research.google.com) environment. We will use GRASS tools and python libraries that facilitate scripting (`grass.script`) and connection/interaction with Jupyter Notebooks (`grass.jupyter`).\n",
        "\n",
        "The workflow that will be demonstrated on this notebook ranges from searching satellite data to time series building and supervised classification.\n",
        "\n",
        "\n",
        "# What is Colab?\n",
        "\n",
        "Perhaps you have heard of Google Colaboratory or simply Colab. This is a hosted\n",
        "Jupyter Notebook service that requires no setup or configuration to use and\n",
        "provides free access to computing resources, including GPUs and TPUs.\n",
        "Colab is especially well suited to machine learning, data science, and education.\n",
        "Furthermore, it allows easy sharing of workflows which facilitates reproducibility.\n",
        "\n",
        "Colab notebooks allow you to combine executable code and rich text in a single\n",
        "document, along with images, HTML, LaTeX and more. When you create your own\n",
        "Colab notebooks, they are stored in your Google Drive account. You can easily\n",
        "share your Colab notebooks with co-workers or friends, allowing them to comment\n",
        "on your notebooks or even edit them.\n",
        "\n",
        "\n",
        "See Colab's FAQ for more details: <https://research.google.com/colaboratory/faq.html>\n",
        "and follow the Google Colab blog in Medium at <https://medium.com/google-colab>.\n",
        "\n"
      ]
    },
    {
      "cell_type": "markdown",
      "metadata": {
        "id": "C365q7g9-Eof"
      },
      "source": [
        "## Jupyter Notebooks\n",
        "\n",
        "Jupyter Notebooks are server-client applications that allow code written in a notebook document to be\n",
        "**edited and executed through a web browser**. They can be run on a local computer (no internet access required) or used to control computations on a remote server accessed via the Internet\n",
        "([see the documentation](https://jupyter-notebook-beginner-guide.readthedocs.io/en/latest/what_is_jupyter.html)).\n",
        "\n",
        "Jupyter Notebooks are interactive and they allow to combine live code, explanatory text, and computational results in a single document. In general, they are:\n",
        "\n",
        "* convenient for initial code development (prototyping)\n",
        "* ideal for code segmentation with the ability to re-run cells\n",
        "* able to store values of variables from already executed cells\n",
        "\n",
        "#### Editing and interactive use\n",
        "\n",
        "Editing a Jupyter Notebook is very easy: in the web browser, you can navigate between text or code\n",
        "cells using the mouse or keyboard shortcuts (see Menu > Help > Keyboard Shortcuts). You can\n",
        "execute small code chunks cell by cell, save the notebook in its current state, or modify and\n",
        "recalculate cells or return them to their previous state. In addition to executable code cells, you\n",
        "can use Markdown in documentation cells to make them presentable to others."
      ]
    },
    {
      "cell_type": "markdown",
      "source": [
        "By default all cells are running Python:"
      ],
      "metadata": {
        "id": "YI5xl2WAvsW5"
      }
    },
    {
      "cell_type": "code",
      "source": [
        "import sys\n",
        "v = sys.version_info\n",
        "print(f\"We are using Python {v.major}.{v.minor}.{v.micro}\")"
      ],
      "metadata": {
        "id": "59DirKg_voh-",
        "outputId": "c74cc5f6-879e-4441-d5a3-8b2d21b6e4da",
        "colab": {
          "base_uri": "https://localhost:8080/"
        }
      },
      "execution_count": 9,
      "outputs": [
        {
          "output_type": "stream",
          "name": "stdout",
          "text": [
            "We are using Python 3.10.12\n"
          ]
        }
      ]
    },
    {
      "cell_type": "markdown",
      "source": [
        "We can also use `!` to run individual lines in the terminal."
      ],
      "metadata": {
        "id": "Idc3mHO9yfDR"
      }
    },
    {
      "cell_type": "code",
      "source": [
        "!echo \"Hello world\""
      ],
      "metadata": {
        "id": "s9vklZlEyhB7",
        "outputId": "6b32ecf0-4379-4edf-a752-fb4b5d4edb32",
        "colab": {
          "base_uri": "https://localhost:8080/"
        }
      },
      "execution_count": 10,
      "outputs": [
        {
          "output_type": "stream",
          "name": "stdout",
          "text": [
            "Hello world\n"
          ]
        }
      ]
    },
    {
      "cell_type": "markdown",
      "source": [
        "Here are some useful keyboard shortcuts in notebooks:\n",
        "\n",
        "* `shift - enter` execute cell and move to the next one\n",
        "* `alt - enter` execute cell and insert new below\n",
        "* `esc` exit cursor/edit mode and enter command mode\n",
        "* `a` add cell above\n",
        "* `b` add cell below\n",
        "* `dd` delete cell\n",
        "* `x` cut selected cells\n",
        "* `c` copy selected cells\n",
        "* `v` paste cells below\n",
        "* `m` change cell to Markdown\n",
        "* `y` change cell to Code\n",
        "\n",
        "Try a few below! Markdown cells (such as this one) don't execute code but they **can** contain _nice_ formatting.\n",
        "\n",
        "They can also include `code` snippets:\n",
        "\n",
        "```\n",
        "def hello(name):\n",
        "    print(f\"hello {name}\")\n",
        "```\n",
        "\n",
        "# And Titles\n",
        "## Headings\n",
        "### Subheadings\n",
        "#### and Sub-subheadings\n",
        "\n",
        "<div class=\"alert alert-info\">\n",
        "... and HTML formatting\n",
        "</div>\n",
        "\n",
        "\n",
        "... and even LaTex!\n",
        "\n",
        "$\n",
        "f(x) = \\int_{-\\infty}^{\\infty} e^{-x^2} dx\n",
        "$"
      ],
      "metadata": {
        "id": "Kj0rsCSAvYYS"
      }
    },
    {
      "cell_type": "markdown",
      "source": [
        "\n",
        "# Why GRASS GIS in Colab?\n",
        "\n",
        "Since Colab offers Jupyter notebooks in a Linux environment\n",
        "**it is really easy to install or even compile GRASS GIS there**.\n",
        "Also, because of the integration with Google Drive, it is a great resource to\n",
        "run our workflows in the cloud and export the results or keep our GRASS\n",
        "projects and code there. This clearly facilitates teaching workshops or courses\n",
        "since attendants do not need to install or download anything on their own\n",
        "machines.\n",
        "\n",
        "There are a couple of things to consider when working with GRASS GIS within\n",
        "Colab:\n",
        "- You will need to *install GRASS GIS every time they start a new working session or notebook*.\n",
        "- The files you download within Colab *will last only during the current session*.\n",
        "\n",
        "\n",
        "Alternatively, **users can mount their Google drive**, download data and create their GRASS projects there. Those will be preserved even if the runtime is\n",
        "disconnected or the session closed."
      ],
      "metadata": {
        "id": "_7sUhslxw64u"
      }
    },
    {
      "cell_type": "markdown",
      "metadata": {
        "id": "P3g_-CyP-Eog"
      },
      "source": [
        "## GRASS GIS basics\n",
        "\n",
        "\n",
        "### Open GRASS for the first time\n",
        "\n",
        "As of version 8.0, GRASS has modified its startup to make it more user friendly:\n",
        "<br>\n",
        "<a href=\"https://raw.githubusercontent.com/veroandreo/foss4g2022_grass4rs/main/assets/img/grass_start.png\">\n",
        "  <img src=\"https://raw.githubusercontent.com/veroandreo/foss4g2022_grass4rs/main/assets/img/grass_start.png\"\n",
        "   alt=\"First time launching GRASS 8\"\n",
        "   title=\"First time launching GRASS 8\"\n",
        "   width=\"65%\">\n",
        "</a>\n",
        "\n",
        "From the **Data** catalog tab you can manage several actions and if you do not yet have imported data into the GRASS database, the software creates the directory structure or database automatically."
      ]
    },
    {
      "cell_type": "markdown",
      "metadata": {
        "id": "Hsu4CABZ-Eoh"
      },
      "source": [
        "### Database\n",
        "\n",
        "- **GRASS database** (directory with projects): When running GRASS GIS for the first time, a folder named \"grassdata\" is automatically created. Depending on the operating system, it can be found in `$HOME` (*nix) or `My Documents` (MS Windows).\n",
        "- **Location** (a project): A location is defined by its coordinate reference system (CRS). The location that is automatically created is in WGS84 (EPSG:4326). If you have data in another CRS, you should ideally create a new location.\n",
        "- **Mapset** (a subproject): Each location can have many mapsets to manage different aspects or sub-regions of a project. When creating a new location, GRASS GIS automatically creates a special mapset called *PERMANENT* where the central data of the project (e.g., base maps, road network, dem, etc.) can be stored."
      ]
    },
    {
      "cell_type": "markdown",
      "metadata": {
        "id": "FUy0gpAb-Eoh"
      },
      "source": [
        "<div class=\"alert alert-info\">More info: <a href=\"https://grass.osgeo.org/grass-stable/manuals/grass_database.html\">https://grass.osgeo.org/grass-stable/manuals/grass_database.html</a>.</div>"
      ]
    },
    {
      "cell_type": "markdown",
      "metadata": {
        "id": "MnalicVS-Eol"
      },
      "source": [
        "### Tools and extensions\n",
        "\n",
        "GRASS has more than [500 modules](https://grass.osgeo.org/grass-stable/manuals/full_index.html) for the most varied tasks:\n",
        "\n",
        "| Prefix                                                               | Function class   | Type of command                     | Example\n",
        "|--------------------------------------------------------------------- |:---------------- |:----------------------------------- |:-------------------------------------------------------------------------------------------------------------------\n",
        "| [g.\\*](https://grass.osgeo.org/grass-stable/manuals/full_index.html#g)    | general          | general data management             | [g.rename](https://grass.osgeo.org/grass-stable/manuals/g.rename.html): renames map\n",
        "| [d.\\*](https://grass.osgeo.org/grass-stable/manuals/full_index.html#d)    | display          | graphical output                    | [d.rast](https://grass.osgeo.org/grass-stable/manuals/d.rast.html): display raster map\n",
        "| [r.\\*](https://grass.osgeo.org/grass-stable/manuals/full_index.html#r)    | raster           | raster processing                   | [r.mapcalc](https://grass.osgeo.org/grass-stable/manuals/r.mapcalc.html): map algebra\n",
        "| [v.\\*](https://grass.osgeo.org/grass-stable/manuals/full_index.html#r)    | vector           | vector processing                   | [v.clean](https://grass.osgeo.org/grass-stable/manuals/v.clean.html): topological cleaning\n",
        "| [i.\\*](https://grass.osgeo.org/grass-stable/manuals/full_index.html#i)    | imagery          | imagery processing                  | [i.pca](https://grass.osgeo.org/grass-stable/manuals/i.pca.html): Principal Components Analysis on imagery group\n",
        "| [r3.\\*](https://grass.osgeo.org/grass-stable/manuals/full_index.html#r3)  | voxel            | 3D raster processing                | [r3.stats](https://grass.osgeo.org/grass-stable/manuals/r3.stats.html): voxel statistics\n",
        "| [db.\\*](https://grass.osgeo.org/grass-stable/manuals/full_index.html#db)  | database         | database management                 | [db.select](https://grass.osgeo.org/grass-stable/manuals/db.select.html): select value(s) from table\n",
        "| [ps.\\*](https://grass.osgeo.org/grass-stable/manuals/full_index.html#ps)  | postscript       | PostScript map creation             | [ps.map](https://grass.osgeo.org/grass-stable/manuals/ps.map.html): PostScript map creation\n",
        "| [t.\\*](https://grass.osgeo.org/grass-stable/manuals/full_index.html#t)    | temporal         | space-time datasets                 | [t.rast.aggregate](https://grass.osgeo.org/grass-stable/manuals/t.rast.aggregate.html): raster time series aggregation\n",
        "\n",
        "Extensions or **add-ons** can be installed from the\n",
        "[central GitHub repository](https://grass.osgeo.org/grass-stable/manuals/addons/)\n",
        "or from *other users' GitHub* (or similar repositories) using the command\n",
        "[g.extension](https://grass.osgeo.org/grass-stable/manuals/g.extension.html). For example:\n",
        "\n",
        "```bash\n",
        " # install an extension from the GRASS GIS repository\n",
        " g.extension extension=r.hants\n",
        "\n",
        " # install an extension from another GitHub repository\n",
        " g.extension extension=r.change.stats \\\n",
        "   url=https://github.com/mundialis/r.change.stats\n",
        "```"
      ]
    },
    {
      "cell_type": "markdown",
      "metadata": {
        "id": "8BoX_7wx-Eom"
      },
      "source": [
        "## GRASS & Python\n",
        "\n",
        "### Python package `grass.script`\n",
        "\n",
        "The **grass.script** or GRASS GIS Python Scripting Library provides functions for calling GRASS modules within Python scripts. The most commonly used functions include:\n",
        "\n",
        "- `run_command`: used when the output of the modules is a raster or vector, no text type output is expected\n",
        "- `read_command`: used when the output of the modules is of text type\n",
        "- `parse_command`: used with modules whose output can be converted to `key=value` pairs\n",
        "- `write_command`: used with modules that expect text input, either in the form of a file or from stdin\n",
        "\n",
        "It also provides several wrapper functions for frequently used modules, for example:\n",
        "\n",
        "- To get info from a raster, script.raster.raster_info() is used: `gs.raster_info('dsm')`\n",
        "- To get info of a vector, script.vector.vector_info() is used: `gs.vector_info('roads')`\n",
        "- To list the raster in a location, script.core.list_grouped() is used: `gs.list_grouped(type=['raster'])`\n",
        "- To obtain the computational region, script.core.region() is used: `gs.region()`"
      ]
    },
    {
      "cell_type": "markdown",
      "metadata": {
        "id": "opiBkJ6H-Eom"
      },
      "source": [
        "<div class=\"alert alert-info\">More info: <a href=\"https://grass.osgeo.org/grass-stable/manuals/libpython/script_intro.html\">https://grass.osgeo.org/grass-stable/manuals/libpython/script_intro.html</a>"
      ]
    },
    {
      "cell_type": "markdown",
      "metadata": {
        "id": "7nR8EBej-Eom"
      },
      "source": [
        "### Python package `grass.jupyter`\n",
        "\n",
        "The **grass.jupyter** library improves the integration of GRASS and Jupyter, and provides different classes to facilitate GRASS maps visualization:\n",
        "\n",
        "- `init`: starts a GRASS session and sets up all necessary environment variables\n",
        "- `Map`: 2D rendering\n",
        "- `Map3D`: 3D rendering\n",
        "- `InteractiveMap`: interactive visualization with folium\n",
        "- `TimeSeriesMap`: visualization for spatio-temporal data"
      ]
    },
    {
      "cell_type": "markdown",
      "source": [
        "<div class=\"alert alert-info\">More info: <a href=\"https://grass.osgeo.org/grass-stable/manuals/libpython/grass.jupyter.html\">https://grass.osgeo.org/grass-stable/manuals/libpython/grass.jupyter.html</a>"
      ],
      "metadata": {
        "id": "JD09Bi0EQ4oq"
      }
    },
    {
      "cell_type": "markdown",
      "metadata": {
        "id": "ru3ZtABY-Eon"
      },
      "source": [
        "# Install GRASS GIS in Colab\n",
        "\n",
        "Let's first print system description to know where are we:"
      ]
    },
    {
      "cell_type": "code",
      "source": [
        "!lsb_release -a"
      ],
      "metadata": {
        "id": "BEtZO8QBKzPo",
        "outputId": "2c481347-e679-4e4e-e5e0-d57ad1258290",
        "colab": {
          "base_uri": "https://localhost:8080/"
        }
      },
      "execution_count": 15,
      "outputs": [
        {
          "output_type": "stream",
          "name": "stdout",
          "text": [
            "No LSB modules are available.\n",
            "Distributor ID:\tUbuntu\n",
            "Description:\tUbuntu 22.04.3 LTS\n",
            "Release:\t22.04\n",
            "Codename:\tjammy\n"
          ]
        }
      ]
    },
    {
      "cell_type": "markdown",
      "source": [
        "At the time of preparing this workshop, Colab has Linux\n",
        "[Ubuntu 22.04.3 LTS](https://medium.com/google-colab/colab-updated-to-ubuntu-22-04-lts-709a91555b3c).\n",
        "So we add the `ppa:ubuntugis` repository, update and install GRASS GIS. It might take a couple of minutes according to the resources available."
      ],
      "metadata": {
        "id": "54KkbwhWQiPt"
      }
    },
    {
      "cell_type": "code",
      "execution_count": 16,
      "metadata": {
        "id": "O_Mp0c3o-VOZ",
        "collapsed": true,
        "outputId": "31338f4f-cfa6-4236-ec93-7c44fcf849a6",
        "colab": {
          "base_uri": "https://localhost:8080/"
        }
      },
      "outputs": [
        {
          "output_type": "stream",
          "name": "stdout",
          "text": [
            "PPA publishes dbgsym, you may need to include 'main/debug' component\n",
            "Repository: 'deb https://ppa.launchpadcontent.net/ubuntugis/ubuntugis-unstable/ubuntu/ jammy main'\n",
            "Description:\n",
            "Unstable releases of Ubuntu GIS packages. These releases are more bleeding edge and while generally they should work well, they dont receive the same amount of quality assurance as our stable releases do.\n",
            "More info: https://launchpad.net/~ubuntugis/+archive/ubuntu/ubuntugis-unstable\n",
            "Adding repository.\n",
            "Found existing deb entry in /etc/apt/sources.list.d/ubuntugis-ubuntu-ubuntugis-unstable-jammy.list\n",
            "Adding deb entry to /etc/apt/sources.list.d/ubuntugis-ubuntu-ubuntugis-unstable-jammy.list\n",
            "Found existing deb-src entry in /etc/apt/sources.list.d/ubuntugis-ubuntu-ubuntugis-unstable-jammy.list\n",
            "Adding disabled deb-src entry to /etc/apt/sources.list.d/ubuntugis-ubuntu-ubuntugis-unstable-jammy.list\n",
            "Adding key to /etc/apt/trusted.gpg.d/ubuntugis-ubuntu-ubuntugis-unstable.gpg with fingerprint 2EC86B48E6A9F326623CD22FFF0E7BBEC491C6A1\n",
            "Get:1 https://cloud.r-project.org/bin/linux/ubuntu jammy-cran40/ InRelease [3,626 B]\n",
            "Hit:2 https://developer.download.nvidia.com/compute/cuda/repos/ubuntu2204/x86_64  InRelease\n",
            "Get:3 http://security.ubuntu.com/ubuntu jammy-security InRelease [129 kB]\n",
            "Hit:4 https://r2u.stat.illinois.edu/ubuntu jammy InRelease\n",
            "Hit:5 http://archive.ubuntu.com/ubuntu jammy InRelease\n",
            "Get:6 http://archive.ubuntu.com/ubuntu jammy-updates InRelease [128 kB]\n",
            "Hit:7 https://ppa.launchpadcontent.net/deadsnakes/ppa/ubuntu jammy InRelease\n",
            "Hit:8 https://ppa.launchpadcontent.net/graphics-drivers/ppa/ubuntu jammy InRelease\n",
            "Hit:9 https://ppa.launchpadcontent.net/ubuntugis/ppa/ubuntu jammy InRelease\n",
            "Hit:10 https://ppa.launchpadcontent.net/ubuntugis/ubuntugis-unstable/ubuntu jammy InRelease\n",
            "Get:11 http://archive.ubuntu.com/ubuntu jammy-backports InRelease [127 kB]\n",
            "Fetched 388 kB in 2s (252 kB/s)\n",
            "Reading package lists... Done\n",
            "W: Skipping acquire of configured file 'main/source/Sources' as repository 'https://r2u.stat.illinois.edu/ubuntu jammy InRelease' does not seem to provide it (sources.list entry misspelt?)\n",
            "Hit:1 https://cloud.r-project.org/bin/linux/ubuntu jammy-cran40/ InRelease\n",
            "Hit:2 https://developer.download.nvidia.com/compute/cuda/repos/ubuntu2204/x86_64  InRelease\n",
            "Hit:3 http://security.ubuntu.com/ubuntu jammy-security InRelease\n",
            "Hit:4 http://archive.ubuntu.com/ubuntu jammy InRelease\n",
            "Hit:5 https://r2u.stat.illinois.edu/ubuntu jammy InRelease\n",
            "Hit:6 http://archive.ubuntu.com/ubuntu jammy-updates InRelease\n",
            "Hit:7 http://archive.ubuntu.com/ubuntu jammy-backports InRelease\n",
            "Hit:8 https://ppa.launchpadcontent.net/deadsnakes/ppa/ubuntu jammy InRelease\n",
            "Hit:9 https://ppa.launchpadcontent.net/graphics-drivers/ppa/ubuntu jammy InRelease\n",
            "Hit:10 https://ppa.launchpadcontent.net/ubuntugis/ppa/ubuntu jammy InRelease\n",
            "Hit:11 https://ppa.launchpadcontent.net/ubuntugis/ubuntugis-unstable/ubuntu jammy InRelease\n",
            "Reading package lists... Done\n",
            "Building dependency tree... Done\n",
            "Reading state information... Done\n",
            "102 packages can be upgraded. Run 'apt list --upgradable' to see them.\n",
            "\u001b[1;33mW: \u001b[0mSkipping acquire of configured file 'main/source/Sources' as repository 'https://r2u.stat.illinois.edu/ubuntu jammy InRelease' does not seem to provide it (sources.list entry misspelt?)\u001b[0m\n",
            "Reading package lists... Done\n",
            "Building dependency tree... Done\n",
            "Reading state information... Done\n",
            "grass-core is already the newest version (8.4.0-1~jammy1).\n",
            "grass-dev is already the newest version (8.4.0-1~jammy1).\n",
            "0 upgraded, 0 newly installed, 0 to remove and 102 not upgraded.\n",
            "INSTALLATION COMPLETED\n"
          ]
        }
      ],
      "source": [
        "!add-apt-repository -y ppa:ubuntugis/ubuntugis-unstable\n",
        "!apt update\n",
        "!apt-get install -y grass-core grass-dev\n",
        "print(\"INSTALLATION COMPLETED\")"
      ]
    },
    {
      "cell_type": "markdown",
      "source": [
        "\n",
        "Check that GRASS GIS is installed by asking which version is there."
      ],
      "metadata": {
        "id": "4szBof-3QmxI"
      }
    },
    {
      "cell_type": "code",
      "source": [
        "!grass --config version"
      ],
      "metadata": {
        "id": "WjInjsQKLmli",
        "outputId": "6636f2ff-a7d2-4ab1-ca75-488d09fc7e25",
        "colab": {
          "base_uri": "https://localhost:8080/"
        }
      },
      "execution_count": 17,
      "outputs": [
        {
          "output_type": "stream",
          "name": "stdout",
          "text": [
            "8.4.0\n"
          ]
        }
      ]
    },
    {
      "cell_type": "markdown",
      "metadata": {
        "id": "FOS6j3QfBplh"
      },
      "source": [
        "### Other dependencies\n",
        "Some Python dependencies are needed to run the exercises of this notebook. Install as follows:"
      ]
    },
    {
      "cell_type": "code",
      "execution_count": 18,
      "metadata": {
        "id": "8rq0h9k4BpPN",
        "collapsed": true,
        "outputId": "d42adeb8-beac-4e4a-e9c4-87f96213bea4",
        "colab": {
          "base_uri": "https://localhost:8080/"
        }
      },
      "outputs": [
        {
          "output_type": "stream",
          "name": "stdout",
          "text": [
            "Requirement already satisfied: eodag in /usr/local/lib/python3.10/dist-packages (3.0.1)\n",
            "Requirement already satisfied: folium in /usr/local/lib/python3.10/dist-packages (0.18.0)\n",
            "Requirement already satisfied: scikit-learn in /usr/local/lib/python3.10/dist-packages (1.5.2)\n",
            "Requirement already satisfied: pandas in /usr/local/lib/python3.10/dist-packages (2.2.2)\n",
            "Requirement already satisfied: numpy in /usr/local/lib/python3.10/dist-packages (1.26.4)\n",
            "Requirement already satisfied: seaborn in /usr/local/lib/python3.10/dist-packages (0.13.2)\n",
            "Requirement already satisfied: matplotlib in /usr/local/lib/python3.10/dist-packages (3.8.0)\n",
            "Requirement already satisfied: ipyleaflet in /usr/local/lib/python3.10/dist-packages (0.19.2)\n",
            "Requirement already satisfied: annotated-types in /usr/local/lib/python3.10/dist-packages (from eodag) (0.7.0)\n",
            "Requirement already satisfied: boto3 in /usr/local/lib/python3.10/dist-packages (from eodag) (1.35.62)\n",
            "Requirement already satisfied: botocore in /usr/local/lib/python3.10/dist-packages (from eodag) (1.35.62)\n",
            "Requirement already satisfied: click in /usr/local/lib/python3.10/dist-packages (from eodag) (8.1.7)\n",
            "Requirement already satisfied: geojson in /usr/local/lib/python3.10/dist-packages (from eodag) (3.1.0)\n",
            "Requirement already satisfied: jsonpath-ng<1.6.0 in /usr/local/lib/python3.10/dist-packages (from eodag) (1.5.3)\n",
            "Requirement already satisfied: lxml in /usr/local/lib/python3.10/dist-packages (from eodag) (5.3.0)\n",
            "Requirement already satisfied: pydantic>=2.1.0 in /usr/local/lib/python3.10/dist-packages (from eodag) (2.9.2)\n",
            "Requirement already satisfied: pydantic-core in /usr/local/lib/python3.10/dist-packages (from eodag) (2.23.4)\n",
            "Requirement already satisfied: PyJWT>=2.5.0 in /usr/local/lib/python3.10/dist-packages (from eodag) (2.9.0)\n",
            "Requirement already satisfied: pyproj>=2.1.0 in /usr/local/lib/python3.10/dist-packages (from eodag) (3.7.0)\n",
            "Requirement already satisfied: pyshp in /usr/local/lib/python3.10/dist-packages (from eodag) (2.3.1)\n",
            "Requirement already satisfied: pystac>=1.0.0b1 in /usr/local/lib/python3.10/dist-packages (from eodag) (1.11.0)\n",
            "Requirement already satisfied: python-dateutil in /usr/local/lib/python3.10/dist-packages (from eodag) (2.8.2)\n",
            "Requirement already satisfied: PyYAML in /usr/local/lib/python3.10/dist-packages (from eodag) (6.0.2)\n",
            "Requirement already satisfied: requests in /usr/local/lib/python3.10/dist-packages (from eodag) (2.32.3)\n",
            "Requirement already satisfied: setuptools in /usr/local/lib/python3.10/dist-packages (from eodag) (75.1.0)\n",
            "Requirement already satisfied: shapely>=2.0.6 in /usr/local/lib/python3.10/dist-packages (from eodag) (2.0.6)\n",
            "Requirement already satisfied: stream-zip in /usr/local/lib/python3.10/dist-packages (from eodag) (0.0.83)\n",
            "Requirement already satisfied: tqdm in /usr/local/lib/python3.10/dist-packages (from eodag) (4.66.6)\n",
            "Requirement already satisfied: typing-extensions>=4.8.0 in /usr/local/lib/python3.10/dist-packages (from eodag) (4.12.2)\n",
            "Requirement already satisfied: urllib3 in /usr/local/lib/python3.10/dist-packages (from eodag) (2.2.3)\n",
            "Requirement already satisfied: Whoosh in /usr/local/lib/python3.10/dist-packages (from eodag) (2.7.4)\n",
            "Requirement already satisfied: orjson in /usr/local/lib/python3.10/dist-packages (from eodag) (3.10.11)\n",
            "Requirement already satisfied: branca>=0.6.0 in /usr/local/lib/python3.10/dist-packages (from folium) (0.8.0)\n",
            "Requirement already satisfied: jinja2>=2.9 in /usr/local/lib/python3.10/dist-packages (from folium) (3.1.4)\n",
            "Requirement already satisfied: xyzservices in /usr/local/lib/python3.10/dist-packages (from folium) (2024.9.0)\n",
            "Requirement already satisfied: scipy>=1.6.0 in /usr/local/lib/python3.10/dist-packages (from scikit-learn) (1.13.1)\n",
            "Requirement already satisfied: joblib>=1.2.0 in /usr/local/lib/python3.10/dist-packages (from scikit-learn) (1.4.2)\n",
            "Requirement already satisfied: threadpoolctl>=3.1.0 in /usr/local/lib/python3.10/dist-packages (from scikit-learn) (3.5.0)\n",
            "Requirement already satisfied: pytz>=2020.1 in /usr/local/lib/python3.10/dist-packages (from pandas) (2024.2)\n",
            "Requirement already satisfied: tzdata>=2022.7 in /usr/local/lib/python3.10/dist-packages (from pandas) (2024.2)\n",
            "Requirement already satisfied: contourpy>=1.0.1 in /usr/local/lib/python3.10/dist-packages (from matplotlib) (1.3.0)\n",
            "Requirement already satisfied: cycler>=0.10 in /usr/local/lib/python3.10/dist-packages (from matplotlib) (0.12.1)\n",
            "Requirement already satisfied: fonttools>=4.22.0 in /usr/local/lib/python3.10/dist-packages (from matplotlib) (4.54.1)\n",
            "Requirement already satisfied: kiwisolver>=1.0.1 in /usr/local/lib/python3.10/dist-packages (from matplotlib) (1.4.7)\n",
            "Requirement already satisfied: packaging>=20.0 in /usr/local/lib/python3.10/dist-packages (from matplotlib) (24.2)\n",
            "Requirement already satisfied: pillow>=6.2.0 in /usr/local/lib/python3.10/dist-packages (from matplotlib) (11.0.0)\n",
            "Requirement already satisfied: pyparsing>=2.3.1 in /usr/local/lib/python3.10/dist-packages (from matplotlib) (3.2.0)\n",
            "Requirement already satisfied: ipywidgets<9,>=7.6.0 in /usr/local/lib/python3.10/dist-packages (from ipyleaflet) (7.7.1)\n",
            "Requirement already satisfied: jupyter-leaflet<0.20,>=0.19 in /usr/local/lib/python3.10/dist-packages (from ipyleaflet) (0.19.2)\n",
            "Requirement already satisfied: traittypes<3,>=0.2.1 in /usr/local/lib/python3.10/dist-packages (from ipyleaflet) (0.2.1)\n",
            "Requirement already satisfied: ipykernel>=4.5.1 in /usr/local/lib/python3.10/dist-packages (from ipywidgets<9,>=7.6.0->ipyleaflet) (5.5.6)\n",
            "Requirement already satisfied: ipython-genutils~=0.2.0 in /usr/local/lib/python3.10/dist-packages (from ipywidgets<9,>=7.6.0->ipyleaflet) (0.2.0)\n",
            "Requirement already satisfied: traitlets>=4.3.1 in /usr/local/lib/python3.10/dist-packages (from ipywidgets<9,>=7.6.0->ipyleaflet) (5.7.1)\n",
            "Requirement already satisfied: widgetsnbextension~=3.6.0 in /usr/local/lib/python3.10/dist-packages (from ipywidgets<9,>=7.6.0->ipyleaflet) (3.6.10)\n",
            "Requirement already satisfied: ipython>=4.0.0 in /usr/local/lib/python3.10/dist-packages (from ipywidgets<9,>=7.6.0->ipyleaflet) (7.34.0)\n",
            "Requirement already satisfied: jupyterlab-widgets>=1.0.0 in /usr/local/lib/python3.10/dist-packages (from ipywidgets<9,>=7.6.0->ipyleaflet) (3.0.13)\n",
            "Requirement already satisfied: MarkupSafe>=2.0 in /usr/local/lib/python3.10/dist-packages (from jinja2>=2.9->folium) (3.0.2)\n",
            "Requirement already satisfied: ply in /usr/local/lib/python3.10/dist-packages (from jsonpath-ng<1.6.0->eodag) (3.11)\n",
            "Requirement already satisfied: decorator in /usr/local/lib/python3.10/dist-packages (from jsonpath-ng<1.6.0->eodag) (4.4.2)\n",
            "Requirement already satisfied: six in /usr/local/lib/python3.10/dist-packages (from jsonpath-ng<1.6.0->eodag) (1.16.0)\n",
            "Requirement already satisfied: certifi in /usr/local/lib/python3.10/dist-packages (from pyproj>=2.1.0->eodag) (2024.8.30)\n",
            "Requirement already satisfied: jmespath<2.0.0,>=0.7.1 in /usr/local/lib/python3.10/dist-packages (from boto3->eodag) (1.0.1)\n",
            "Requirement already satisfied: s3transfer<0.11.0,>=0.10.0 in /usr/local/lib/python3.10/dist-packages (from boto3->eodag) (0.10.3)\n",
            "Requirement already satisfied: charset-normalizer<4,>=2 in /usr/local/lib/python3.10/dist-packages (from requests->eodag) (3.4.0)\n",
            "Requirement already satisfied: idna<4,>=2.5 in /usr/local/lib/python3.10/dist-packages (from requests->eodag) (3.10)\n",
            "Requirement already satisfied: pycryptodome>=3.10.1 in /usr/local/lib/python3.10/dist-packages (from stream-zip->eodag) (3.21.0)\n",
            "Requirement already satisfied: jupyter-client in /usr/local/lib/python3.10/dist-packages (from ipykernel>=4.5.1->ipywidgets<9,>=7.6.0->ipyleaflet) (6.1.12)\n",
            "Requirement already satisfied: tornado>=4.2 in /usr/local/lib/python3.10/dist-packages (from ipykernel>=4.5.1->ipywidgets<9,>=7.6.0->ipyleaflet) (6.3.3)\n",
            "Requirement already satisfied: jedi>=0.16 in /usr/local/lib/python3.10/dist-packages (from ipython>=4.0.0->ipywidgets<9,>=7.6.0->ipyleaflet) (0.19.2)\n",
            "Requirement already satisfied: pickleshare in /usr/local/lib/python3.10/dist-packages (from ipython>=4.0.0->ipywidgets<9,>=7.6.0->ipyleaflet) (0.7.5)\n",
            "Requirement already satisfied: prompt-toolkit!=3.0.0,!=3.0.1,<3.1.0,>=2.0.0 in /usr/local/lib/python3.10/dist-packages (from ipython>=4.0.0->ipywidgets<9,>=7.6.0->ipyleaflet) (3.0.48)\n",
            "Requirement already satisfied: pygments in /usr/local/lib/python3.10/dist-packages (from ipython>=4.0.0->ipywidgets<9,>=7.6.0->ipyleaflet) (2.18.0)\n",
            "Requirement already satisfied: backcall in /usr/local/lib/python3.10/dist-packages (from ipython>=4.0.0->ipywidgets<9,>=7.6.0->ipyleaflet) (0.2.0)\n",
            "Requirement already satisfied: matplotlib-inline in /usr/local/lib/python3.10/dist-packages (from ipython>=4.0.0->ipywidgets<9,>=7.6.0->ipyleaflet) (0.1.7)\n",
            "Requirement already satisfied: pexpect>4.3 in /usr/local/lib/python3.10/dist-packages (from ipython>=4.0.0->ipywidgets<9,>=7.6.0->ipyleaflet) (4.9.0)\n",
            "Requirement already satisfied: notebook>=4.4.1 in /usr/local/lib/python3.10/dist-packages (from widgetsnbextension~=3.6.0->ipywidgets<9,>=7.6.0->ipyleaflet) (6.5.5)\n",
            "Requirement already satisfied: parso<0.9.0,>=0.8.4 in /usr/local/lib/python3.10/dist-packages (from jedi>=0.16->ipython>=4.0.0->ipywidgets<9,>=7.6.0->ipyleaflet) (0.8.4)\n",
            "Requirement already satisfied: pyzmq<25,>=17 in /usr/local/lib/python3.10/dist-packages (from notebook>=4.4.1->widgetsnbextension~=3.6.0->ipywidgets<9,>=7.6.0->ipyleaflet) (24.0.1)\n",
            "Requirement already satisfied: argon2-cffi in /usr/local/lib/python3.10/dist-packages (from notebook>=4.4.1->widgetsnbextension~=3.6.0->ipywidgets<9,>=7.6.0->ipyleaflet) (23.1.0)\n",
            "Requirement already satisfied: jupyter-core>=4.6.1 in /usr/local/lib/python3.10/dist-packages (from notebook>=4.4.1->widgetsnbextension~=3.6.0->ipywidgets<9,>=7.6.0->ipyleaflet) (5.7.2)\n",
            "Requirement already satisfied: nbformat in /usr/local/lib/python3.10/dist-packages (from notebook>=4.4.1->widgetsnbextension~=3.6.0->ipywidgets<9,>=7.6.0->ipyleaflet) (5.10.4)\n",
            "Requirement already satisfied: nbconvert>=5 in /usr/local/lib/python3.10/dist-packages (from notebook>=4.4.1->widgetsnbextension~=3.6.0->ipywidgets<9,>=7.6.0->ipyleaflet) (7.16.4)\n",
            "Requirement already satisfied: nest-asyncio>=1.5 in /usr/local/lib/python3.10/dist-packages (from notebook>=4.4.1->widgetsnbextension~=3.6.0->ipywidgets<9,>=7.6.0->ipyleaflet) (1.6.0)\n",
            "Requirement already satisfied: Send2Trash>=1.8.0 in /usr/local/lib/python3.10/dist-packages (from notebook>=4.4.1->widgetsnbextension~=3.6.0->ipywidgets<9,>=7.6.0->ipyleaflet) (1.8.3)\n",
            "Requirement already satisfied: terminado>=0.8.3 in /usr/local/lib/python3.10/dist-packages (from notebook>=4.4.1->widgetsnbextension~=3.6.0->ipywidgets<9,>=7.6.0->ipyleaflet) (0.18.1)\n",
            "Requirement already satisfied: prometheus-client in /usr/local/lib/python3.10/dist-packages (from notebook>=4.4.1->widgetsnbextension~=3.6.0->ipywidgets<9,>=7.6.0->ipyleaflet) (0.21.0)\n",
            "Requirement already satisfied: nbclassic>=0.4.7 in /usr/local/lib/python3.10/dist-packages (from notebook>=4.4.1->widgetsnbextension~=3.6.0->ipywidgets<9,>=7.6.0->ipyleaflet) (1.1.0)\n",
            "Requirement already satisfied: ptyprocess>=0.5 in /usr/local/lib/python3.10/dist-packages (from pexpect>4.3->ipython>=4.0.0->ipywidgets<9,>=7.6.0->ipyleaflet) (0.7.0)\n",
            "Requirement already satisfied: wcwidth in /usr/local/lib/python3.10/dist-packages (from prompt-toolkit!=3.0.0,!=3.0.1,<3.1.0,>=2.0.0->ipython>=4.0.0->ipywidgets<9,>=7.6.0->ipyleaflet) (0.2.13)\n",
            "Requirement already satisfied: platformdirs>=2.5 in /usr/local/lib/python3.10/dist-packages (from jupyter-core>=4.6.1->notebook>=4.4.1->widgetsnbextension~=3.6.0->ipywidgets<9,>=7.6.0->ipyleaflet) (4.3.6)\n",
            "Requirement already satisfied: notebook-shim>=0.2.3 in /usr/local/lib/python3.10/dist-packages (from nbclassic>=0.4.7->notebook>=4.4.1->widgetsnbextension~=3.6.0->ipywidgets<9,>=7.6.0->ipyleaflet) (0.2.4)\n",
            "Requirement already satisfied: beautifulsoup4 in /usr/local/lib/python3.10/dist-packages (from nbconvert>=5->notebook>=4.4.1->widgetsnbextension~=3.6.0->ipywidgets<9,>=7.6.0->ipyleaflet) (4.12.3)\n",
            "Requirement already satisfied: bleach!=5.0.0 in /usr/local/lib/python3.10/dist-packages (from nbconvert>=5->notebook>=4.4.1->widgetsnbextension~=3.6.0->ipywidgets<9,>=7.6.0->ipyleaflet) (6.2.0)\n",
            "Requirement already satisfied: defusedxml in /usr/local/lib/python3.10/dist-packages (from nbconvert>=5->notebook>=4.4.1->widgetsnbextension~=3.6.0->ipywidgets<9,>=7.6.0->ipyleaflet) (0.7.1)\n",
            "Requirement already satisfied: jupyterlab-pygments in /usr/local/lib/python3.10/dist-packages (from nbconvert>=5->notebook>=4.4.1->widgetsnbextension~=3.6.0->ipywidgets<9,>=7.6.0->ipyleaflet) (0.3.0)\n",
            "Requirement already satisfied: mistune<4,>=2.0.3 in /usr/local/lib/python3.10/dist-packages (from nbconvert>=5->notebook>=4.4.1->widgetsnbextension~=3.6.0->ipywidgets<9,>=7.6.0->ipyleaflet) (3.0.2)\n",
            "Requirement already satisfied: nbclient>=0.5.0 in /usr/local/lib/python3.10/dist-packages (from nbconvert>=5->notebook>=4.4.1->widgetsnbextension~=3.6.0->ipywidgets<9,>=7.6.0->ipyleaflet) (0.10.0)\n",
            "Requirement already satisfied: pandocfilters>=1.4.1 in /usr/local/lib/python3.10/dist-packages (from nbconvert>=5->notebook>=4.4.1->widgetsnbextension~=3.6.0->ipywidgets<9,>=7.6.0->ipyleaflet) (1.5.1)\n",
            "Requirement already satisfied: tinycss2 in /usr/local/lib/python3.10/dist-packages (from nbconvert>=5->notebook>=4.4.1->widgetsnbextension~=3.6.0->ipywidgets<9,>=7.6.0->ipyleaflet) (1.4.0)\n",
            "Requirement already satisfied: fastjsonschema>=2.15 in /usr/local/lib/python3.10/dist-packages (from nbformat->notebook>=4.4.1->widgetsnbextension~=3.6.0->ipywidgets<9,>=7.6.0->ipyleaflet) (2.20.0)\n",
            "Requirement already satisfied: jsonschema>=2.6 in /usr/local/lib/python3.10/dist-packages (from nbformat->notebook>=4.4.1->widgetsnbextension~=3.6.0->ipywidgets<9,>=7.6.0->ipyleaflet) (4.23.0)\n",
            "Requirement already satisfied: argon2-cffi-bindings in /usr/local/lib/python3.10/dist-packages (from argon2-cffi->notebook>=4.4.1->widgetsnbextension~=3.6.0->ipywidgets<9,>=7.6.0->ipyleaflet) (21.2.0)\n",
            "Requirement already satisfied: webencodings in /usr/local/lib/python3.10/dist-packages (from bleach!=5.0.0->nbconvert>=5->notebook>=4.4.1->widgetsnbextension~=3.6.0->ipywidgets<9,>=7.6.0->ipyleaflet) (0.5.1)\n",
            "Requirement already satisfied: attrs>=22.2.0 in /usr/local/lib/python3.10/dist-packages (from jsonschema>=2.6->nbformat->notebook>=4.4.1->widgetsnbextension~=3.6.0->ipywidgets<9,>=7.6.0->ipyleaflet) (24.2.0)\n",
            "Requirement already satisfied: jsonschema-specifications>=2023.03.6 in /usr/local/lib/python3.10/dist-packages (from jsonschema>=2.6->nbformat->notebook>=4.4.1->widgetsnbextension~=3.6.0->ipywidgets<9,>=7.6.0->ipyleaflet) (2024.10.1)\n",
            "Requirement already satisfied: referencing>=0.28.4 in /usr/local/lib/python3.10/dist-packages (from jsonschema>=2.6->nbformat->notebook>=4.4.1->widgetsnbextension~=3.6.0->ipywidgets<9,>=7.6.0->ipyleaflet) (0.35.1)\n",
            "Requirement already satisfied: rpds-py>=0.7.1 in /usr/local/lib/python3.10/dist-packages (from jsonschema>=2.6->nbformat->notebook>=4.4.1->widgetsnbextension~=3.6.0->ipywidgets<9,>=7.6.0->ipyleaflet) (0.21.0)\n",
            "Requirement already satisfied: jupyter-server<3,>=1.8 in /usr/local/lib/python3.10/dist-packages (from notebook-shim>=0.2.3->nbclassic>=0.4.7->notebook>=4.4.1->widgetsnbextension~=3.6.0->ipywidgets<9,>=7.6.0->ipyleaflet) (1.24.0)\n",
            "Requirement already satisfied: cffi>=1.0.1 in /usr/local/lib/python3.10/dist-packages (from argon2-cffi-bindings->argon2-cffi->notebook>=4.4.1->widgetsnbextension~=3.6.0->ipywidgets<9,>=7.6.0->ipyleaflet) (1.17.1)\n",
            "Requirement already satisfied: soupsieve>1.2 in /usr/local/lib/python3.10/dist-packages (from beautifulsoup4->nbconvert>=5->notebook>=4.4.1->widgetsnbextension~=3.6.0->ipywidgets<9,>=7.6.0->ipyleaflet) (2.6)\n",
            "Requirement already satisfied: pycparser in /usr/local/lib/python3.10/dist-packages (from cffi>=1.0.1->argon2-cffi-bindings->argon2-cffi->notebook>=4.4.1->widgetsnbextension~=3.6.0->ipywidgets<9,>=7.6.0->ipyleaflet) (2.22)\n",
            "Requirement already satisfied: anyio<4,>=3.1.0 in /usr/local/lib/python3.10/dist-packages (from jupyter-server<3,>=1.8->notebook-shim>=0.2.3->nbclassic>=0.4.7->notebook>=4.4.1->widgetsnbextension~=3.6.0->ipywidgets<9,>=7.6.0->ipyleaflet) (3.7.1)\n",
            "Requirement already satisfied: websocket-client in /usr/local/lib/python3.10/dist-packages (from jupyter-server<3,>=1.8->notebook-shim>=0.2.3->nbclassic>=0.4.7->notebook>=4.4.1->widgetsnbextension~=3.6.0->ipywidgets<9,>=7.6.0->ipyleaflet) (1.8.0)\n",
            "Requirement already satisfied: sniffio>=1.1 in /usr/local/lib/python3.10/dist-packages (from anyio<4,>=3.1.0->jupyter-server<3,>=1.8->notebook-shim>=0.2.3->nbclassic>=0.4.7->notebook>=4.4.1->widgetsnbextension~=3.6.0->ipywidgets<9,>=7.6.0->ipyleaflet) (1.3.1)\n",
            "Requirement already satisfied: exceptiongroup in /usr/local/lib/python3.10/dist-packages (from anyio<4,>=3.1.0->jupyter-server<3,>=1.8->notebook-shim>=0.2.3->nbclassic>=0.4.7->notebook>=4.4.1->widgetsnbextension~=3.6.0->ipywidgets<9,>=7.6.0->ipyleaflet) (1.2.2)\n"
          ]
        }
      ],
      "source": [
        "!python -m pip install eodag folium scikit-learn pandas numpy seaborn matplotlib ipyleaflet"
      ]
    },
    {
      "cell_type": "markdown",
      "source": [
        "# Set up working directory and download data\n",
        "\n",
        "By default we'll have access to the `/content` folder within Colab, and any data we download will be placed there. We can change that of course, it is just a Linux file system. In any case, we should bare in mind that whatever data we download within Colab, will disappear if the runtime gets disconected because of inactivity or once we close the Colab session.\n",
        "\n",
        "Let's define our folder structure and get the North Carolina sample dataset into Colab to exemplify a data download workflow."
      ],
      "metadata": {
        "id": "srjluDZOQrQp"
      }
    },
    {
      "cell_type": "code",
      "execution_count": 32,
      "metadata": {
        "id": "Gubl8yAs-Eoo"
      },
      "outputs": [],
      "source": [
        "import os\n",
        "\n",
        "# data directory\n",
        "os.makedirs(\"foss4g_grass4rs\", exist_ok=True)\n",
        "homedir = os.path.join(os.getcwd(), \"foss4g_grass4rs\")\n",
        "\n",
        "# GRASS GIS database variables\n",
        "grassdata = os.path.join(homedir, \"grassdata\")\n",
        "project = \"nc_spm_08_grass7\"\n",
        "mapset = \"PERMANENT\""
      ]
    },
    {
      "cell_type": "markdown",
      "metadata": {
        "id": "BlN9OgNt-Eor"
      },
      "source": [
        "Next, we download **North Carolina location** and unpack it within the above defined `homedir`."
      ]
    },
    {
      "cell_type": "code",
      "execution_count": 34,
      "metadata": {
        "id": "C33uSsn3-Eor",
        "outputId": "40ffa8e8-b6e7-4789-b8ea-10258051d2da",
        "colab": {
          "base_uri": "https://localhost:8080/"
        }
      },
      "outputs": [
        {
          "output_type": "stream",
          "name": "stdout",
          "text": [
            "--2024-11-15 18:34:51--  https://grass.osgeo.org/sampledata/north_carolina/nc_spm_08_grass7.zip\n",
            "Resolving grass.osgeo.org (grass.osgeo.org)... 140.211.15.9\n",
            "Connecting to grass.osgeo.org (grass.osgeo.org)|140.211.15.9|:443... connected.\n",
            "HTTP request sent, awaiting response... 200 OK\n",
            "Length: 147766048 (141M) [application/zip]\n",
            "Saving to: ‘/content/foss4g_grass4rs/nc.zip’\n",
            "\n",
            "/content/foss4g_gra 100%[===================>] 140.92M  59.9MB/s    in 2.4s    \n",
            "\n",
            "2024-11-15 18:34:53 (59.9 MB/s) - ‘/content/foss4g_grass4rs/nc.zip’ saved [147766048/147766048]\n",
            "\n"
          ]
        }
      ],
      "source": [
        "# download NC sample data into target directory homedir (we use `wget` on command line here)\n",
        "!wget -c https://grass.osgeo.org/sampledata/north_carolina/nc_spm_08_grass7.zip -O $homedir/nc.zip"
      ]
    },
    {
      "cell_type": "code",
      "execution_count": 35,
      "metadata": {
        "id": "cca74H-p-Eor",
        "outputId": "e489be8e-8ba3-40b8-d348-9074633f47da",
        "colab": {
          "base_uri": "https://localhost:8080/"
        }
      },
      "outputs": [
        {
          "output_type": "stream",
          "name": "stdout",
          "text": [
            "List uploaded file(s) in target directory /content/foss4g_grass4rs:\n"
          ]
        },
        {
          "output_type": "execute_result",
          "data": {
            "text/plain": [
              "['nc.zip', 'grassdata']"
            ]
          },
          "metadata": {},
          "execution_count": 35
        }
      ],
      "source": [
        "# unpack sample dataset into target directory homedir\n",
        "!unzip -o -q -d $grassdata $homedir/nc.zip\n",
        "\n",
        "print(\"List uploaded file(s) in target directory \"+homedir+\":\")\n",
        "os.listdir(homedir)"
      ]
    },
    {
      "cell_type": "markdown",
      "metadata": {
        "id": "FGFrttCb-Eos"
      },
      "source": [
        "Download and unzip Sentinel-2 scenes:"
      ]
    },
    {
      "cell_type": "code",
      "execution_count": 36,
      "metadata": {
        "id": "6Q1ZqlfC-Eop"
      },
      "outputs": [],
      "source": [
        "# Sentinel-2 related directories\n",
        "s2_data = os.path.join(homedir, \"sentinel\")\n",
        "s2_timestamps = os.path.join(homedir, s2_data, \"sentinel-timestamps.txt\")"
      ]
    },
    {
      "cell_type": "code",
      "execution_count": 37,
      "metadata": {
        "id": "WiZAuhzz-Eou",
        "outputId": "74abc87c-ec8a-476d-d9bf-bf0910b2b8cf",
        "colab": {
          "base_uri": "https://localhost:8080/"
        }
      },
      "outputs": [
        {
          "output_type": "stream",
          "name": "stdout",
          "text": [
            "--2024-11-15 18:57:17--  https://data.neteler.org/foss4g2022/sentinel.zip\n",
            "Resolving data.neteler.org (data.neteler.org)... 78.46.190.78\n",
            "Connecting to data.neteler.org (data.neteler.org)|78.46.190.78|:443... connected.\n",
            "HTTP request sent, awaiting response... 200 OK\n",
            "Length: 68662271 (65M) [application/zip]\n",
            "Saving to: ‘/content/foss4g_grass4rs/sentinel.zip’\n",
            "\n",
            "/content/foss4g_gra 100%[===================>]  65.48M  19.9MB/s    in 4.3s    \n",
            "\n",
            "2024-11-15 18:57:22 (15.1 MB/s) - ‘/content/foss4g_grass4rs/sentinel.zip’ saved [68662271/68662271]\n",
            "\n"
          ]
        }
      ],
      "source": [
        "# download Sentinel-2 data into target directory homedir\n",
        "!wget -c https://data.neteler.org/foss4g2022/sentinel.zip -O $homedir/sentinel.zip\n",
        "\n",
        "# unpack into target directory homedir\n",
        "!unzip -o -q -d $homedir $homedir/sentinel.zip"
      ]
    },
    {
      "cell_type": "markdown",
      "metadata": {
        "id": "1ZD8Wk2q-Eou"
      },
      "source": [
        "Download landuse map:"
      ]
    },
    {
      "cell_type": "code",
      "execution_count": 38,
      "metadata": {
        "id": "mpqUmaO0-Eou",
        "outputId": "4f512c88-0274-4403-d612-12bf5e32c85b",
        "colab": {
          "base_uri": "https://localhost:8080/"
        }
      },
      "outputs": [
        {
          "output_type": "stream",
          "name": "stdout",
          "text": [
            "--2024-11-15 18:57:44--  https://data.neteler.org/foss4g2022/nc_nlcd2019.pack\n",
            "Resolving data.neteler.org (data.neteler.org)... 78.46.190.78\n",
            "Connecting to data.neteler.org (data.neteler.org)|78.46.190.78|:443... connected.\n",
            "HTTP request sent, awaiting response... 200 OK\n",
            "Length: 116609 (114K)\n",
            "Saving to: ‘/content/foss4g_grass4rs/nc_nlcd2019.pack’\n",
            "\n",
            "/content/foss4g_gra 100%[===================>] 113.88K   246KB/s    in 0.5s    \n",
            "\n",
            "2024-11-15 18:57:46 (246 KB/s) - ‘/content/foss4g_grass4rs/nc_nlcd2019.pack’ saved [116609/116609]\n",
            "\n"
          ]
        }
      ],
      "source": [
        "# get NC landuse map 2019 in GRASS GIS format, to be used later as classification training map\n",
        "!wget -c https://data.neteler.org/foss4g2022/nc_nlcd2019.pack -O $homedir/nc_nlcd2019.pack"
      ]
    },
    {
      "cell_type": "code",
      "execution_count": 39,
      "metadata": {
        "id": "hHD9fQG0-Eou",
        "outputId": "a5fea1ef-8d01-4fc7-aeca-14ff3a1303a9",
        "colab": {
          "base_uri": "https://localhost:8080/"
        }
      },
      "outputs": [
        {
          "output_type": "stream",
          "name": "stdout",
          "text": [
            "List uploaded file(s) in target directory /content/foss4g_grass4rs:\n"
          ]
        },
        {
          "output_type": "execute_result",
          "data": {
            "text/plain": [
              "['nc.zip', 'sentinel', 'sentinel.zip', 'nc_nlcd2019.pack', 'grassdata']"
            ]
          },
          "metadata": {},
          "execution_count": 39
        }
      ],
      "source": [
        "print(\"List uploaded file(s) in target directory \"+homedir+\":\")\n",
        "os.listdir(homedir)"
      ]
    },
    {
      "cell_type": "markdown",
      "metadata": {
        "id": "-82VXVW1-Eou"
      },
      "source": [
        "## Start GRASS GIS"
      ]
    },
    {
      "cell_type": "code",
      "execution_count": 40,
      "metadata": {
        "id": "zyIqAa3l-Eou"
      },
      "outputs": [],
      "source": [
        "# Import standard Python packages we need\n",
        "import sys\n",
        "import subprocess\n",
        "\n",
        "# Ask GRASS GIS where its Python packages are to be able to run it from the notebook\n",
        "sys.path.append(\n",
        "    subprocess.check_output([\"grass\", \"--config\", \"python_path\"], text=True).strip()\n",
        ")"
      ]
    },
    {
      "cell_type": "code",
      "execution_count": 41,
      "metadata": {
        "id": "Zel1wdiX-Eov"
      },
      "outputs": [],
      "source": [
        "# Import the GRASS GIS packages\n",
        "import grass.script as gs\n",
        "import grass.jupyter as gj\n",
        "\n",
        "# Start the GRASS GIS Session\n",
        "session = gj.init(grassdata, project, mapset)"
      ]
    },
    {
      "cell_type": "code",
      "execution_count": 42,
      "metadata": {
        "id": "i68PyY9p-Eov",
        "outputId": "c0ee4a70-59d2-4d17-c418-870c4bde2410",
        "colab": {
          "base_uri": "https://localhost:8080/"
        }
      },
      "outputs": [
        {
          "output_type": "execute_result",
          "data": {
            "text/plain": [
              "{'GISDBASE': '/content/foss4g_grass4rs/grassdata',\n",
              " 'LOCATION_NAME': 'nc_spm_08_grass7',\n",
              " 'MAPSET': 'PERMANENT'}"
            ]
          },
          "metadata": {},
          "execution_count": 42
        }
      ],
      "source": [
        "# Show current GRASS GIS settings, this also checks if the session works\n",
        "gs.gisenv()"
      ]
    },
    {
      "cell_type": "markdown",
      "metadata": {
        "id": "dVL6UBz6-Eov"
      },
      "source": [
        "Before we start, we list the elements in the mapset `PERMANENT`. If you only want to see the raster or vector type elements, just change the `type` option in the following command. As you can see, since the output is of text type, we use `read_command()`."
      ]
    },
    {
      "cell_type": "code",
      "execution_count": 43,
      "metadata": {
        "id": "MNA-MOrN-Eow",
        "outputId": "5c9f63cc-c64b-4232-8662-ad84025f40ad",
        "colab": {
          "base_uri": "https://localhost:8080/"
        }
      },
      "outputs": [
        {
          "output_type": "execute_result",
          "data": {
            "text/plain": [
              "{'PERMANENT': ['P079214',\n",
              "  'P079215',\n",
              "  'P079218',\n",
              "  'P079219',\n",
              "  'boundary_county',\n",
              "  'boundary_municp',\n",
              "  'bridges',\n",
              "  'busroute1',\n",
              "  'busroute11',\n",
              "  'busroute6',\n",
              "  'busroute_a',\n",
              "  'busroutesall',\n",
              "  'busstopsall',\n",
              "  'census_wake2000',\n",
              "  'censusblk_swwake',\n",
              "  'comm_colleges',\n",
              "  'elev_lid792_bepts',\n",
              "  'elev_lid792_cont1m',\n",
              "  'elev_lid792_randpts',\n",
              "  'elev_lidrural_mrpts',\n",
              "  'elev_lidrural_mrptsft',\n",
              "  'elev_ned10m_cont10m',\n",
              "  'firestations',\n",
              "  'geodetic_pts',\n",
              "  'geodetic_swwake_pts',\n",
              "  'geology',\n",
              "  'geonames_NC',\n",
              "  'geonames_wake',\n",
              "  'hospitals',\n",
              "  'lakes',\n",
              "  'nc_state',\n",
              "  'overpasses',\n",
              "  'poi_names_wake',\n",
              "  'precip_30ynormals',\n",
              "  'precip_30ynormals_3d',\n",
              "  'railroads',\n",
              "  'roadsmajor',\n",
              "  'schools_wake',\n",
              "  'soils_general',\n",
              "  'soils_wake',\n",
              "  'streams',\n",
              "  'streets_wake',\n",
              "  'swwake_10m',\n",
              "  'urbanarea',\n",
              "  'usgsgages',\n",
              "  'zipcodes_wake']}"
            ]
          },
          "metadata": {},
          "execution_count": 43
        }
      ],
      "source": [
        "# List vector elements in the PERMANENT mapset\n",
        "gs.list_grouped(type=\"vector\")"
      ]
    },
    {
      "cell_type": "markdown",
      "source": [
        "Your turn. List all raster maps and then list raster maps matching a name pattern:"
      ],
      "metadata": {
        "id": "pvr0Jx_vNUaU"
      }
    },
    {
      "cell_type": "code",
      "source": [],
      "metadata": {
        "id": "gEfmGB1aNQbv"
      },
      "execution_count": null,
      "outputs": []
    },
    {
      "cell_type": "code",
      "source": [],
      "metadata": {
        "id": "NhUHyvn-NlTl"
      },
      "execution_count": null,
      "outputs": []
    },
    {
      "cell_type": "markdown",
      "source": [
        "### Quick visualizations"
      ],
      "metadata": {
        "id": "4l99X_F5Nm6h"
      }
    },
    {
      "cell_type": "markdown",
      "source": [
        "## Create a new mapset"
      ],
      "metadata": {
        "id": "3j0REOqC_mBM"
      }
    },
    {
      "cell_type": "markdown",
      "metadata": {
        "id": "eywF723J-Eox"
      },
      "source": [
        "Next, we create a new mapset to work with this notebook and import Sentinel-2 data."
      ]
    },
    {
      "cell_type": "code",
      "execution_count": null,
      "metadata": {
        "id": "6CqUfQS1-Eox"
      },
      "outputs": [],
      "source": [
        "# Create a new mapset and switch to it\n",
        "gs.run_command(\"g.mapset\", mapset=\"sentinel2\", flags=\"c\")"
      ]
    },
    {
      "cell_type": "code",
      "execution_count": null,
      "metadata": {
        "id": "jO6WIja_-Eoy"
      },
      "outputs": [],
      "source": [
        "# Check current mapset\n",
        "print(gs.read_command(\"g.mapset\", flags=\"p\"))"
      ]
    },
    {
      "cell_type": "code",
      "execution_count": null,
      "metadata": {
        "id": "nbfWhGiR-Eoy"
      },
      "outputs": [],
      "source": [
        "# Print accessible mapsets within the project\n",
        "print(gs.read_command(\"g.mapsets\", flags=\"p\"))"
      ]
    },
    {
      "cell_type": "markdown",
      "metadata": {
        "id": "L7-_7PeC-Eoy"
      },
      "source": [
        "## Define our area of interest\n",
        "\n",
        "To search for Sentinel 2 images, we need an area of interest. This area can be defined by a vector map or the computational region. Here, will use a map of urban areas that we already have in the PERMANENT mapset to define the region. Since we are interested in the city of Raleigh, we use the function [v.extract](https://grass.osgeo.org/grass-stable/manuals/v.extract.html) to create a new polygon corresponding to that urban area only. Note that in this case we use `run_command()`."
      ]
    },
    {
      "cell_type": "code",
      "execution_count": null,
      "metadata": {
        "id": "Vmp93CP8-Eoz"
      },
      "outputs": [],
      "source": [
        "# Check `urbanarea` vector attributes\n",
        "gs.vector_db_select('urbanarea')['values']"
      ]
    },
    {
      "cell_type": "code",
      "execution_count": null,
      "metadata": {
        "id": "JyDQWb1C-Eoz"
      },
      "outputs": [],
      "source": [
        "# Extract Raleigh urban area from `urbanarea` vector map\n",
        "gs.run_command(\"v.extract\",\n",
        "               input=\"urbanarea\",\n",
        "               where=\"NAME == 'Raleigh'\",\n",
        "               output=\"urban_area_raleigh\")"
      ]
    },
    {
      "cell_type": "code",
      "execution_count": null,
      "metadata": {
        "id": "gOXRIGDJ-Eoz"
      },
      "outputs": [],
      "source": [
        "# show attributes\n",
        "gs.vector_db_select('urban_area_raleigh')['values']"
      ]
    },
    {
      "cell_type": "markdown",
      "metadata": {
        "id": "lXDRefgZ-Eoj"
      },
      "source": [
        "### Computational region\n",
        "\n",
        "Another fundamental concept of GRASS GIS (and very useful when working with raster data) is that of the **computational region**. It refers to the boundary configuration of the analysis area and spatial resolution (raster). The **computational region** can be defined and modified with the command [g.region](https://grass.osgeo.org/grass-stable/manuals/g.region.html) to the extent of a vector map, a raster or manually to some area of interest. The *output raster maps will have an extent and spatial resolution equal to the computational region*, while vector maps are always processed at their original extent.\n",
        "\n",
        "<a href=\"https://raw.githubusercontent.com/veroandreo/foss4g2022_grass4rs/main/assets/img/region.png\">\n",
        "  <img src=\"https://raw.githubusercontent.com/veroandreo/foss4g2022_grass4rs/main/assets/img/region.png\"\n",
        "   alt=\"Computational region\"\n",
        "   title=\"Computational region\"\n",
        "   width=\"50%\">\n",
        "</a>"
      ]
    },
    {
      "cell_type": "markdown",
      "metadata": {
        "id": "gi9qpUPv-Eol"
      },
      "source": [
        "<div class=\"alert alert-info\">For more details, see the wiki on <a href=\"https://grasswiki.osgeo.org/wiki/Computational_region\">Computational Region</a>."
      ]
    },
    {
      "cell_type": "markdown",
      "metadata": {
        "id": "ulvjGDNu-Eoz"
      },
      "source": [
        "We set the computational region to the boundaries of the newly created vector. This will be the bounding box we'll use for the Sentinel scenes search."
      ]
    },
    {
      "cell_type": "code",
      "execution_count": null,
      "metadata": {
        "id": "r9HuTW3u-Eo0"
      },
      "outputs": [],
      "source": [
        "# Set the computational region to the extent of Cordoba urban area\n",
        "region = gs.parse_command(\"g.region\", vector=\"urban_area_raleigh\", flags=\"g\")\n",
        "region"
      ]
    },
    {
      "cell_type": "markdown",
      "metadata": {
        "id": "1HFYY2Rh-Eo0"
      },
      "source": [
        "We now use the `grass.jupyter` functions to display the newly obtained vector over the OpenStreetMap basemap."
      ]
    },
    {
      "cell_type": "code",
      "execution_count": null,
      "metadata": {
        "id": "GCHf1i9L-Eo0",
        "scrolled": true
      },
      "outputs": [],
      "source": [
        "# Display newly created vector\n",
        "raleigh_map = gj.InteractiveMap(width = 500, use_region=True, tiles=\"OpenStreetMap\")\n",
        "raleigh_map.add_vector(\"urban_area_raleigh\")\n",
        "raleigh_map.add_layer_control(position = \"bottomright\")\n",
        "raleigh_map.show()"
      ]
    },
    {
      "cell_type": "markdown",
      "source": [
        "# Download and impoort RS data into GRASS GIS\n",
        "\n",
        "- Different tools"
      ],
      "metadata": {
        "id": "kEi1yhGH_1ZZ"
      }
    },
    {
      "cell_type": "markdown",
      "metadata": {
        "id": "v0_KF8Hh-Eo2"
      },
      "source": [
        "## Sentinel-2 processing overview\n",
        "\n",
        "The [i.sentinel](https://grass.osgeo.org/grass-stable/manuals/addons/i.sentinel.html) toolbox facilitates searching, filtering, downloading, importing and pre-processing Sentinel data, especially Sentinel 2, from a GRASS GIS session. The toolbox consists of six GRASS addon modules:\n",
        "\n",
        "* [i.sentinel.download](https://grass.osgeo.org/grass-stable/manuals/addons/i.sentinel.download.html)\n",
        "* [i.sentinel.import](https://grass.osgeo.org/grass-stable/manuals/addons/i.sentinel.import.html)\n",
        "* [i.sentinel.preproc](https://grass.osgeo.org/grass-stable/manuals/addons/i.sentinel.preproc.html)\n",
        "* [i.sentinel.mask](https://grass.osgeo.org/grass-stable/manuals/addons/i.sentinel.mask.html)\n",
        "* [i.sentinel.coverage](https://grass.osgeo.org/grass-stable/manuals/addons/i.sentinel.coverage.html)\n",
        "* [i.sentinel.parallel.download](https://grass.osgeo.org/grass-stable/manuals/addons/i.sentinel.parallel.download.html)\n",
        "\n",
        "Let's install it:"
      ]
    },
    {
      "cell_type": "code",
      "execution_count": null,
      "metadata": {
        "id": "v7vYSRVL-Eo2"
      },
      "outputs": [],
      "source": [
        "gs.run_command(\"g.extension\", extension=\"i.sentinel\")"
      ]
    },
    {
      "cell_type": "markdown",
      "metadata": {
        "id": "vb-j1BM7-Eo2"
      },
      "source": [
        "Check if the module is there by running it with optional arguments:"
      ]
    },
    {
      "cell_type": "code",
      "execution_count": null,
      "metadata": {
        "id": "v5X5A7F5-Eo2"
      },
      "outputs": [],
      "source": [
        "gs.core.find_program(\"i.sentinel.download\", \"--help\")"
      ]
    },
    {
      "cell_type": "markdown",
      "metadata": {
        "id": "bLAdQtif-Eo2"
      },
      "source": [
        "### Sentinel 2 data search and download"
      ]
    },
    {
      "cell_type": "markdown",
      "metadata": {
        "id": "yaUCVwQq-Eo3"
      },
      "source": [
        "[Sentinel-2 L2A products](https://sentinels.copernicus.eu/de/web/sentinel/user-guides/sentinel-2-msi/product-types/level-2a) will be used to avoid the need of computing atmospheric corrections.\n",
        "\n",
        "Let’s search for the latest available product by means of [i.sentinel.download](https://grass.osgeo.org/grass-stable/manuals/addons/i.sentinel.download.html). Setting the `-l` flag, the result will only\n",
        "be printed. The download procedure will be demonstrated later.\n",
        "\n",
        "In order to search and download Sentinel products from the Copernicus Open Access Hub, you have to create an account first (see below). See the manual page of [i.sentinel.download](https://grass.osgeo.org/grass-stable/manuals/addons/i.sentinel.download.html) module for details. Upload or create a new text\n",
        "file in the data directory (`homedir`) named `esa_credentials.txt` containing two lines: username and password.\n",
        "\n",
        "#### Note\n",
        "\n",
        "To get username and password you need to register at the [Copernicus Open Access Hub](https://scihub.copernicus.eu/), see the [register new account](https://scihub.copernicus.eu/dhus/#/self-registration) page for signing up. Once you registered, create a text file named `esa_credentials.txt`\n",
        "with the following content:\n",
        "```\n",
        "    username\n",
        "    password\n",
        "```\n",
        "and move it within your working directory"
      ]
    },
    {
      "cell_type": "code",
      "execution_count": null,
      "metadata": {
        "id": "IW53tgTeAQur"
      },
      "outputs": [],
      "source": [
        "# We will simply upload the file to Colab\n",
        "# Next code will generate a \"Browse\" button for data upload to Colab\n",
        "from google.colab import files\n",
        "uploaded = files.upload()\n",
        "\n",
        "!mv \"esa_credentials.txt\" $homedir\n",
        "!ls $homedir"
      ]
    },
    {
      "cell_type": "code",
      "execution_count": null,
      "metadata": {
        "id": "KZkv3SSB-Eo3"
      },
      "outputs": [],
      "source": [
        "# list available Sentinel-2 L2A scenes for AOI\n",
        "# note that we use parse_command() in order to intercept the output\n",
        "gs.parse_command(\"i.sentinel.download\",\n",
        "                 flags=\"l\",\n",
        "                 producttype=\"S2MSI2A\",\n",
        "                 map=\"urban_area_raleigh\",\n",
        "                 settings=os.path.join(homedir, \"esa_credentials.txt\"))"
      ]
    },
    {
      "cell_type": "markdown",
      "metadata": {
        "id": "_SkK7rse-Eo3"
      },
      "source": [
        "By default, the module returns all the products meeting the defined criteria for the last 60 days. Let’s change\n",
        "the search period setting `start` and `end` options. We will also limit products by `clouds` coverage percentage\n",
        "threshold and `sort` them by ingestion date."
      ]
    },
    {
      "cell_type": "code",
      "execution_count": null,
      "metadata": {
        "id": "SQMfQ_3W-Eo4"
      },
      "outputs": [],
      "source": [
        "gs.parse_command(\"i.sentinel.download\",\n",
        "                 flags=\"l\",\n",
        "                 producttype=\"S2MSI2A\",\n",
        "                 map=\"urban_area_raleigh\",\n",
        "                 settings=os.path.join(homedir, \"esa_credentials.txt\"),\n",
        "                 start=\"2022-02-01\",\n",
        "                 end=\"2022-05-31\",\n",
        "                 clouds=\"5\",\n",
        "                 sort=\"ingestiondate\",\n",
        "                 limit=10)"
      ]
    },
    {
      "cell_type": "markdown",
      "metadata": {
        "id": "vUBwijc3-Eo4"
      },
      "source": [
        "<div class=\"alert alert-info\"> If a long list of products have been found, you can limit the amount with the <code>limit</code> option as we did above."
      ]
    },
    {
      "cell_type": "markdown",
      "metadata": {
        "id": "pahA0UC7-Eo5"
      },
      "source": [
        "Let's save the output of the search into a list and then beautify the display by creating a pandas table."
      ]
    },
    {
      "cell_type": "code",
      "execution_count": null,
      "metadata": {
        "id": "s9XKx3eN-Eo5"
      },
      "outputs": [],
      "source": [
        "list_prod = gs.read_command(\"i.sentinel.download\",\n",
        "                            flags=\"l\",\n",
        "                            producttype=\"S2MSI2A\",\n",
        "                            map=\"urban_area_raleigh\",\n",
        "                            settings=os.path.join(homedir, \"esa_credentials.txt\"),\n",
        "                            footprints=\"s2_footprints\", # we save the footprints in a vector file\n",
        "                            start=\"2022-02-01\",\n",
        "                            end=\"2022-05-31\",\n",
        "                            clouds=\"5\",\n",
        "                            sort=\"ingestiondate\",\n",
        "                            limit=10)"
      ]
    },
    {
      "cell_type": "code",
      "execution_count": null,
      "metadata": {
        "id": "YPu-TXZc-Eo5"
      },
      "outputs": [],
      "source": [
        "# print plain list\n",
        "list_prod"
      ]
    },
    {
      "cell_type": "code",
      "execution_count": null,
      "metadata": {
        "id": "elJ0tFlk-Eo5"
      },
      "outputs": [],
      "source": [
        "import pandas as pd\n",
        "from io import StringIO\n",
        "\n",
        "pd.read_csv(StringIO(list_prod), delimiter=\" \", usecols=[0, 1, 2, 4, 5, 6, 7],\n",
        "            names=['uuid', 'scene', 'date', 'cloud', 'product', 'size', 'unit'])"
      ]
    },
    {
      "cell_type": "code",
      "execution_count": null,
      "metadata": {
        "id": "RFo02KQn-Eo6"
      },
      "outputs": [],
      "source": [
        "# list available vector maps in sentinel2\n",
        "gs.list_grouped(type=\"vector\")[\"sentinel2\"]"
      ]
    },
    {
      "cell_type": "code",
      "execution_count": null,
      "metadata": {
        "id": "Qpc-kRT9-Eo6"
      },
      "outputs": [],
      "source": [
        "# diplay footprints (you may want to zoom out a bit)\n",
        "fp_map = gj.InteractiveMap(width = 400, use_region=True, tiles=\"OpenStreetMap\")\n",
        "fp_map.add_vector(\"s2_footprints\")\n",
        "fp_map.add_vector(\"urban_area_raleigh\")\n",
        "fp_map.add_layer_control(position = \"bottomright\")\n",
        "fp_map.show()"
      ]
    },
    {
      "cell_type": "markdown",
      "metadata": {
        "id": "rWvF7xJa-Eo6"
      },
      "source": [
        "The next step is to download the scene or scenes of interest. Just remove the `-l` flag and add the `output` option in order to define the path to the output directory where data should be saved.\n",
        "\n",
        "As download might take quite some time, we'll **skip this part** and directly use an already prepared set of smaller, ready to import scenes which we downloaded above. Still, we leave an example below for future reference :)\n",
        "\n",
        "Go to section **\"Importing Sentinel 2 data\"**"
      ]
    },
    {
      "cell_type": "code",
      "execution_count": null,
      "metadata": {
        "id": "XXORfz6I-Eo6"
      },
      "outputs": [],
      "source": [
        "# Example: download of a selected scene (2022-06-17, T15:58:29Z)\n",
        "# gs.run_command(\"i.sentinel.download\",\n",
        "#               settings=s2_credentials,\n",
        "#               uuid=\"cfa30609-5627-4788-b7ff-768e2df99975\",\n",
        "#               output=s2_data)"
      ]
    },
    {
      "cell_type": "markdown",
      "metadata": {
        "id": "aJ3WSl8C-Eo7"
      },
      "source": [
        "### Importing Sentinel-2 data\n",
        "\n",
        "Before importing or linking Sentinel-2 data we print a list of filtered raster files including projection match\n",
        "(1 for match, otherwise 0). If the CRS of the input data differs from that of the current location, you should\n",
        "consider reprojection (`-r`flag) or creating a new location for import.\n",
        "\n",
        "*Important*: Data will be imported into the new location by means of the [i.sentinel.import](https://grass.osgeo.org/grass-stable/manuals/addons/i.sentinel.import.html) tool.\n",
        "The command will, by default, import **all** Sentinel bands from `input` directory recursively.\n",
        "Before importing the data, let’s check content of the input directory by means of the `-p` flag."
      ]
    },
    {
      "cell_type": "code",
      "execution_count": null,
      "metadata": {
        "id": "N0S71gzB-Eo7"
      },
      "outputs": [],
      "source": [
        "# Check list of pre-downloaded Sentinel-2 scenes, with i.sentinel.import (-p: print)\n",
        "gs.parse_command(\"i.sentinel.import\",\n",
        "                 flags=\"p\",\n",
        "                 input=s2_data)"
      ]
    },
    {
      "cell_type": "markdown",
      "metadata": {
        "id": "5jnI0VPD-Eo7"
      },
      "source": [
        "To speed up things, we'll limit the S2 data import to the RGB and NIR bands (2, 3, 4, 8A) in 10 m spatial resolution using the `pattern` option. Let's first print the bands that will be imported:"
      ]
    },
    {
      "cell_type": "code",
      "execution_count": null,
      "metadata": {
        "id": "sQ1-5_Ub-Eo7"
      },
      "outputs": [],
      "source": [
        "# print only to test band selection\n",
        "gs.parse_command(\"i.sentinel.import\",\n",
        "                 flags=\"p\",\n",
        "                 input=s2_data,\n",
        "                 pattern=\"B(02|03|04|08)_10m\")"
      ]
    },
    {
      "cell_type": "markdown",
      "metadata": {
        "id": "NMXmr8Q9-Eo8"
      },
      "source": [
        "By default, input data are imported into GRASS and converted into GRASS native data format.\n",
        "Alternatively, data can be linked if the `-l` flag is provided. It is also\n",
        "useful to import cloud mask vector features (`-c` flag). In addition, we'll use the\n",
        "`register_output` option to produce a timestamp plain text file\n",
        "which will be used later on to create a time series."
      ]
    },
    {
      "cell_type": "code",
      "execution_count": null,
      "metadata": {
        "id": "nGGdYznQ-Eo8"
      },
      "outputs": [],
      "source": [
        "# for S2 import, allow for using 2GB of RAM for faster operations.\n",
        "# (s2_data and s2_timestamps are defined above)\n",
        "# this may take a few minutes...\n",
        "gs.parse_command(\"i.sentinel.import\",\n",
        "                 flags=\"rcsj\",\n",
        "                 input=s2_data,\n",
        "                 pattern=\"B(02|03|04|08)_10m\",\n",
        "                 memory=4000,\n",
        "                 extent=\"input\",\n",
        "                 register_output=s2_timestamps)"
      ]
    },
    {
      "cell_type": "code",
      "execution_count": null,
      "metadata": {
        "id": "6RyYtngl-Eo8"
      },
      "outputs": [],
      "source": [
        "# list selected raster maps\n",
        "gs.list_grouped(type=\"raster\")['sentinel2']"
      ]
    },
    {
      "cell_type": "code",
      "execution_count": null,
      "metadata": {
        "id": "_vULq5y6-Eo8"
      },
      "outputs": [],
      "source": [
        "# check metadata of one of the imported bands\n",
        "gs.raster_info(map=\"T17SQV_20220617T155829_B03_10m\")[\"comments\"]"
      ]
    },
    {
      "cell_type": "code",
      "execution_count": null,
      "metadata": {
        "id": "h7MdCDLw-Eo-"
      },
      "outputs": [],
      "source": [
        "# print timestamp file for inspection\n",
        "with open(s2_timestamps, 'r') as f:\n",
        "    content = f.read()\n",
        "    print(content)\n",
        "    f.close()"
      ]
    },
    {
      "cell_type": "markdown",
      "metadata": {
        "id": "zli4zA12-Eo-"
      },
      "source": [
        "<div class=\"alert alert-success\">\n",
        "<b>Semantic labels</b><br>\n",
        "A fairly new concept within GRASS GIS is semantic labels. These are especially relevant for satellite imagery as they allow us to identify to which sensor and band a given raster corresponds to. These labels are particularly relevant when working with satellite image collections and also when classifying different scenes. We will see it later, but by generating a spectral signature for a given set of bands, it can be re-used to classify another scene as long as the semantic labels are the same. Be ware – although it is possible to re-use spectral signatures to any scene with the same bands, temporal changes (seasons, weather impact) limit their applicability only to scenes obtained more or less at the same time."
      ]
    },
    {
      "cell_type": "markdown",
      "metadata": {
        "id": "ZgMUjFaz-Eo-"
      },
      "source": [
        "### Displaying maps with `grass.jupyter` functions"
      ]
    },
    {
      "cell_type": "code",
      "execution_count": null,
      "metadata": {
        "id": "jUIg8VNP-Eo-"
      },
      "outputs": [],
      "source": [
        "# create Map instance\n",
        "b3_map = gj.Map(width=400)\n",
        "# add a raster, vector and legend to the map\n",
        "b3_map.d_rast(map=\"T17SQV_20220617T155829_B03_10m\")\n",
        "b3_map.d_vect(map=\"lakes\")\n",
        "b3_map.d_legend(raster=\"T17SQV_20220617T155829_B03_10m\",\n",
        "                title=\"Reflectance\",\n",
        "                fontsize=10, at=(70, 93, 80, 90), flags=\"b\")\n",
        "b3_map.d_barscale()\n",
        "# display map\n",
        "b3_map.show()"
      ]
    },
    {
      "cell_type": "code",
      "execution_count": null,
      "metadata": {
        "id": "NS5CQvfy-Eo-"
      },
      "outputs": [],
      "source": [
        "# set color table of bands 4, 3 and 2 to grey\n",
        "gs.run_command(\"r.colors\",\n",
        "               map=\"T17SQV_20220617T155829_B04_10m,T17SQV_20220617T155829_B03_10m,T17SQV_20220617T155829_B02_10m\",\n",
        "               color=\"grey\")"
      ]
    },
    {
      "cell_type": "code",
      "execution_count": null,
      "metadata": {
        "id": "kNm71sOG-Eo-"
      },
      "outputs": [],
      "source": [
        "# color enhancing for RGB composition\n",
        "gs.run_command(\"i.colors.enhance\",\n",
        "               red=\"T17SQV_20220617T155829_B04_10m\",\n",
        "               green=\"T17SQV_20220617T155829_B03_10m\",\n",
        "               blue=\"T17SQV_20220617T155829_B02_10m\",\n",
        "               strength=92)"
      ]
    },
    {
      "cell_type": "code",
      "execution_count": null,
      "metadata": {
        "id": "SaMfhAGz-Eo-"
      },
      "outputs": [],
      "source": [
        "# set region to \"elevation\" map and align to the S2 data\n",
        "gs.run_command(\"g.region\",\n",
        "               raster=\"elevation\",\n",
        "               align=\"T17SQV_20220617T155829_B04_10m\",\n",
        "               flags=\"p\")"
      ]
    },
    {
      "cell_type": "code",
      "execution_count": null,
      "metadata": {
        "id": "s653UeL_-Eo_"
      },
      "outputs": [],
      "source": [
        "# display the enhanced RGB combination\n",
        "rgb = gj.Map(width=400, use_region=True)\n",
        "rgb.d_rgb(red=\"T17SQV_20220617T155829_B04_10m\",\n",
        "          green=\"T17SQV_20220617T155829_B03_10m\",\n",
        "          blue=\"T17SQV_20220617T155829_B02_10m\")\n",
        "rgb.show()"
      ]
    },
    {
      "cell_type": "markdown",
      "metadata": {
        "id": "x2AbGOPQ-Eo_"
      },
      "source": [
        "## 8. Spectral indices of vegetation and water"
      ]
    },
    {
      "cell_type": "markdown",
      "metadata": {
        "id": "pntWR56_-Eo_"
      },
      "source": [
        "We will use i.vi and i.wi (addon) to estimate NDVI and NDWI vegetation and water indices. See [i.vi](https://grass.osgeo.org/grass-stable/manuals/i.vi.html) and [i.wi](https://grass.osgeo.org/grass-stable/manuals/addons/i.wi.html) for more other available indices."
      ]
    },
    {
      "cell_type": "code",
      "execution_count": null,
      "metadata": {
        "id": "eS-dx7V0-Eo_"
      },
      "outputs": [],
      "source": [
        "# estimate vegetation indices\n",
        "gs.run_command(\"i.vi\",\n",
        "               red=\"T17SQV_20220528T155819_B04_10m\",\n",
        "               nir=\"T17SQV_20220528T155819_B08_10m\",\n",
        "               output=\"T17SQV_20220528T155819_NDVI_10m\",\n",
        "               viname=\"ndvi\")\n",
        "\n",
        "# add semantic label\n",
        "gs.run_command(\"r.support\",\n",
        "               map=\"T17SQV_20220528T155819_NDVI_10m\",\n",
        "               semantic_label=\"S2_NDVI\")"
      ]
    },
    {
      "cell_type": "code",
      "execution_count": null,
      "metadata": {
        "id": "kh3ZpRSs-EpA"
      },
      "outputs": [],
      "source": [
        "# install extension\n",
        "gs.run_command(\"g.extension\", extension=\"i.wi\")"
      ]
    },
    {
      "cell_type": "code",
      "execution_count": null,
      "metadata": {
        "id": "-wytvyB0-EpA"
      },
      "outputs": [],
      "source": [
        "# estimate water indices\n",
        "gs.run_command(\"i.wi\",\n",
        "               green=\"T17SQV_20220528T155819_B03_10m\",\n",
        "               nir=\"T17SQV_20220528T155819_B08_10m\",\n",
        "               output=\"T17SQV_20220528T155819_NDWI_10m\",\n",
        "               winame=\"ndwi_mf\")\n",
        "\n",
        "# set ndwi color palette\n",
        "gs.run_command(\"r.colors\", map=\"T17SQV_20220528T155819_NDWI_10m\", color=\"ndwi\")\n",
        "\n",
        "# add semantic label\n",
        "gs.run_command(\"r.support\",\n",
        "               map=\"T17SQV_20220528T155819_NDWI_10m\",\n",
        "               semantic_label=\"S2_NDWI\")"
      ]
    },
    {
      "cell_type": "code",
      "execution_count": null,
      "metadata": {
        "id": "31eivQnm-EpA"
      },
      "outputs": [],
      "source": [
        "# check metadata of NDVI\n",
        "gs.raster_info(map=\"T17SQV_20220528T155819_NDVI_10m\")"
      ]
    },
    {
      "cell_type": "code",
      "execution_count": null,
      "metadata": {
        "id": "sfNPRerJ-EpA"
      },
      "outputs": [],
      "source": [
        "# interactive maps\n",
        "idx_map = gj.InteractiveMap(width = 400, use_region=True, tiles=\"OpenStreetMap\")\n",
        "idx_map.add_raster(\"T17SQV_20220528T155819_NDVI_10m\", opacity=0.7)\n",
        "idx_map.add_raster(\"T17SQV_20220528T155819_NDWI_10m\", opacity=0.7)\n",
        "idx_map.add_layer_control(position = \"bottomright\")\n",
        "idx_map.show()\n",
        "# ... use the layer selector in the corner to enable/disable the NDVI/NDWI layers"
      ]
    },
    {
      "cell_type": "markdown",
      "metadata": {
        "id": "hSM_I10m-EpB"
      },
      "source": [
        "#### GRASS GIS maps as numpy arrays\n",
        "\n",
        "GRASS maps can be read as numpy arrays thanks to the array function of the grass.script library. This facilitates many operations with python libraries that require an array as input. In this case, we demonstrate its use plotting an histogram."
      ]
    },
    {
      "cell_type": "code",
      "execution_count": null,
      "metadata": {
        "id": "COsip-IQ-EpB"
      },
      "outputs": [],
      "source": [
        "# Import required libraries\n",
        "import numpy as np\n",
        "import seaborn as sns\n",
        "import matplotlib.pyplot as plt\n",
        "from grass.script import array as garray\n",
        "\n",
        "# Read NDVI as numpy array\n",
        "ndvi = garray.array(mapname=\"T17SQV_20220528T155819_NDVI_10m\", null=\"nan\")\n",
        "ndwi = garray.array(mapname=\"T17SQV_20220528T155819_NDWI_10m\", null=\"nan\")\n",
        "print(ndvi.shape,ndwi.shape)"
      ]
    },
    {
      "cell_type": "code",
      "execution_count": null,
      "metadata": {
        "id": "C8-xHhJV-EpD",
        "scrolled": true
      },
      "outputs": [],
      "source": [
        "# Plot NDVI and NDWI\n",
        "sns.set_style('darkgrid')\n",
        "fig, axs = plt.subplots(1, 2, figsize=(7, 7))\n",
        "sns.histplot(ax=axs[0], data=ndvi.ravel(), kde=True, color=\"olive\")\n",
        "sns.histplot(ax=axs[1], data=ndwi.ravel(), kde=True, color=\"skyblue\")\n",
        "plt.show()"
      ]
    },
    {
      "cell_type": "markdown",
      "metadata": {
        "id": "0aIUvwCS-EpD"
      },
      "source": [
        "## 10. NDVI time series data processing"
      ]
    },
    {
      "cell_type": "markdown",
      "metadata": {
        "id": "PWP2SSTc-EpD"
      },
      "source": [
        "### A few concepts of time series data processing in GRASS GIS\n",
        "\n",
        "GRASS GIS offers specialized tools for spatio-temporal data\n",
        "processing, see GRASS documentation [temporalintro](https://grass.osgeo.org/grass-stable/manuals/temporalintro.html) for details and the [temporal data processing](https://grasswiki.osgeo.org/wiki/Temporal_data_processing) wiki for examples and a workflow tutorial.\n",
        "\n",
        "GRASS introduces three special data types that are designed to handle time-series:\n",
        "\n",
        "* *Space-time raster datasets* (`strds`) for managing raster map time series.\n",
        "\n",
        "* *Space-time 3D raster datasets* (`str3ds`) for managing 3D raster map time series.\n",
        "\n",
        "* *Space-time vector datasets* (`stvds`) for managing vector map time series.\n",
        "  \n",
        "<a href=\"https://raw.githubusercontent.com/veroandreo/foss4g2022_grass4rs/main/assets/img/tgrass_flowchart.png\">\n",
        "  <img src=\"https://raw.githubusercontent.com/veroandreo/foss4g2022_grass4rs/main/assets/img/tgrass_flowchart.png\"\n",
        "   alt=\"TGRASS flowchart\"\n",
        "   title=\"GRASS flowchart\"\n",
        "   width=\"65%\">\n",
        "</a>\n"
      ]
    },
    {
      "cell_type": "markdown",
      "metadata": {
        "id": "AXxg4C2D-EpE"
      },
      "source": [
        "### Create space-time dataset\n",
        "\n",
        "At this moment a new space-time dataset can be created by means of [t.create](https://grass.osgeo.org/grass-stable/manuals/t.create.html) and all imported Sentinel bands registered with [t.register](https://grass.osgeo.org/grass-stable/manuals/t.register.html) and the timestamps file we created when we imported S2 bands."
      ]
    },
    {
      "cell_type": "code",
      "execution_count": null,
      "metadata": {
        "id": "PuWSfVx1-EpE"
      },
      "outputs": [],
      "source": [
        "gs.run_command(\"t.create\",\n",
        "               output=\"s2_nc\",\n",
        "               title=\"Sentinel L2A - North Carolina\",\n",
        "               desc=\"Tile T17SQV - 2022\")\n",
        "\n",
        "gs.run_command(\"t.register\",\n",
        "               input=\"s2_nc\",\n",
        "               file=s2_timestamps)"
      ]
    },
    {
      "cell_type": "markdown",
      "metadata": {
        "id": "Qk57ZEgX-EpG"
      },
      "source": [
        "Let’s check basic metadata with [t.info](https://grass.osgeo.org/grass-stable/manuals/t.info.html) and list the registered maps with [t.rast.list](https://grass.osgeo.org/grass-stable/manuals/t.rast.list.html)."
      ]
    },
    {
      "cell_type": "code",
      "execution_count": null,
      "metadata": {
        "id": "C71QrIK_-EpG"
      },
      "outputs": [],
      "source": [
        "# Print time series info\n",
        "print(gs.read_command(\"t.info\", input=\"s2_nc\"))"
      ]
    },
    {
      "cell_type": "code",
      "execution_count": null,
      "metadata": {
        "id": "Ah4tHjt6-EpG"
      },
      "outputs": [],
      "source": [
        "# List registered bands in the space-time cube\n",
        "print(gs.read_command(\"t.rast.list\",\n",
        "                      input=\"s2_nc\",\n",
        "                      columns=\"name,start_time,semantic_label\"))"
      ]
    },
    {
      "cell_type": "markdown",
      "metadata": {
        "id": "6Byux5iQ-EpG"
      },
      "source": [
        "We'll now use a special syntaxis to list only band 4 raster maps withing the time series:"
      ]
    },
    {
      "cell_type": "code",
      "execution_count": null,
      "metadata": {
        "id": "hKFJ7HA7-EpH"
      },
      "outputs": [],
      "source": [
        "# List only band 4 maps\n",
        "print(gs.read_command(\"t.rast.list\",\n",
        "                      input=\"s2_nc.S2_4\",\n",
        "                      columns=\"name,start_time,semantic_label\"))"
      ]
    },
    {
      "cell_type": "markdown",
      "metadata": {
        "id": "vDCqmxtP-EpH"
      },
      "source": [
        "### NDVI Space-Time computation\n",
        "\n",
        "For NDVI computation the 4th and 8th bands are required, as we saw above for a single map.\n",
        "Now, we will create a time series of NDVI maps. We will take advantage of the semantic labels syntax and use\n",
        "[t.rast.mapcalc](https://grass.osgeo.org/grass-stable/manuals/t.rast.mapcalc.html) to estimate NDVI for all the timestamps in the time series, using band 4 and 8 subsets."
      ]
    },
    {
      "cell_type": "code",
      "execution_count": null,
      "metadata": {
        "id": "oNzIXrPO-EpH"
      },
      "outputs": [],
      "source": [
        "gs.run_command(\"t.rast.mapcalc\",\n",
        "               inputs=\"s2_nc.S2_8,s2_nc.S2_4\",\n",
        "               output=\"s2_ndvi\",\n",
        "               basename=\"s2_ndvi\",\n",
        "               expression=\"float(s2_nc.S2_8 - s2_nc.S2_4) / (s2_nc.S2_8 + s2_nc.S2_4)\")"
      ]
    },
    {
      "cell_type": "markdown",
      "metadata": {
        "id": "Se67v8uZ-EpH"
      },
      "source": [
        "When computation is finished, the *ndvi* color table can be set with [t.rast.colors](https://grass.osgeo.org/grass-stable/manuals/t.rast.colors.html):"
      ]
    },
    {
      "cell_type": "code",
      "execution_count": null,
      "metadata": {
        "id": "40mvfPh2-EpH"
      },
      "outputs": [],
      "source": [
        "gs.run_command(\"t.rast.colors\", input=\"s2_ndvi\", color=\"ndvi\")"
      ]
    },
    {
      "cell_type": "code",
      "execution_count": null,
      "metadata": {
        "id": "kcSNLz8D-EpI"
      },
      "outputs": [],
      "source": [
        "print(gs.read_command(\"t.info\", input=\"s2_ndvi\"))"
      ]
    },
    {
      "cell_type": "markdown",
      "metadata": {
        "id": "T4_xr0KD-EpI"
      },
      "source": [
        "### Time series plots"
      ]
    },
    {
      "cell_type": "markdown",
      "metadata": {
        "id": "kVtqOvew-EpI"
      },
      "source": [
        "Let’s check content of the new dataset by means of [t.rast.list](https://grass.osgeo.org/grass-stable/manuals/t.rast.list.html):"
      ]
    },
    {
      "cell_type": "code",
      "execution_count": null,
      "metadata": {
        "id": "Ps-boOPL-EpI"
      },
      "outputs": [],
      "source": [
        "print(gs.read_command(\"t.rast.list\",\n",
        "                      input=\"s2_ndvi\",\n",
        "                      columns=\"name,start_time,min,max\"))"
      ]
    },
    {
      "cell_type": "markdown",
      "metadata": {
        "id": "9Eiz113e-EpI"
      },
      "source": [
        "If we save the previous output to a file, we can then plot the min and max time series:"
      ]
    },
    {
      "cell_type": "code",
      "execution_count": null,
      "metadata": {
        "id": "jqo3M0Va-EpJ"
      },
      "outputs": [],
      "source": [
        "gs.run_command(\"t.rast.list\",\n",
        "                input=\"s2_ndvi\",\n",
        "                columns=\"name,start_time,min,max\",\n",
        "                format=\"csv\",\n",
        "                separator=\"comma\",\n",
        "                output=os.path.join(homedir,\"ndvi.csv\"))"
      ]
    },
    {
      "cell_type": "code",
      "execution_count": null,
      "metadata": {
        "id": "U90egKeJ-EpO"
      },
      "outputs": [],
      "source": [
        "# Read the csv and plot\n",
        "ndvi = pd.read_csv(os.path.join(homedir,\"ndvi.csv\"))\n",
        "ndvi.plot(0, [2,3], subplots=False)"
      ]
    },
    {
      "cell_type": "markdown",
      "metadata": {
        "id": "b3XkKm65-EpO"
      },
      "source": [
        "We could also use [t.rast.univar](https://grass.osgeo.org/grass-stable/manuals/t.rast.univar.html) to obtain extended statistics:"
      ]
    },
    {
      "cell_type": "code",
      "execution_count": null,
      "metadata": {
        "id": "jkPF5Vx5-EpO"
      },
      "outputs": [],
      "source": [
        "# Get extended univar stats and save them as a csv file\n",
        "gs.run_command(\"t.rast.univar\",\n",
        "                flags=\"e\",\n",
        "                input=\"s2_ndvi\",\n",
        "                output=os.path.join(homedir,\"ndvi_ext_stats.csv\"),\n",
        "                separator=\"comma\")"
      ]
    },
    {
      "cell_type": "code",
      "execution_count": null,
      "metadata": {
        "id": "8_PIfarz-EpO"
      },
      "outputs": [],
      "source": [
        "# Read the csv and plot\n",
        "ndvi = pd.read_csv(os.path.join(homedir,\"ndvi_ext_stats.csv\"))\n",
        "ndvi['start'] = pd.to_datetime(ndvi.start, format=\"%Y-%m-%d\", exact=False)\n",
        "ndvi.plot.line(1, [3,4,5], subplots=False)"
      ]
    },
    {
      "cell_type": "markdown",
      "metadata": {
        "id": "V7_qNJzz-EpO"
      },
      "source": [
        "### Query time series in a single point\n",
        "\n",
        "`g.region` command allows us to get the coordinates of the center of the computational region, we'll use those to query the NDVI time series."
      ]
    },
    {
      "cell_type": "code",
      "execution_count": null,
      "metadata": {
        "id": "SbySbc13-EpO"
      },
      "outputs": [],
      "source": [
        "# Get region center coordinates for query (center_easting, center_northing values)\n",
        "gs.region(complete=True)"
      ]
    },
    {
      "cell_type": "code",
      "execution_count": null,
      "metadata": {
        "id": "7YJm7Zqx-EpP"
      },
      "outputs": [],
      "source": [
        "# Query map at center coordinates\n",
        "print(gs.read_command(\"t.rast.what\",\n",
        "                      strds=\"s2_ndvi\",\n",
        "                      coordinates=\"637500,221750\",\n",
        "                      layout=\"col\",\n",
        "                      flags=\"n\"))"
      ]
    },
    {
      "cell_type": "markdown",
      "metadata": {
        "id": "VbC27nTq-EpP"
      },
      "source": [
        "### Time series animation\n",
        "\n",
        "Note: [TimeSeriesMap()](https://grass.osgeo.org/grass-stable/manuals/libpython/grass.jupyter.html?highlight=timeseriesmap#module-grass.jupyter.timeseriesmap) of `grass.jupyter` is still experimental and under development."
      ]
    },
    {
      "cell_type": "code",
      "execution_count": null,
      "metadata": {
        "id": "6ucOzghP-EpP"
      },
      "outputs": [],
      "source": [
        "### YET TO BE SKIPPED - in GRASS GIS 8.2.0 it takes \"forever\", bugfix pending.\n",
        "\n",
        "## reduce resolution for faster display of time series, save original first for later\n",
        "#gs.parse_command(\"g.region\", save=\"default_res\")\n",
        "#gs.parse_command(\"g.region\", flags=\"pa\", res=50)\n",
        "\n",
        "## Display newly created NDVI time series map\n",
        "#ndviseries = gj.TimeSeriesMap(use_region=True)\n",
        "#ndviseries.add_raster_series(\"s2_ndvi\", fill_gaps=False)\n",
        "#ndviseries.d_legend(color=\"black\", at=(10,40,2,6))\n",
        "#ndviseries.d_barscale()\n",
        "#ndviseries.show()  # Create TimeSlider\n",
        "\n",
        "# optionally, write out to animated GIF\n",
        "# ndviseries.save(\"image.gif\")"
      ]
    },
    {
      "cell_type": "code",
      "execution_count": null,
      "metadata": {
        "id": "V4Q35_Cr-EpQ"
      },
      "outputs": [],
      "source": [
        "## restore original region\n",
        "#gs.parse_command(\"g.region\", region=\"default_res\")"
      ]
    },
    {
      "cell_type": "markdown",
      "metadata": {
        "id": "UA7jsvG4-EpQ"
      },
      "source": [
        "## 11. Creating an image stack (imagery group)\n",
        "\n",
        "**Stack of maps = imagery group**\n",
        "\n",
        "When you work with a stack of raster maps (e.g., R-G-B channels or more) in GRASS GIS, you can best handle this stack by creating a raster group with [i.group](https://grass.osgeo.org/grass-stable/manuals/i.group.html). It is just based on metadata, so it does not take up more disk space."
      ]
    },
    {
      "cell_type": "code",
      "execution_count": null,
      "metadata": {
        "id": "PbnjpzJh-EpQ"
      },
      "outputs": [],
      "source": [
        "# Since imagery groups can not be overwritten,\n",
        "# we delete a potentially leftover \"s2\" group from a previous run\n",
        "gs.run_command(\"g.remove\",\n",
        "               type=\"group\",\n",
        "               name=\"s2\",\n",
        "               flags=\"f\")"
      ]
    },
    {
      "cell_type": "code",
      "execution_count": null,
      "metadata": {
        "id": "4V86Qc3W-EpR"
      },
      "outputs": [],
      "source": [
        "# Generate list of selected S2 maps\n",
        "s2_maps = gs.list_grouped(type=\"raster\", pattern=\"*20220528T155819*\")['sentinel2']\n",
        "print(s2_maps)"
      ]
    },
    {
      "cell_type": "code",
      "execution_count": null,
      "metadata": {
        "id": "U3V1aAGC-EpR"
      },
      "outputs": [],
      "source": [
        "# Create group and subgroup with S2 bands\n",
        "gs.run_command(\"i.group\", group=\"s2\", subgroup=\"s2\", input=s2_maps)\n",
        "print(gs.read_command(\"i.group\", group=\"s2\", flags=\"l\"))"
      ]
    },
    {
      "cell_type": "markdown",
      "metadata": {
        "id": "jPFjOu3A-EpS"
      },
      "source": [
        "## 12. Object recognition with image segmentation"
      ]
    },
    {
      "cell_type": "markdown",
      "metadata": {
        "id": "g2DMx7c7-EpT"
      },
      "source": [
        "We'll use [i.segment](https://grass.osgeo.org/grass-stable/manuals/i.segment.html) to perform image segmentation. The resulting map will be used together with S2 bands, NDVI and NDWI to perform supervised classification."
      ]
    },
    {
      "cell_type": "code",
      "execution_count": null,
      "metadata": {
        "id": "VmOiwyaG-EpT"
      },
      "outputs": [],
      "source": [
        "# Threshold = 0 merges only identical segments; threshold = 1 merges all\n",
        "gs.run_command(\"i.segment\",\n",
        "               group=\"s2\",\n",
        "               threshold=\"0.05\",\n",
        "               minsize=\"100\",\n",
        "               output=\"sentinel_segments_min100\",\n",
        "               goodness=\"sentinel_segments_goodness_min100\",\n",
        "               memory=2000)"
      ]
    },
    {
      "cell_type": "code",
      "execution_count": null,
      "metadata": {
        "id": "3futaYO1-EpT"
      },
      "outputs": [],
      "source": [
        "# Display newly created segments raster map\n",
        "segments = gj.InteractiveMap(width = 400, use_region=True)\n",
        "segments.add_raster(\"sentinel_segments_min100\", opacity=0.3)\n",
        "segments.add_raster(\"s2_ndvi_4\", opacity=0.3)\n",
        "segments.add_layer_control(position = \"bottomright\")\n",
        "segments.show()"
      ]
    },
    {
      "cell_type": "code",
      "execution_count": null,
      "metadata": {
        "id": "HADeA7zw-EpT"
      },
      "outputs": [],
      "source": [
        "# Show univariate statistics of goodness-of-fit raster map, with extended statistics (quartiles)\n",
        "print(gs.read_command(\"r.univar\",\n",
        "                      map=\"sentinel_segments_goodness_min100\",\n",
        "                      flags=\"ge\"))"
      ]
    },
    {
      "cell_type": "code",
      "execution_count": null,
      "metadata": {
        "id": "en7G8Ehd-EpT"
      },
      "outputs": [],
      "source": [
        "# Assign color table (low fit values: blue; high fit values: green)\n",
        "gs.run_command(\"r.colors\",\n",
        "               map=\"sentinel_segments_goodness_min100\",\n",
        "               color=\"byg\",\n",
        "               flags=\"e\")"
      ]
    },
    {
      "cell_type": "code",
      "execution_count": null,
      "metadata": {
        "id": "_yXCrcqp-EpU"
      },
      "outputs": [],
      "source": [
        "# Display newly created goodness-of-fit raster map\n",
        "segments = gj.InteractiveMap(width = 400, use_region=True)\n",
        "segments.add_raster(\"sentinel_segments_goodness_min100\", opacity=0.8)\n",
        "segments.add_vector(\"urban_area_raleigh\")\n",
        "segments.add_layer_control(position = \"bottomright\")\n",
        "segments.show()"
      ]
    },
    {
      "cell_type": "markdown",
      "metadata": {
        "id": "h0fjdphj-EpU"
      },
      "source": [
        "## 13. Supervised Classification: RandomForest\n",
        "\n",
        "We will now demonstrate a very much simplified workflow to perform a supervised [Random Forest classification](https://en.wikipedia.org/wiki/Random_forest).\n",
        "\n",
        "We will feed the following data into the model:\n",
        "\n",
        "- NDVI and NDWI maps (created above)\n",
        "- image segmentation (created above)\n",
        "- random training points extracted from landuse map\n",
        "\n",
        "First we inspect the raster maps available in the current mapset (i.e., `sentinel2`), just to recall their names."
      ]
    },
    {
      "cell_type": "code",
      "execution_count": null,
      "metadata": {
        "id": "RFqfDJ4o-EpU"
      },
      "outputs": [],
      "source": [
        "gs.list_grouped(type=\"raster\")[\"sentinel2\"]"
      ]
    },
    {
      "cell_type": "markdown",
      "metadata": {
        "id": "77ekPYXi-EpU"
      },
      "source": [
        "### Creation of a classification training map by sampling from existing data\n",
        "\n",
        "In order to generate training data for the Sentinel-2 image classification, we will use the [National Land Cover Database (NLCD) 2019](https://www.lib.ncsu.edu/gis/lulc). It is available for download (30m raster map) from [here](https://drive.google.com/open?id=18D99kuotQp_BkxBnkn8OS3qgCeLVwovb&authuser=0). However, we have already prepared the dataset (the `nc_nlcd2019` landuse map). We will use it to perform stratified sampling to retrieve training data."
      ]
    },
    {
      "cell_type": "code",
      "execution_count": null,
      "metadata": {
        "id": "LjpybFcN-Eox"
      },
      "outputs": [],
      "source": [
        "# Import the North Carolina NLCD2019 raster map (subset; resampled to 10m)\n",
        "gs.run_command(\"r.unpack\", input=os.path.join(homedir, \"nc_nlcd2019.pack\"))"
      ]
    },
    {
      "cell_type": "code",
      "execution_count": null,
      "metadata": {
        "id": "Z7z4F7y9-EpV"
      },
      "outputs": [],
      "source": [
        "# Check raster categories of landuse map\n",
        "print(gs.read_command(\"r.category\",\n",
        "                      map=\"nc_nlcd2019\",\n",
        "                      separator=\"comma\"))"
      ]
    },
    {
      "cell_type": "code",
      "execution_count": null,
      "metadata": {
        "id": "m0JOWn6Q-EpV"
      },
      "outputs": [],
      "source": [
        "# display nc_nlcd2019 landuse raster map\n",
        "lulc = gj.InteractiveMap(width = 400, use_region=True, tiles=\"OpenStreetMap\")\n",
        "lulc.add_raster(\"nc_nlcd2019\", opacity=0.6)\n",
        "lulc.add_layer_control(position = \"bottomright\")\n",
        "lulc.show()"
      ]
    },
    {
      "cell_type": "markdown",
      "metadata": {
        "id": "2O0ySz5r-EpV"
      },
      "source": [
        "We already note differences between the underlying OpenStreetMap data and the 30m NLCD map."
      ]
    },
    {
      "cell_type": "code",
      "execution_count": null,
      "metadata": {
        "id": "ZktjJ3ie-EpW"
      },
      "outputs": [],
      "source": [
        "# show simple legend\n",
        "legend = gj.Map(width=400, use_region=True)\n",
        "# at=bottom,top,left,right, percentage of screen coordinates (0,0 is lower left)\n",
        "legend.d_legend(raster=\"nc_nlcd2019\",\n",
        "                title=\"Classes\",\n",
        "                fontsize=10, at=(10, 90, 50, 90),\n",
        "                flags=\"n\")\n",
        "legend.show()"
      ]
    },
    {
      "cell_type": "markdown",
      "metadata": {
        "id": "hLfbJJ9Q-EpW"
      },
      "source": [
        "### Random sampling from rasterized simplified landuse map\n",
        "\n",
        "We now perform stratified sampling, i.e. we extract for each land use class `n` sampling points, using the GRASS GIS addon [r.sample.category](https://grass.osgeo.org/grass-stable/manuals/addons/r.sample.category.html).\n",
        "\n",
        "First, we install this addon."
      ]
    },
    {
      "cell_type": "code",
      "execution_count": null,
      "metadata": {
        "id": "M0GR2J5v-EpW"
      },
      "outputs": [],
      "source": [
        "gs.run_command(\"g.extension\", extension=\"r.sample.category\")"
      ]
    },
    {
      "cell_type": "code",
      "execution_count": null,
      "metadata": {
        "id": "9Vu-UoaK-EpW"
      },
      "outputs": [],
      "source": [
        "# Stratified random sampling, generated vector points\n",
        "gs.run_command(\"r.sample.category\",\n",
        "               input=\"nc_nlcd2019\",\n",
        "               output=\"landuse_train\",\n",
        "               n=\"100\")"
      ]
    },
    {
      "cell_type": "code",
      "execution_count": null,
      "metadata": {
        "id": "-sdyaU9b-EpX"
      },
      "outputs": [],
      "source": [
        "# display newly created vector points map\n",
        "train = gj.InteractiveMap(width = 400, use_region=True)\n",
        "train.add_raster(\"nc_nlcd2019\", opacity=0.7)\n",
        "train.add_vector(\"landuse_train\")\n",
        "train.add_layer_control(position = \"bottomright\")\n",
        "train.show()"
      ]
    },
    {
      "cell_type": "code",
      "execution_count": null,
      "metadata": {
        "id": "kfX3n9IZ-EpX"
      },
      "outputs": [],
      "source": [
        "# List column names of vector points map\n",
        "gs.vector_columns(\"landuse_train\",\n",
        "                  getDict=False)"
      ]
    },
    {
      "cell_type": "code",
      "execution_count": null,
      "metadata": {
        "id": "ohdR3WB0-EpX"
      },
      "outputs": [],
      "source": [
        "# Show vector attribute table\n",
        "gs.vector_db_select(\"landuse_train\")"
      ]
    },
    {
      "cell_type": "code",
      "execution_count": null,
      "metadata": {
        "id": "QHHE_zJs-EpX"
      },
      "outputs": [],
      "source": [
        "# Check column data types\n",
        "print(gs.read_command(\"v.info\", map=\"landuse_train\", flags=\"c\"))"
      ]
    },
    {
      "cell_type": "markdown",
      "metadata": {
        "id": "LKANcDbm-EpX"
      },
      "source": [
        "Since the machine learning classifier expects raster points as input, we convert the vector sampling points accordingly using  [v.to.rast](https://grass.osgeo.org/grass-stable/manuals/v.to.rast.html)."
      ]
    },
    {
      "cell_type": "code",
      "execution_count": null,
      "metadata": {
        "id": "-alwlINW-EpX"
      },
      "outputs": [],
      "source": [
        "# Convert points from vector to raster model\n",
        "gs.run_command(\"v.to.rast\",\n",
        "               input=\"landuse_train\",\n",
        "               output=\"landuse_train\",\n",
        "               use=\"attr\",\n",
        "               attribute_column=\"nc_nlcd2019\",\n",
        "               label_column=\"label\")"
      ]
    },
    {
      "cell_type": "code",
      "execution_count": null,
      "metadata": {
        "id": "lfSgbVaI-EpX"
      },
      "outputs": [],
      "source": [
        "# Check raster categories of new raster training map\n",
        "# Skip reporting on empty cells\n",
        "print(gs.read_command(\"r.report\",\n",
        "                      map=\"landuse_train\",\n",
        "                      flags=\"n\"))"
      ]
    },
    {
      "cell_type": "code",
      "execution_count": null,
      "metadata": {
        "id": "HDXYiIkS-EpX"
      },
      "outputs": [],
      "source": [
        "# Display newly created raster map - zoom in to better spot the raster sampling points\n",
        "train = gj.InteractiveMap(width = 400, use_region=True)\n",
        "train.add_raster(\"landuse_train\", opacity=0.8)\n",
        "train.add_layer_control(position = \"bottomright\")\n",
        "train.show()"
      ]
    },
    {
      "cell_type": "markdown",
      "metadata": {
        "id": "LyJx_iYH-EpY"
      },
      "source": [
        "### Perform machine learning model training (RandomForest)\n",
        "\n",
        "First we have to install the [r.learn.ml2](https://grass.osgeo.org/grass-stable/manuals/addons/r.learn.ml2.html) extention. It consists of two modules: `r.learn.train` and `r.learn.predict`."
      ]
    },
    {
      "cell_type": "code",
      "execution_count": null,
      "metadata": {
        "id": "bvLBJiul-EpY"
      },
      "outputs": [],
      "source": [
        "# Install ML extension\n",
        "gs.run_command(\"g.extension\", extension=\"r.learn.ml2\")"
      ]
    },
    {
      "cell_type": "code",
      "execution_count": null,
      "metadata": {
        "id": "B2O333O0-EpY"
      },
      "outputs": [],
      "source": [
        "# Add segmentation map created above to group and subgroup already populated with S2 bands, NDWI and NDVI\n",
        "gs.run_command(\"i.group\",\n",
        "               group=\"s2\",\n",
        "               subgroup=\"s2\",\n",
        "               input=\"sentinel_segments_min100\")\n",
        "\n",
        "# List group content\n",
        "print(gs.read_command(\"i.group\", group=\"s2\", flags=\"l\"))"
      ]
    },
    {
      "cell_type": "markdown",
      "metadata": {
        "id": "CydZ-qAK-EpY"
      },
      "source": [
        "We now train the ML model using [r.learn.train](https://grass.osgeo.org/grass-stable/manuals/addons/r.learn.train.html), with model \"RandomForestClassifier\"."
      ]
    },
    {
      "cell_type": "code",
      "execution_count": null,
      "metadata": {
        "id": "9RIQqWGT-EpZ"
      },
      "outputs": [],
      "source": [
        "# Train a random forest classification model using r.learn.train\n",
        "gs.run_command(\"r.learn.train\",\n",
        "               group=\"s2\",\n",
        "               training_map=\"landuse_train\",\n",
        "               model_name=\"RandomForestClassifier\",\n",
        "               n_estimators=\"500\",\n",
        "               save_model=os.path.join(homedir, \"rf_model.gz\"))"
      ]
    },
    {
      "cell_type": "markdown",
      "metadata": {
        "id": "5FEJSRkB-EpZ"
      },
      "source": [
        " The model has been stored in the file `rf_model.gz` for use in the prediction step of the supervised classification."
      ]
    },
    {
      "cell_type": "code",
      "execution_count": null,
      "metadata": {
        "id": "76AguR7C-EpZ"
      },
      "outputs": [],
      "source": [
        "os.listdir(homedir)"
      ]
    },
    {
      "cell_type": "markdown",
      "metadata": {
        "id": "qV_0531n-EpZ"
      },
      "source": [
        "### Perform ML supervised classification\n",
        "\n",
        "The trained model will now be applied to the entire dataset."
      ]
    },
    {
      "cell_type": "code",
      "execution_count": null,
      "metadata": {
        "id": "xv34qeuT-EpZ"
      },
      "outputs": [],
      "source": [
        "# Perform prediction using r.learn.predict\n",
        "gs.run_command(\"r.learn.predict\",\n",
        "               group=\"s2\",\n",
        "               load_model=os.path.join(homedir, \"rf_model.gz\"),\n",
        "               output=\"sentinel_rf\")"
      ]
    },
    {
      "cell_type": "code",
      "execution_count": null,
      "metadata": {
        "id": "9QL3svfc-Epa"
      },
      "outputs": [],
      "source": [
        "# Set color table, we transfer the colors from the original landuse map\n",
        "gs.run_command(\"r.colors\", map=\"sentinel_rf\", raster=\"nc_nlcd2019\")"
      ]
    },
    {
      "cell_type": "markdown",
      "metadata": {
        "id": "0wSd7RvT-Epa"
      },
      "source": [
        "With this, the (oversimplified) supervised classification has been completed and we can display the result."
      ]
    },
    {
      "cell_type": "markdown",
      "metadata": {
        "id": "2zDzaMsH-Epb"
      },
      "source": [
        "### Reporting and display"
      ]
    },
    {
      "cell_type": "code",
      "execution_count": null,
      "metadata": {
        "id": "dRRhBb4D-Epc"
      },
      "outputs": [],
      "source": [
        "# Display newly created sentinel_rf map\n",
        "rfmap = gj.InteractiveMap(width = 600, tiles=\"OpenStreetMap\")\n",
        "rfmap.add_raster(\"sentinel_rf\", opacity=0.7)\n",
        "# rfmap.add_raster(\"nc_nlcd2019\", opacity=0.7)\n",
        "rfmap.add_layer_control(position = \"bottomright\")\n",
        "rfmap.show()"
      ]
    },
    {
      "cell_type": "code",
      "execution_count": null,
      "metadata": {
        "id": "2ywUeOUu-Epc"
      },
      "outputs": [],
      "source": [
        "# Show legend\n",
        "legend = gj.Map(width=400, use_region=True)\n",
        "legend.d_legend(raster=\"sentinel_rf\",\n",
        "                title=\"Classes\",\n",
        "                fontsize=14,\n",
        "                at=(10, 80, 10, 40),\n",
        "                flags=\"n\")\n",
        "legend.show()"
      ]
    },
    {
      "cell_type": "code",
      "execution_count": null,
      "metadata": {
        "id": "AlFdOru_-Epc"
      },
      "outputs": [],
      "source": [
        "# Show class distribution in percent\n",
        "print(gs.read_command(\"r.report\",\n",
        "                      map=\"sentinel_rf\",\n",
        "                      units=\"p\",\n",
        "                      flags=\"h\"))"
      ]
    },
    {
      "cell_type": "code",
      "execution_count": null,
      "metadata": {
        "id": "oElgKJCV-Epd"
      },
      "outputs": [],
      "source": [
        "# export map to GTiff (COG requires GDAL 3.1)\n",
        "gs.run_command(\"r.out.gdal\",\n",
        "               flags=\"fmt\", #\n",
        "               input=\"sentinel_rf\",\n",
        "               output=os.path.join(homedir, \"nc_sentinel2_RF.tif\"),\n",
        "               format=\"GTiff\",\n",
        "               overviews=\"4\")"
      ]
    },
    {
      "cell_type": "markdown",
      "metadata": {
        "id": "rSqudtvn-Epd"
      },
      "source": [
        "Keep in mind, this classification was just a simplified example to show how the procedure works.\n",
        "\n",
        "At this moment you should use [r.kappa](https://grass.osgeo.org/grass-stable/manuals/r.kappa.html) to calculate accuracy of classification. As this step would require either field observation data or manual interpretation of the scene, we'll leave this as an exercise to do at home."
      ]
    },
    {
      "cell_type": "markdown",
      "metadata": {
        "id": "Ukj1WQF2-Epe"
      },
      "source": [
        "## 14. Supervised Classification: Maximum Likelihood\n",
        "\n",
        "We will now demonstrate the workflow to perform a supervised maximum likelihood classification which is integrated with the semantic labels metadata class, and hence allow us to use the same spectral signature to classify multiple scenes as long as the raster map order in the group is the same."
      ]
    },
    {
      "cell_type": "markdown",
      "metadata": {
        "id": "fdup9oOA-Epe"
      },
      "source": [
        "Let's first check the semantic labels of the bands in our `s2` group:"
      ]
    },
    {
      "cell_type": "code",
      "execution_count": null,
      "metadata": {
        "id": "nvUOJQAu-Epe"
      },
      "outputs": [],
      "source": [
        "band_list = gs.read_command(\"i.group\", group=\"s2\", flags=\"lg\")"
      ]
    },
    {
      "cell_type": "code",
      "execution_count": null,
      "metadata": {
        "id": "1AlAoOjK-Epf"
      },
      "outputs": [],
      "source": [
        "# Add semantic label to the segmentation\n",
        "gs.run_command(\"r.support\",\n",
        "               map=\"sentinel_segments_min100\",\n",
        "               semantic_label=\"S2_seg\")"
      ]
    },
    {
      "cell_type": "code",
      "execution_count": null,
      "metadata": {
        "id": "KazIouq8-Epf"
      },
      "outputs": [],
      "source": [
        "for m in band_list.split():\n",
        "    sl = gs.raster_info(m)['semantic_label']\n",
        "    print(m,sl)"
      ]
    },
    {
      "cell_type": "markdown",
      "metadata": {
        "id": "BwkX6uBK-Epf"
      },
      "source": [
        "Now, we generate the signature file based on the training sample that we obtained earlier, this will then be the input for the maximum likelihood classification"
      ]
    },
    {
      "cell_type": "code",
      "execution_count": null,
      "metadata": {
        "id": "5j-d1Ljp-Epf"
      },
      "outputs": [],
      "source": [
        "# obtain signature files\n",
        "gs.run_command(\"i.gensig\",\n",
        "               trainingmap=\"landuse_train\",\n",
        "               group=\"s2\",\n",
        "               subgroup=\"s2\",\n",
        "               signaturefile=\"sig_sentinel\")"
      ]
    },
    {
      "cell_type": "code",
      "execution_count": null,
      "metadata": {
        "id": "WmsjrPp5-Epf"
      },
      "outputs": [],
      "source": [
        "# perform ML supervised classification\n",
        "gs.run_command(\"i.maxlik\",\n",
        "               group=\"s2\",\n",
        "               subgroup=\"s2\",\n",
        "               signaturefile=\"sig_sentinel\",\n",
        "               output=\"sentinel_maxlik\")"
      ]
    },
    {
      "cell_type": "code",
      "execution_count": null,
      "metadata": {
        "id": "9HBHdgqM-Epf"
      },
      "outputs": [],
      "source": [
        "# check classes\n",
        "print(gs.read_command(\"r.category\",\n",
        "                      map=\"sentinel_maxlik\",\n",
        "                      separator=\"comma\"))"
      ]
    },
    {
      "cell_type": "markdown",
      "metadata": {
        "id": "r_XAK5jx-Epf"
      },
      "source": [
        "In GRASS 8.2+, [i.maxlik](https://grass.osgeo.org/grass-stable/manuals/i.maxlik.html) classifier does not preserve the original class values in the output. Thus, here is a lookup-table for original class numbers and new category values:\n",
        "\n",
        "class|nlcd_class|landuse|RGB\n",
        "--- | --- | --- | ---\n",
        "1|11|Open Water|072:109:162\n",
        "2|21|Developed, Open Space|225:205:206\n",
        "3|22|Developed, Low Intensity|220:152:129\n",
        "4|23|Developed, Medium Intensity|241:001:000\n",
        "5|24|Developed, High Intensity|171:001:001\n",
        "6|41|Deciduous Forest|108:169:102\n",
        "7|42|Evergreen Forest|029:101:051\n",
        "8|43|Mixed Forest|189:204:147\n",
        "9|81|Hay/Pasture|221:216:062\n",
        "10|90|Woody Wetlands|187:215:237"
      ]
    },
    {
      "cell_type": "code",
      "execution_count": null,
      "metadata": {
        "id": "w5BWlDzh-Epg"
      },
      "outputs": [],
      "source": [
        "# Set color table\n",
        "colours = [\"1 072:109:162\", \"2 225:205:206\", \"3 220:152:129\", \"4 241:001:000\", \"5 171:001:001\", \"6 108:169:102\", \"7 029:101:051\", \"8 189:204:147\", \"9 221:216:062\", \"10 187:215:237\"]\n",
        "gs.write_command(\"r.colors\", map=\"sentinel_maxlik\", rules=\"-\", stdin=\"\\n\".join(colours))"
      ]
    },
    {
      "cell_type": "code",
      "execution_count": null,
      "metadata": {
        "id": "B3w2U-fe-Epg"
      },
      "outputs": [],
      "source": [
        "# display results\n",
        "maxlik_sup_class = gj.Map(width=500, use_region=True)\n",
        "maxlik_sup_class.d_rast(map=\"sentinel_maxlik\")\n",
        "maxlik_sup_class.d_legend(raster=\"sentinel_maxlik\",\n",
        "                          title=\"Class\",\n",
        "                          fontsize=12,\n",
        "                          at=(70, 95, 75, 90),\n",
        "                          flags=\"bn\")\n",
        "maxlik_sup_class.d_barscale()\n",
        "maxlik_sup_class.show()"
      ]
    },
    {
      "cell_type": "code",
      "execution_count": null,
      "metadata": {
        "id": "KQyfrCMy-Epg"
      },
      "outputs": [],
      "source": [
        "# percentage of each class\n",
        "print(gs.read_command(\"r.report\",\n",
        "                      map=\"sentinel_maxlik\",\n",
        "                      units=\"p\",\n",
        "                      flags=\"h\"))"
      ]
    },
    {
      "cell_type": "code",
      "execution_count": null,
      "metadata": {
        "id": "aqAsbhT8-Epg"
      },
      "outputs": [],
      "source": [
        "# class statistics: NDVI\n",
        "class_stats = gs.read_command(\"r.univar\",\n",
        "                              map=\"T17SQV_20220528T155819_NDVI_10m\",\n",
        "                              zones=\"sentinel_maxlik\",\n",
        "                              flags=\"t\")"
      ]
    },
    {
      "cell_type": "code",
      "execution_count": null,
      "metadata": {
        "id": "oSKUAYDC-Epg"
      },
      "outputs": [],
      "source": [
        "pd.read_csv(StringIO(class_stats),\n",
        "            delimiter=\"|\",\n",
        "            usecols=[1, 4, 5, 7])"
      ]
    },
    {
      "cell_type": "markdown",
      "metadata": {
        "id": "RuwPc6fM-Epg"
      },
      "source": [
        "Next, and to demonstrate the use of semantic labels, we will classify another sentinel scene with the same signature obtained earlier. To this aim, we need to:\n",
        "1. create a new imagery group for a different scene with the exact same band order\n",
        "1. estimate NDVI and NDWI and assign semantic labels\n",
        "1. run a segmentation and assign semantic labels\n",
        "1. check group and semantic labels\n",
        "1. run `i.maxlik`\n",
        "\n",
        "<div class=\"alert alert-warning\">Be ware – changes over time (phenology, weather) will make spectral signatures to not fit well or at all. Do not use same signatures for a different season!"
      ]
    },
    {
      "cell_type": "code",
      "execution_count": null,
      "metadata": {
        "id": "9er2y3OK-Eph"
      },
      "outputs": [],
      "source": [
        "s2_maps = gs.list_grouped(type=\"raster\", pattern=\"*20220617*\")['sentinel2']\n",
        "s2_maps"
      ]
    },
    {
      "cell_type": "code",
      "execution_count": null,
      "metadata": {
        "id": "B1HDCreR-Eph"
      },
      "outputs": [],
      "source": [
        "# Since imagery groups can not be overwritten,\n",
        "# we delete any leftover \"s2_new\" group from previous runs\n",
        "gs.run_command(\"g.remove\",\n",
        "               type=\"group\",\n",
        "               name=\"s2_new\",\n",
        "               flags=\"f\")"
      ]
    },
    {
      "cell_type": "code",
      "execution_count": null,
      "metadata": {
        "id": "qq8mbikh-Eph"
      },
      "outputs": [],
      "source": [
        "gs.run_command(\"i.group\", group=\"s2_new\", subgroup=\"s2_new\", input=s2_maps)\n",
        "print(gs.read_command(\"i.group\", group=\"s2_new\", flags=\"l\"))"
      ]
    },
    {
      "cell_type": "code",
      "execution_count": null,
      "metadata": {
        "id": "FUkXV49M-Eph"
      },
      "outputs": [],
      "source": [
        "# estimate NDVI\n",
        "gs.run_command(\"i.vi\",\n",
        "               red=\"T17SQV_20220617T155829_B04_10m\",\n",
        "               nir=\"T17SQV_20220617T155829_B08_10m\",\n",
        "               output=\"T17SQV_20220617T155829_NDVI_10m\",\n",
        "               viname=\"ndvi\")\n",
        "\n",
        "# add semantic label\n",
        "gs.run_command(\"r.support\",\n",
        "               map=\"T17SQV_20220617T155829_NDVI_10m\",\n",
        "               semantic_label=\"S2_NDVI\")"
      ]
    },
    {
      "cell_type": "code",
      "execution_count": null,
      "metadata": {
        "id": "xCShj3iR-Epi"
      },
      "outputs": [],
      "source": [
        "# estimate NDWI\n",
        "gs.run_command(\"i.wi\",\n",
        "               green=\"T17SQV_20220617T155829_B03_10m\",\n",
        "               nir=\"T17SQV_20220617T155829_B08_10m\",\n",
        "               output=\"T17SQV_20220617T155829_NDWI_10m\",\n",
        "               winame=\"ndwi_mf\")\n",
        "\n",
        "# add semantic label\n",
        "gs.run_command(\"r.support\",\n",
        "               map=\"T17SQV_20220617T155829_NDWI_10m\",\n",
        "               semantic_label=\"S2_NDWI\")"
      ]
    },
    {
      "cell_type": "code",
      "execution_count": null,
      "metadata": {
        "id": "SE65ARqO-Epi"
      },
      "outputs": [],
      "source": [
        "# add NDVI and NDWI to s2_mew group\n",
        "gs.run_command(\"i.group\",\n",
        "               group=\"s2_new\",\n",
        "               subgroup=\"s2_new\",\n",
        "               input=\"T17SQV_20220617T155829_NDVI_10m,T17SQV_20220617T155829_NDWI_10m\")\n",
        "\n",
        "# print maps in the group\n",
        "print(gs.read_command(\"i.group\", group=\"s2_new\", flags=\"l\"))"
      ]
    },
    {
      "cell_type": "code",
      "execution_count": null,
      "metadata": {
        "id": "PE7pUoa--Epi"
      },
      "outputs": [],
      "source": [
        "# Run segmentation\n",
        "gs.run_command(\"i.segment\",\n",
        "               group=\"s2_new\",\n",
        "               threshold=\"0.05\",\n",
        "               minsize=\"100\",\n",
        "               output=\"sentinel_new_segments_min100\",\n",
        "               goodness=\"sentinel_new_segments_goodness_min100\")"
      ]
    },
    {
      "cell_type": "code",
      "execution_count": null,
      "metadata": {
        "id": "pWbMVJDE-Epi"
      },
      "outputs": [],
      "source": [
        "# Add semantic label to the segmentation\n",
        "gs.run_command(\"r.support\",\n",
        "               map=\"sentinel_new_segments_min100\",\n",
        "               semantic_label=\"S2_seg\")"
      ]
    },
    {
      "cell_type": "code",
      "execution_count": null,
      "metadata": {
        "id": "IBAhjFCT-Epi"
      },
      "outputs": [],
      "source": [
        "# Add segmentation to the s2_new group\n",
        "gs.parse_command(\"i.group\", group=\"s2_new\", subgroup=\"s2_new\", input=\"sentinel_new_segments_min100\")"
      ]
    },
    {
      "cell_type": "code",
      "execution_count": null,
      "metadata": {
        "id": "YsjArI_2-Epi"
      },
      "outputs": [],
      "source": [
        "# Check\n",
        "print(gs.read_command(\"i.group\", group=\"s2_new\", flags=\"l\"))"
      ]
    },
    {
      "cell_type": "code",
      "execution_count": null,
      "metadata": {
        "id": "YpBOGvYV-Epj"
      },
      "outputs": [],
      "source": [
        "# Run the classification\n",
        "gs.run_command(\"i.maxlik\",\n",
        "               group=\"s2_new\",\n",
        "               subgroup=\"s2_new\",\n",
        "               signaturefile=\"sig_sentinel\",\n",
        "               output=\"sentinel_maxlik_new\")"
      ]
    },
    {
      "cell_type": "code",
      "execution_count": null,
      "metadata": {
        "id": "aXFAuNg7-Epk"
      },
      "outputs": [],
      "source": [
        "# Set color table\n",
        "colours = [\"1 072:109:162\", \"2 225:205:206\", \"3 220:152:129\", \"4 241:001:000\", \"5 171:001:001\", \"6 108:169:102\", \"7 029:101:051\", \"8 189:204:147\", \"9 221:216:062\", \"10 187:215:237\"]\n",
        "gs.write_command(\"r.colors\", map=\"sentinel_maxlik_new\", rules=\"-\", stdin=\"\\n\".join(colours))"
      ]
    },
    {
      "cell_type": "code",
      "execution_count": null,
      "metadata": {
        "id": "j_sda1YO-Epk"
      },
      "outputs": [],
      "source": [
        "# display results\n",
        "maxlik_sup_class = gj.Map(width=500, use_region=True)\n",
        "maxlik_sup_class.d_rast(map=\"sentinel_maxlik_new\")\n",
        "maxlik_sup_class.d_legend(raster=\"sentinel_maxlik_new\",\n",
        "                          title=\"Class\",\n",
        "                          fontsize=12,\n",
        "                          at=(60, 95, 70, 90),\n",
        "                          flags=\"bn\")\n",
        "maxlik_sup_class.d_barscale()\n",
        "maxlik_sup_class.show()"
      ]
    },
    {
      "cell_type": "markdown",
      "metadata": {
        "id": "8rVfMeNK-Epk"
      },
      "source": [
        "## 15. What's next?\n",
        "\n",
        "You may enjoy more Jupyter notebooks at: https://github.com/OSGeo/grass/tree/main/doc/notebooks"
      ]
    },
    {
      "cell_type": "markdown",
      "metadata": {
        "id": "Bg4UewEY-Epk"
      },
      "source": [
        "### References\n",
        "\n",
        "- [GRASS GIS Reference Manual](https://grass.osgeo.org/grass-stable/manuals/)\n",
        "- [GRASS GIS Addons Reference Manuals](https://grass.osgeo.org/grass-stable/manuals/addons/)\n",
        "- [GRASS GIS Python library documentation](https://grass.osgeo.org/grass-stable/manuals/libpython/)"
      ]
    }
  ],
  "metadata": {
    "colab": {
      "name": "grassgis4rs_colab.ipynb",
      "provenance": []
    },
    "kernelspec": {
      "display_name": "Python 3 (ipykernel)",
      "language": "python",
      "name": "python3"
    },
    "language_info": {
      "codemirror_mode": {
        "name": "ipython",
        "version": 3
      },
      "file_extension": ".py",
      "mimetype": "text/x-python",
      "name": "python",
      "nbconvert_exporter": "python",
      "pygments_lexer": "ipython3",
      "version": "3.10.5"
    }
  },
  "nbformat": 4,
  "nbformat_minor": 0
}