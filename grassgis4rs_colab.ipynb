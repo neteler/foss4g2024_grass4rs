{
  "cells": [
    {
      "cell_type": "markdown",
      "metadata": {
        "id": "ginhG9FI-EoW"
      },
      "source": [
        "<a href=\"img/EOandGRASSGIS.png\">\n",
        "  <img src=\"https://github.com/veroandreo/foss4g2024_grass4rs/blob/main/img/EOandGRASSGIS.png?raw=1\"\n",
        "   width=\"25%\" style=\"float:right\">\n",
        "</a>\n",
        "\n",
        "# **<span style='color:Green'>GRASS GIS for Earth Observation data processing with Jupyter notebooks</span>**\n",
        "\n",
        "### Workshop at FOSS4G 2024, Belem (Brazil)\n",
        "\n",
        "*Lecturer:* Veronica Andreo\n",
        "\n",
        "*Date:* 2024-12-02\n",
        "\n",
        "Special acknowledgements to **Markus Neteler** and **Maris Nartiss** who were part of an earlier edition of this workshop and also prepared the Sentinel-2 dataset 🙌\n",
        "\n",
        "---"
      ]
    },
    {
      "cell_type": "markdown",
      "metadata": {
        "id": "xehLKtRR-Eob"
      },
      "source": [
        "### Foreword\n",
        "\n",
        "This notebook will demonstrate the use of **GRASS GIS 8.4+** in combination with Python within a Jupyter Notebook in the [Google Colab](https://colab.research.google.com) environment. We will use GRASS tools and python libraries that facilitate scripting (`grass.script`) and connection/interaction with Jupyter Notebooks (`grass.jupyter`).\n",
        "\n",
        "The workflow that will be demonstrated on this notebook ranges from searching satellite data to time series building and supervised classification.\n",
        "\n",
        "\n",
        "# What is Colab?\n",
        "\n",
        "Perhaps you have heard of Google Colaboratory or simply Colab. This is a hosted Jupyter Notebook service that requires no setup or configuration to use and provides free access to computing resources, including GPUs and TPUs.\n",
        "\n",
        "Colab is especially well suited to machine learning, data science, and education. Furthermore, it allows easy sharing of workflows which facilitates reproducibility.\n",
        "\n",
        "Colab notebooks allow you to combine executable code and rich text in a single document, along with images, HTML, LaTeX and more. When you create your own Colab notebooks, they are stored in your Google Drive account. You can easily share your Colab notebooks with colleagues, allowing them to comment on your notebooks or even edit them.\n"
      ]
    },
    {
      "cell_type": "markdown",
      "metadata": {
        "id": "5MjGzxrGFkYH"
      },
      "source": [
        "> See Colab's FAQ for more details: <https://research.google.com/colaboratory/faq.html> and follow the Google Colab blog on Medium at <https://medium.com/google-colab>.\n"
      ]
    },
    {
      "cell_type": "markdown",
      "metadata": {
        "id": "C365q7g9-Eof"
      },
      "source": [
        "## Jupyter Notebooks\n",
        "\n",
        "Jupyter Notebooks are server-client applications that allow code written in a notebook document to be **edited and executed through a web browser**. They can be run on a local computer or used to control computations on a remote server\n",
        "([see the documentation](https://jupyter-notebook-beginner-guide.readthedocs.io/en/latest/what_is_jupyter.html)).\n",
        "\n",
        "Jupyter Notebooks are interactive and they allow to combine live code, text, and computational results in a single document. They are:\n",
        "\n",
        "* convenient for initial code development (prototyping)\n",
        "* ideal for code segmentation with the ability to re-run cells\n",
        "* able to store values of variables from already executed cells\n",
        "\n",
        "### Editing and interactive use\n",
        "\n",
        "Editing a Jupyter Notebook is very easy: in the web browser, you can navigate between text or code cells using the mouse or keyboard shortcuts (see Tools > Keyboard Shortcuts in Colab). You can execute small code chunks cell by cell, save the notebook in its current state, or modify and recalculate cells or return them to their previous state. In addition, you\n",
        "can use Markdown in documentation cells."
      ]
    },
    {
      "cell_type": "markdown",
      "metadata": {
        "id": "YI5xl2WAvsW5"
      },
      "source": [
        "### (Optional) Testing Jupyter notebooks\n",
        "\n",
        "By default all cells are running Python:"
      ]
    },
    {
      "cell_type": "code",
      "execution_count": null,
      "metadata": {
        "id": "59DirKg_voh-"
      },
      "outputs": [],
      "source": [
        "import sys\n",
        "v = sys.version_info\n",
        "print(f\"We are using Python {v.major}.{v.minor}.{v.micro}\")"
      ]
    },
    {
      "cell_type": "markdown",
      "metadata": {
        "id": "Idc3mHO9yfDR"
      },
      "source": [
        "We can also use `!` to run individual lines in the terminal."
      ]
    },
    {
      "cell_type": "code",
      "execution_count": null,
      "metadata": {
        "id": "s9vklZlEyhB7"
      },
      "outputs": [],
      "source": [
        "!echo \"Hello world\""
      ]
    },
    {
      "cell_type": "markdown",
      "metadata": {
        "id": "Kj0rsCSAvYYS"
      },
      "source": [
        "Here are some useful keyboard shortcuts in notebooks:\n",
        "\n",
        "* `shift - enter` execute cell and move to the next one\n",
        "* `alt - enter` execute cell and insert new below\n",
        "* `esc` exit cursor/edit mode and enter command mode\n",
        "* `a` add cell above\n",
        "* `b` add cell below\n",
        "* `dd` delete cell\n",
        "* `x` cut selected cells\n",
        "* `c` copy selected cells\n",
        "* `v` paste cells below\n",
        "* `m` change cell to Markdown\n",
        "* `y` change cell to Code\n",
        "\n",
        "Try a few below! Markdown cells (such as this one) don't execute code but they **can** contain _nice_ formatting.\n",
        "\n",
        "They can also include `code` snippets (along with the declaration of the language to get syntax hightlighting which you can see in editing mode):\n",
        "\n",
        "```python\n",
        "def hello(name):\n",
        "    print(f\"hello {name}\")\n",
        "```\n",
        "\n",
        "# And Titles\n",
        "## Headings\n",
        "### Subheadings\n",
        "#### and Sub-subheadings\n",
        "\n",
        "<div class=\"alert alert-info\">\n",
        "... and HTML formatting\n",
        "</div>\n",
        "\n",
        "\n",
        "... and even LaTex!\n",
        "\n",
        "$\n",
        "f(x) = \\int_{-\\infty}^{\\infty} e^{-x^2} dx\n",
        "$"
      ]
    },
    {
      "cell_type": "markdown",
      "metadata": {
        "id": "_7sUhslxw64u"
      },
      "source": [
        "\n",
        "# Why GRASS GIS in Colab?\n",
        "\n",
        "Since Colab offers Jupyter notebooks in a Linux environment\n",
        "**it is really easy to install or even compile GRASS GIS therein**. Also, the integration with Google Drive makes it a great resource to run our workflows in the cloud and export the results or keep our GRASS projects and code there. This facilitates the teaching of workshops as participants do not need to install or download anything on their own computers 🤩\n",
        "\n",
        "There are a couple of things to consider when working with GRASS GIS within Colab:\n",
        "- You will need to *install GRASS GIS every time they start a new working session or notebook*.\n",
        "- The files you download in Colab *are only valid for the current session*.\n",
        "\n",
        "Alternatively, **users can mount their Google drive**, download data and create their GRASS projects there. Those will be preserved even if the runtime is disconnected or the session closed."
      ]
    },
    {
      "cell_type": "markdown",
      "metadata": {
        "id": "r0fA0kGNWMpX"
      },
      "source": [
        "# GRASS GIS basics"
      ]
    },
    {
      "cell_type": "markdown",
      "source": [
        "**GRASS GIS is a geoprocessing engine with different interfaces.**\n",
        "\n",
        "The functionality of GRASS can be used from its Graphical User Interface (GUI), from command line (CLI), from a Python IDE or Jupyter Notebook via the [grass.script](https://grass.osgeo.org/grass-stable/manuals/libpython/script_intro.html), [pygrass](https://grass.osgeo.org/grass-stable/manuals/libpython/pygrass_index.html) or [grass.jupyter](https://grass.osgeo.org/grass84/manuals/libpython/grass.jupyter.html) packages, from R IDEs like RStudio via the [rgrass](https://github.com/rsbivand/rgrass/) package, from REST APIs like [actinia](https://actinia.mundialis.de/) and also via web processes like WPS. GRASS GIS is a versatile and robust software package."
      ],
      "metadata": {
        "id": "FS19swwz-imo"
      }
    },
    {
      "cell_type": "markdown",
      "metadata": {
        "id": "P3g_-CyP-Eog"
      },
      "source": [
        "### Open GRASS for the first time: CLI and GUI\n",
        "\n",
        "<br>\n",
        "<a href=\"img/grass_gui_first_time_and_cli_combined.png\">\n",
        "  <img src=\"https://github.com/veroandreo/foss4g2024_grass4rs/blob/main/img/grass_gui_first_time_and_cli_combined.png?raw=1\"\n",
        "   alt=\"First time launching GRASS 8\"\n",
        "   title=\"First time launching GRASS 8.4\"\n",
        "   width=\"65%\">\n",
        "</a>\n",
        "\n",
        "GRASS GUI has a single window layout by default, but it is also possible to minimize and/or dock/undock the panels. On the right, you can find the **data** browser which allows you to navigate through your projects and data, and the **layers** panel showing displayed layers. The panel in the middle is the\n",
        "**map display**. You can add additional ones if you need using\n",
        "![](https://github.com/veroandreo/foss4g2024_grass4rs/blob/main/img/monitor-create.png?raw=1).\n",
        "\n",
        "On the right there are multiple tabs where you can find a searchable **tools' tree** similar to the Processing\n",
        "toolbox in QGIS, a **console** where you can type GRASS commands, the **history of executed commands** in case you want to re-run a task and a simple **Python console** where you can use the GRASS Python API."
      ]
    },
    {
      "cell_type": "markdown",
      "metadata": {
        "id": "Hsu4CABZ-Eoh"
      },
      "source": [
        "### GRASS projects\n",
        "\n",
        "GRASS **projects** are simply folders storing your geospatial data with common coordinate reference system (CRS), ensuring\n",
        "consistency of your data.\n",
        "At the project level, data is further organized into subprojects called **mapsets**, which you can use to manage different subregions or analyses within a project.\n",
        "Each project contains a special mapset called *PERMANENT*, which is used to store source datasets for your analysis that can be easily accessed from other mapsets.\n",
        "\n",
        "By default, GRASS will create a **data folder** named `grassdata` to store projects the first time you open it. However, this is a matter of taste and you can organize your GRASS projects differently.\n"
      ]
    },
    {
      "cell_type": "markdown",
      "metadata": {
        "id": "FUy0gpAb-Eoh"
      },
      "source": [
        "> More info: <a href=\"https://grass.osgeo.org/grass-stable/manuals/grass_database.html\">https://grass.osgeo.org/grass-stable/manuals/grass_database.html</a>."
      ]
    },
    {
      "cell_type": "markdown",
      "metadata": {
        "id": "MnalicVS-Eol"
      },
      "source": [
        "### GRASS tools and extensions\n",
        "\n",
        "GRASS has more than [500 modules](https://grass.osgeo.org/grass-stable/manuals/full_index.html) for the most varied tasks:\n",
        "\n",
        "| Prefix                                                               | Function class   | Type of command                     | Example\n",
        "|--------------------------------------------------------------------- |:---------------- |:----------------------------------- |:-------------------------------------------------------------------------------------------------------------------\n",
        "| [g.\\*](https://grass.osgeo.org/grass-stable/manuals/full_index.html#g)    | general          | general data management             | [g.rename](https://grass.osgeo.org/grass-stable/manuals/g.rename.html): renames map\n",
        "| [d.\\*](https://grass.osgeo.org/grass-stable/manuals/full_index.html#d)    | display          | graphical output                    | [d.rast](https://grass.osgeo.org/grass-stable/manuals/d.rast.html): display raster map\n",
        "| [r.\\*](https://grass.osgeo.org/grass-stable/manuals/full_index.html#r)    | raster           | raster processing                   | [r.mapcalc](https://grass.osgeo.org/grass-stable/manuals/r.mapcalc.html): map algebra\n",
        "| [v.\\*](https://grass.osgeo.org/grass-stable/manuals/full_index.html#r)    | vector           | vector processing                   | [v.clean](https://grass.osgeo.org/grass-stable/manuals/v.clean.html): topological cleaning\n",
        "| [i.\\*](https://grass.osgeo.org/grass-stable/manuals/full_index.html#i)    | imagery          | imagery processing                  | [i.pca](https://grass.osgeo.org/grass-stable/manuals/i.pca.html): Principal Components Analysis on imagery group\n",
        "| [r3.\\*](https://grass.osgeo.org/grass-stable/manuals/full_index.html#r3)  | voxel            | 3D raster processing                | [r3.stats](https://grass.osgeo.org/grass-stable/manuals/r3.stats.html): voxel statistics\n",
        "| [db.\\*](https://grass.osgeo.org/grass-stable/manuals/full_index.html#db)  | database         | database management                 | [db.select](https://grass.osgeo.org/grass-stable/manuals/db.select.html): select value(s) from table\n",
        "| [ps.\\*](https://grass.osgeo.org/grass-stable/manuals/full_index.html#ps)  | postscript       | PostScript map creation             | [ps.map](https://grass.osgeo.org/grass-stable/manuals/ps.map.html): PostScript map creation\n",
        "| [t.\\*](https://grass.osgeo.org/grass-stable/manuals/full_index.html#t)    | temporal         | space-time datasets                 | [t.rast.aggregate](https://grass.osgeo.org/grass-stable/manuals/t.rast.aggregate.html): raster time series aggregation\n",
        "\n",
        "Extensions or **add-ons** can be installed from the\n",
        "[central add-on GitHub repository](https://grass.osgeo.org/grass-stable/manuals/addons/)\n",
        "or from *other users' GitHub* (or similar Git repositories) using the command\n",
        "[g.extension](https://grass.osgeo.org/grass-stable/manuals/g.extension.html). For example:\n",
        "\n",
        "```bash\n",
        " # install an extension from the official GRASS GIS add-on repository\n",
        " g.extension extension=r.hants\n",
        "\n",
        " # install an extension from another GitHub repository\n",
        " g.extension extension=r.change.stats url=https://github.com/mundialis/r.change.stats\n",
        "```"
      ]
    },
    {
      "cell_type": "markdown",
      "metadata": {
        "id": "GcZb8DN8WBSa"
      },
      "source": [
        "# GRASS & Python"
      ]
    },
    {
      "cell_type": "markdown",
      "metadata": {
        "id": "8BoX_7wx-Eom"
      },
      "source": [
        "## Python package `grass.script`\n",
        "\n",
        "The **grass.script** or GRASS GIS Python Scripting Library provides functions for calling GRASS modules within Python scripts. The most commonly used functions include:\n",
        "\n",
        "- `run_command`: used when the output of the modules is a raster or vector, no text type output is expected\n",
        "- `read_command`: used when the output of the modules is of text type\n",
        "- `parse_command`: used with modules whose output can be converted to `key=value` pairs\n",
        "- `write_command`: used with modules that expect text input, either in the form of a file or from stdin\n",
        "\n",
        "It also provides several wrapper functions for frequently used modules, for example:\n",
        "\n",
        "- To get info from a raster, script.raster.raster_info() is used: `gs.raster_info('dsm')`\n",
        "- To get info of a vector, script.vector.vector_info() is used: `gs.vector_info('roads')`\n",
        "- To list the raster in a location, script.core.list_grouped() is used: `gs.list_grouped(type=['raster'])`\n",
        "- To obtain the computational region, script.core.region() is used: `gs.region()`"
      ]
    },
    {
      "cell_type": "markdown",
      "metadata": {
        "id": "opiBkJ6H-Eom"
      },
      "source": [
        "> More info: <a href=\"https://grass.osgeo.org/grass-stable/manuals/libpython/script_intro.html\">https://grass.osgeo.org/grass-stable/manuals/libpython/script_intro.html</a>"
      ]
    },
    {
      "cell_type": "markdown",
      "metadata": {
        "id": "7nR8EBej-Eom"
      },
      "source": [
        "## Python package `grass.jupyter`\n",
        "\n",
        "The **grass.jupyter** library improves the integration of GRASS and Jupyter, and provides different classes to facilitate GRASS maps visualization:\n",
        "\n",
        "- `init`: starts a GRASS session and sets up all necessary environment variables\n",
        "- `Map`: 2D rendering\n",
        "- `Map3D`: 3D rendering\n",
        "- `InteractiveMap`: interactive visualization with folium or ipyleaflet\n",
        "- `SeriesMap` and `TimeSeriesMap`: visualization of spatio-temporal data"
      ]
    },
    {
      "cell_type": "markdown",
      "metadata": {
        "id": "JD09Bi0EQ4oq"
      },
      "source": [
        "> More info: <a href=\"https://grass.osgeo.org/grass-stable/manuals/libpython/grass.jupyter.html\">https://grass.osgeo.org/grass-stable/manuals/libpython/grass.jupyter.html</a>"
      ]
    },
    {
      "cell_type": "markdown",
      "metadata": {
        "id": "eV4812oKW9EB"
      },
      "source": [
        "# Install GRASS GIS in Colab"
      ]
    },
    {
      "cell_type": "markdown",
      "metadata": {
        "id": "ru3ZtABY-Eon"
      },
      "source": [
        "Let's first print system description to know where are we:"
      ]
    },
    {
      "cell_type": "code",
      "execution_count": null,
      "metadata": {
        "id": "BEtZO8QBKzPo"
      },
      "outputs": [],
      "source": [
        "!lsb_release -a"
      ]
    },
    {
      "cell_type": "markdown",
      "metadata": {
        "id": "54KkbwhWQiPt"
      },
      "source": [
        "At the time of preparing this workshop, Colab is using Linux\n",
        "[Ubuntu 22.04.3 LTS](https://medium.com/google-colab/colab-updated-to-ubuntu-22-04-lts-709a91555b3c).\n",
        "To get a recent GRASS GIS version, we add the [`ubuntugis-unstable`](https://launchpad.net/~ubuntugis/+archive/ubuntu/ubuntugis-unstable) repository, update the package list and install GRASS GIS. It might take a couple of minutes according to the resources available:"
      ]
    },
    {
      "cell_type": "code",
      "execution_count": null,
      "metadata": {
        "collapsed": true,
        "id": "O_Mp0c3o-VOZ"
      },
      "outputs": [],
      "source": [
        "!add-apt-repository -y ppa:ubuntugis/ubuntugis-unstable\n",
        "!apt update\n",
        "!apt-get install -y grass-core grass-dev\n",
        "print(\"INSTALLATION COMPLETED\")"
      ]
    },
    {
      "cell_type": "markdown",
      "metadata": {
        "id": "4szBof-3QmxI"
      },
      "source": [
        "\n",
        "Check that GRASS GIS is installed by asking which version is now installed (we expect v8.4 or later):"
      ]
    },
    {
      "cell_type": "code",
      "execution_count": null,
      "metadata": {
        "id": "WjInjsQKLmli"
      },
      "outputs": [],
      "source": [
        "!grass --config version"
      ]
    },
    {
      "cell_type": "markdown",
      "metadata": {
        "id": "FOS6j3QfBplh"
      },
      "source": [
        "### Other dependencies\n",
        "Some Python dependencies are needed to run the exercises of this notebook. Install as follows:"
      ]
    },
    {
      "cell_type": "code",
      "execution_count": null,
      "metadata": {
        "collapsed": true,
        "id": "8rq0h9k4BpPN"
      },
      "outputs": [],
      "source": [
        "!python -m pip install eodag[usgs] folium scikit-learn pandas numpy seaborn matplotlib ipyleaflet"
      ]
    },
    {
      "cell_type": "markdown",
      "metadata": {
        "id": "srjluDZOQrQp"
      },
      "source": [
        "# Set up working directory and download sample data\n",
        "\n",
        "By default we'll have access to the `/content` folder within Colab, and any data we download will be placed there. In any case, we should bare in mind that whatever data we download within Colab, will disappear if the runtime gets disconected because of inactivity or once we close the Colab session.\n",
        "\n",
        "Let's define our folder structure and get the [North Carolina sample dataset](https://grass.osgeo.org/sampledata/north_carolina/nc_spm_08_grass7.zip) and other datasets into Colab."
      ]
    },
    {
      "cell_type": "code",
      "execution_count": null,
      "metadata": {
        "id": "Gubl8yAs-Eoo"
      },
      "outputs": [],
      "source": [
        "import os\n",
        "\n",
        "# create our data directory\n",
        "os.makedirs(\"foss4g_grass4rs\", exist_ok=True)\n",
        "homedir = os.path.join(os.getcwd(), \"foss4g_grass4rs\")\n",
        "\n",
        "# define GRASS GIS database variables\n",
        "grassdata = os.path.join(homedir, \"grassdata\")\n",
        "project = \"nc_spm_08_grass7\"\n",
        "mapset = \"PERMANENT\""
      ]
    },
    {
      "cell_type": "markdown",
      "metadata": {
        "id": "BlN9OgNt-Eor"
      },
      "source": [
        "Next, we download **North Carolina dataset** and unpack it within the above defined `homedir`."
      ]
    },
    {
      "cell_type": "code",
      "execution_count": null,
      "metadata": {
        "id": "C33uSsn3-Eor"
      },
      "outputs": [],
      "source": [
        "# download NC sample data into target directory homedir\n",
        "!wget -c https://grass.osgeo.org/sampledata/north_carolina/nc_spm_08_grass7.zip -O $homedir/nc.zip"
      ]
    },
    {
      "cell_type": "code",
      "execution_count": null,
      "metadata": {
        "id": "cca74H-p-Eor"
      },
      "outputs": [],
      "source": [
        "# unpack sample dataset into grassdata\n",
        "!unzip -o -q -d $grassdata $homedir/nc.zip\n",
        "\n",
        "print(\"List uploaded file(s) in target directory \"+homedir+\":\")\n",
        "os.listdir(homedir)"
      ]
    },
    {
      "cell_type": "markdown",
      "metadata": {
        "id": "FGFrttCb-Eos"
      },
      "source": [
        "Now, we'll download and unzip the Sentinel-2 scenes we'll use in this exercise:"
      ]
    },
    {
      "cell_type": "code",
      "execution_count": null,
      "metadata": {
        "id": "6Q1ZqlfC-Eop"
      },
      "outputs": [],
      "source": [
        "# Sentinel-2 related directories\n",
        "s2_data = os.path.join(homedir, \"sentinel\")\n",
        "s2_timestamps = os.path.join(homedir, s2_data, \"sentinel-timestamps.txt\")"
      ]
    },
    {
      "cell_type": "code",
      "execution_count": null,
      "metadata": {
        "id": "WiZAuhzz-Eou"
      },
      "outputs": [],
      "source": [
        "# download Sentinel-2 data\n",
        "!wget -c https://data.neteler.org/foss4g2022/sentinel.zip -O $homedir/sentinel.zip\n",
        "\n",
        "# unpack into target directory\n",
        "!unzip -o -q -d $homedir $homedir/sentinel.zip"
      ]
    },
    {
      "cell_type": "markdown",
      "metadata": {
        "id": "1ZD8Wk2q-Eou"
      },
      "source": [
        "Finally, let's download the landuse map we'll need later on:"
      ]
    },
    {
      "cell_type": "code",
      "execution_count": null,
      "metadata": {
        "id": "mpqUmaO0-Eou"
      },
      "outputs": [],
      "source": [
        "# get NC landuse map 2019 in GRASS GIS format, to be used later as classification training map\n",
        "!wget -c https://data.neteler.org/foss4g2022/nc_nlcd2019.pack -O $homedir/nc_nlcd2019.pack"
      ]
    },
    {
      "cell_type": "markdown",
      "metadata": {
        "id": "XqMLs_V-ch_Q"
      },
      "source": [
        "and list the content of our working directory:"
      ]
    },
    {
      "cell_type": "code",
      "execution_count": null,
      "metadata": {
        "id": "hHD9fQG0-Eou"
      },
      "outputs": [],
      "source": [
        "print(\"List uploaded file(s) in target directory \"+homedir+\":\")\n",
        "os.listdir(homedir)"
      ]
    },
    {
      "cell_type": "markdown",
      "metadata": {
        "id": "-82VXVW1-Eou"
      },
      "source": [
        "# Start GRASS GIS"
      ]
    },
    {
      "cell_type": "code",
      "execution_count": null,
      "metadata": {
        "id": "zyIqAa3l-Eou"
      },
      "outputs": [],
      "source": [
        "# import standard Python packages we need\n",
        "import sys\n",
        "import subprocess\n",
        "\n",
        "# ask GRASS GIS where its Python packages are to be able to run it from the notebook\n",
        "sys.path.append(\n",
        "    subprocess.check_output([\"grass\", \"--config\", \"python_path\"], text=True).strip()\n",
        ")"
      ]
    },
    {
      "cell_type": "code",
      "execution_count": null,
      "metadata": {
        "id": "Zel1wdiX-Eov"
      },
      "outputs": [],
      "source": [
        "# import the GRASS GIS python packages\n",
        "import grass.script as gs\n",
        "import grass.jupyter as gj\n",
        "\n",
        "# start the GRASS GIS Session\n",
        "session = gj.init(grassdata, project, mapset)"
      ]
    },
    {
      "cell_type": "code",
      "execution_count": null,
      "metadata": {
        "id": "i68PyY9p-Eov"
      },
      "outputs": [],
      "source": [
        "# show current GRASS GIS settings\n",
        "gs.gisenv()"
      ]
    },
    {
      "cell_type": "markdown",
      "metadata": {
        "id": "dVL6UBz6-Eov"
      },
      "source": [
        "Before we start, we list the elements in the mapset `PERMANENT`. If you only want to see the raster or vector type elements, just change the `type` option in the following command."
      ]
    },
    {
      "cell_type": "code",
      "execution_count": null,
      "metadata": {
        "id": "MNA-MOrN-Eow"
      },
      "outputs": [],
      "source": [
        "# list vector elements in the PERMANENT mapset\n",
        "gs.list_grouped(type=\"vector\")"
      ]
    },
    {
      "cell_type": "markdown",
      "metadata": {
        "id": "pvr0Jx_vNUaU"
      },
      "source": [
        "📝 **Your turn!** List all raster maps and then list raster maps matching a name pattern:"
      ]
    },
    {
      "cell_type": "code",
      "execution_count": null,
      "metadata": {
        "id": "gEfmGB1aNQbv"
      },
      "outputs": [],
      "source": []
    },
    {
      "cell_type": "code",
      "execution_count": null,
      "metadata": {
        "id": "NhUHyvn-NlTl"
      },
      "outputs": [],
      "source": []
    },
    {
      "cell_type": "markdown",
      "metadata": {
        "id": "4l99X_F5Nm6h"
      },
      "source": [
        "## Quick visualizations"
      ]
    },
    {
     "cell_type": "markdown",
     "metadata": {
      "id": "4l9idX_F5Nm6h"
     },
     "source": [
      "GRASS GIS offers static and interactive map visualizations in Jupyter notebooks."
     ]
    },
    {
      "cell_type": "code",
      "execution_count": null,
      "metadata": {
        "id": "dE7pDH7ad-FB"
      },
      "outputs": [],
      "source": [
        "# 2d map\n",
        "map = gj.Map(width = 500, use_region=False)\n",
        "map.d_rast(map=\"elevation\")\n",
        "map.d_legend(raster=\"elevation\", at=\"20,80,85,90\", flags=\"b\", border_color=\"none\")\n",
        "map.show()"
      ]
    },
    {
      "cell_type": "code",
      "execution_count": null,
      "metadata": {
        "id": "j-8WqQ4tdpsw"
      },
      "outputs": [],
      "source": [
        "# interactive map with folium\n",
        "mapf = gj.InteractiveMap(width = 500, use_region=False, map_backend=\"folium\")\n",
        "mapf.add_raster(\"elevation\")\n",
        "mapf.add_vector(\"roadsmajor\")\n",
        "mapf.add_layer_control(position = \"bottomright\")\n",
        "mapf.show()"
      ]
    },
    {
      "cell_type": "code",
      "execution_count": null,
      "metadata": {
        "id": "dWZElo58d6cw"
      },
      "outputs": [],
      "source": [
        "# interactive map with ipyleaflet\n",
        "mapi = gj.InteractiveMap(width = 500)\n",
        "mapi.add_raster(\"elevation\")\n",
        "mapi.add_vector(\"roadsmajor\")\n",
        "mapi.add_layer_control()\n",
        "mapi.show()"
      ]
    },
    {
      "cell_type": "markdown",
      "metadata": {
        "id": "3j0REOqC_mBM"
      },
      "source": [
        "# Create a new mapset"
      ]
    },
    {
      "cell_type": "markdown",
      "metadata": {
        "id": "eywF723J-Eox"
      },
      "source": [
        "Next, we create a new mapset to work with this notebook and import Sentinel-2 data."
      ]
    },
    {
      "cell_type": "code",
      "execution_count": null,
      "metadata": {
        "id": "6CqUfQS1-Eox"
      },
      "outputs": [],
      "source": [
        "# create a new mapset and switch to it\n",
        "gs.run_command(\"g.mapset\", mapset=\"sentinel2\", flags=\"c\")"
      ]
    },
    {
      "cell_type": "code",
      "execution_count": null,
      "metadata": {
        "id": "jO6WIja_-Eoy"
      },
      "outputs": [],
      "source": [
        "# check current mapset\n",
        "print(gs.read_command(\"g.mapset\", flags=\"p\"))"
      ]
    },
    {
      "cell_type": "code",
      "execution_count": null,
      "metadata": {
        "id": "nbfWhGiR-Eoy"
      },
      "outputs": [],
      "source": [
        "# print accessible mapsets within the project\n",
        "print(gs.read_command(\"g.mapsets\", flags=\"p\"))"
      ]
    },
    {
      "cell_type": "markdown",
      "metadata": {
        "id": "L7-_7PeC-Eoy"
      },
      "source": [
        "## Define our area of interest\n",
        "\n",
        "To search for Sentinel 2 images, we need an area of interest. This area can be defined by a vector map or the computational region. Here, will use a map of urban areas that we already have in the `PERMANENT` mapset. Since we are interested in the city of Raleigh, NC, we use the function [v.extract](https://grass.osgeo.org/grass-stable/manuals/v.extract.html) to extract the polygon corresponding to that urban area only."
      ]
    },
    {
      "cell_type": "code",
      "execution_count": null,
      "metadata": {
        "collapsed": true,
        "id": "Vmp93CP8-Eoz"
      },
      "outputs": [],
      "source": [
        "import pandas as pd\n",
        "\n",
        "# check `urbanarea` vector attributes\n",
        "urban = gs.parse_command(\"v.db.select\", map=\"urbanarea\", format=\"json\")[\"records\"]\n",
        "df = pd.DataFrame(urban)\n",
        "df"
      ]
    },
    {
      "cell_type": "code",
      "execution_count": null,
      "metadata": {
        "id": "JyDQWb1C-Eoz"
      },
      "outputs": [],
      "source": [
        "# extract Raleigh urban area from `urbanarea` vector map\n",
        "gs.run_command(\"v.extract\",\n",
        "               input=\"urbanarea\",\n",
        "               where=\"NAME == 'Raleigh'\",\n",
        "               output=\"urban_area_raleigh\")"
      ]
    },
    {
      "cell_type": "code",
      "execution_count": null,
      "metadata": {
        "id": "gOXRIGDJ-Eoz"
      },
      "outputs": [],
      "source": [
        "# show attributes\n",
        "gs.vector_db_select('urban_area_raleigh')['values']"
      ]
    },
    {
      "cell_type": "markdown",
      "metadata": {
        "id": "ulvjGDNu-Eoz"
      },
      "source": [
        "We set the computational region to the boundaries of the newly created vector. This will be the bounding box we'll use for the Sentinel scenes search."
      ]
    },
    {
      "cell_type": "code",
      "execution_count": null,
      "metadata": {
        "id": "r9HuTW3u-Eo0"
      },
      "outputs": [],
      "source": [
        "# set the computational region to the extent of Cordoba urban area\n",
        "region = gs.parse_command(\"g.region\", vector=\"urban_area_raleigh\", flags=\"g\")\n",
        "region"
      ]
    },
    {
      "cell_type": "markdown",
      "metadata": {
        "id": "lXDRefgZ-Eoj"
      },
      "source": [
        "> ### Computational region\n",
        ">\n",
        "> It refers to the boundary configuration of the analysis area and spatial resolution (raster). The **computational region** can be defined and modified with the command [g.region](https://grass.osgeo.org/grass-stable/manuals/g.region.html) to the extent of a vector map, a raster or manually to some area of interest. The *output raster maps will have an extent and spatial resolution equal to the computational region*, while vector maps are always processed at their original extent.\n",
        ">\n",
        "> <a href=\"https://raw.githubusercontent.com/veroandreo/foss4g2022_grass4rs/main/assets/img/region.png\">\n",
        "  <img src=\"https://raw.githubusercontent.com/veroandreo/foss4g2022_grass4rs/main/assets/img/region.png\"\n",
        "   alt=\"Computational region\"\n",
        "   title=\"Computational region\"\n",
        "   width=\"80%\">\n",
        "</a>\n",
        ">\n",
        "> For more details, see the wiki on <a href=\"https://grasswiki.osgeo.org/wiki/Computational_region\">Computational Region</a>"
      ]
    },
    {
      "cell_type": "code",
      "execution_count": null,
      "metadata": {
        "id": "GCHf1i9L-Eo0",
        "scrolled": true
      },
      "outputs": [],
      "source": [
        "# display newly created vector\n",
        "raleigh_map = gj.InteractiveMap(use_region=True, map_backend=\"folium\")\n",
        "#raleigh_map.add_raster(\"elev_state_500m\")\n",
        "raleigh_map.add_vector(\"urban_area_raleigh\")\n",
        "raleigh_map.add_layer_control(position = \"bottomright\")\n",
        "raleigh_map.show()"
      ]
    },
    {
      "cell_type": "markdown",
      "metadata": {
        "id": "Uf1qxQIQnW-M"
      },
      "source": [
        "📝 **Your turn!** Check by yourself what happens when we use `use_region=True` vs `use_region=False` in the cell above, with and without a raster map."
      ]
    },
    {
      "cell_type": "markdown",
      "metadata": {
        "id": "kEi1yhGH_1ZZ"
      },
      "source": [
        "# Tools to download and import RS data into GRASS GIS"
      ]
    },
    {
      "cell_type": "markdown",
      "metadata": {
        "id": "CiJkLSg8sUhp"
      },
      "source": [
        "There are different tools to search, filter, download, import and process remote sensing data in GRASS GIS. Some examples include:\n",
        "- [i.eodag](https://grass.osgeo.org/grass-stable/manuals/addons/i.eodag.html): Downloads imagery from various providers through the [EODAG](https://eodag.readthedocs.io/en/stable/index.html) API.\n",
        "- [i.sentinel](https://grass.osgeo.org/grass-stable/manuals/addons/i.sentinel.html): Toolset to download and process Copernicus Sentinel products.\n",
        "- [i.landsat](https://grass.osgeo.org/grass-stable/manuals/addons/i.landsat.html): Toolset to download and process Landsat TM, ETM and OLI products.\n",
        "- [i.modis](https://grass.osgeo.org/grass-stable/manuals/addons/i.modis.html): Toolset to download and process MODIS products using pyModis.\n",
        "- [t.stac](https://grass.osgeo.org/grass-stable/manuals/addons/t.stac.html): Toolset to explore metadata and ingest SpatioTemporal Asset Catalog (STAC) items, collections, and catalogs\n",
        "- etc.\n"
      ]
    },
    {
      "cell_type": "markdown",
      "metadata": {
        "id": "K2THp19-u2pL"
      },
      "source": [
        "Let's explore the i.eodag tool, that is also the backend of i.sentinel we'll show later."
      ]
    },
    {
      "cell_type": "code",
      "execution_count": null,
      "metadata": {
        "id": "lguf6ZNcsXwW"
      },
      "outputs": [],
      "source": [
        "# install i.eodag\n",
        "gs.run_command(\"g.extension\", extension=\"i.eodag\")"
      ]
    },
    {
      "cell_type": "markdown",
      "metadata": {
        "id": "_HQ4BPH85ZwS"
      },
      "source": [
        "EODAG allows to search and download data from different providers. Let's check them:"
      ]
    },
    {
      "cell_type": "code",
      "execution_count": null,
      "metadata": {
        "collapsed": true,
        "id": "lV2ZrJvCseU0"
      },
      "outputs": [],
      "source": [
        "!i.eodag print=providers"
      ]
    },
    {
      "cell_type": "markdown",
      "metadata": {
        "id": "oJN_Vv1l5yxi"
      },
      "source": [
        "Now, let's see which data providers have Sentinel 2 Level 2A data:"
      ]
    },
    {
      "cell_type": "code",
      "execution_count": null,
      "metadata": {
        "id": "nu2EjJQlvnM6"
      },
      "outputs": [],
      "source": [
        "!i.eodag print=providers producttype=S2_MSI_L2A"
      ]
    },
    {
      "cell_type": "markdown",
      "source": [
        "📝 **Your turn!** Check [i.eodag](https://grass.osgeo.org/grass-stable/manuals/addons/i.eodag.html) manual page and try other search parameters and filters."
      ],
      "metadata": {
        "id": "qYuv6FdlaiM9"
      }
    },
    {
      "cell_type": "code",
      "source": [],
      "metadata": {
        "id": "mz0FQOP1ai6A"
      },
      "execution_count": null,
      "outputs": []
    },
    {
      "cell_type": "code",
      "source": [],
      "metadata": {
        "id": "EBaGNzcEajb8"
      },
      "execution_count": null,
      "outputs": []
    },
    {
      "cell_type": "markdown",
      "metadata": {
        "id": "2HzqbG5A59v6"
      },
      "source": [
        "Let's do a quick search for Sentinel 2 scenes intersecting our computational region the last 60 days with cloud cover less or equal to 10%. The default provider is *peps*. We can also use *cop_dataspace* to search for S2 data. However, if we then need to download those data, we need to be registered at the [Copernicus Data Space Ecosystem](https://dataspace.copernicus.eu/).\n",
        "\n",
        "> See [i.eodag](https://grass.osgeo.org/grass-stable/manuals/addons/i.eodag.html) manual page for more details and examples."
      ]
    },
    {
      "cell_type": "code",
      "execution_count": null,
      "metadata": {
        "id": "ipib7531vnEW"
      },
      "outputs": [],
      "source": [
        "!i.eodag -l producttype=S2_MSI_L2A clouds=10"
      ]
    },
    {
      "cell_type": "code",
      "execution_count": null,
      "metadata": {
        "id": "WxqTnT3d8WBV"
      },
      "outputs": [],
      "source": [
        "!i.eodag -l producttype=S2_MSI_L2A clouds=10 provider=cop_dataspace"
      ]
    },
    {
      "cell_type": "markdown",
      "metadata": {
        "id": "_06Pv_i87t1i"
      },
      "source": [
        "📝 **Your turn!** Using the basic example above, try other options. For example, filter by date, change the spatial relationship, etc."
      ]
    },
    {
      "cell_type": "code",
      "execution_count": null,
      "metadata": {
        "id": "1QhlQbmp8Ph6"
      },
      "outputs": [],
      "source": []
    },
    {
      "cell_type": "code",
      "execution_count": null,
      "metadata": {
        "id": "EZz_iT-b8PYk"
      },
      "outputs": [],
      "source": []
    },
    {
      "cell_type": "markdown",
      "metadata": {
        "id": "v0_KF8Hh-Eo2"
      },
      "source": [
        "## Sentinel-2 processing overview\n",
        "\n",
        "The [i.sentinel](https://grass.osgeo.org/grass-stable/manuals/addons/i.sentinel.html) toolbox facilitates searching, filtering, downloading, importing and pre-processing Sentinel data, especially Sentinel 2, from a GRASS GIS session. The toolbox consists of six GRASS addon tools:\n",
        "\n",
        "* [i.sentinel.download](https://grass.osgeo.org/grass-stable/manuals/addons/i.sentinel.download.html)\n",
        "* [i.sentinel.import](https://grass.osgeo.org/grass-stable/manuals/addons/i.sentinel.import.html)\n",
        "* [i.sentinel.preproc](https://grass.osgeo.org/grass-stable/manuals/addons/i.sentinel.preproc.html)\n",
        "* [i.sentinel.mask](https://grass.osgeo.org/grass-stable/manuals/addons/i.sentinel.mask.html)\n",
        "* [i.sentinel.coverage](https://grass.osgeo.org/grass-stable/manuals/addons/i.sentinel.coverage.html)\n",
        "* [i.sentinel.parallel.download](https://grass.osgeo.org/grass-stable/manuals/addons/i.sentinel.parallel.download.html)\n",
        "\n",
        "Let's install it:"
      ]
    },
    {
      "cell_type": "code",
      "execution_count": null,
      "metadata": {
        "id": "v7vYSRVL-Eo2"
      },
      "outputs": [],
      "source": [
        "gs.run_command(\"g.extension\", extension=\"i.sentinel\")"
      ]
    },
    {
      "cell_type": "markdown",
      "metadata": {
        "id": "vb-j1BM7-Eo2"
      },
      "source": [
        "Check if the module is there by running it with optional arguments:"
      ]
    },
    {
      "cell_type": "code",
      "execution_count": null,
      "metadata": {
        "id": "v5X5A7F5-Eo2"
      },
      "outputs": [],
      "source": [
        "gs.core.find_program(\"i.sentinel.download\", \"--help\")"
      ]
    },
    {
      "cell_type": "markdown",
      "metadata": {
        "id": "bLAdQtif-Eo2"
      },
      "source": [
        "### Sentinel 2 data search and download"
      ]
    },
    {
      "cell_type": "markdown",
      "metadata": {
        "id": "yaUCVwQq-Eo3"
      },
      "source": [
        "We'll use [Sentinel-2 Level 2A (L2A) products](https://sentinels.copernicus.eu/de/web/sentinel/user-guides/sentinel-2-msi/product-types/level-2a) to avoid the need of computing atmospheric corrections.\n",
        "\n",
        "In order to search and download Sentinel products from the Copernicus Data Space Ecosystem, you need to [register](https://dataspace.copernicus.eu/) first. If you are already registered, create a text file in the data directory (`homedir`) containing two lines: username and password. If you already have this file, upload it in order to have it accessible.\n",
        "\n",
        "We'll exemplify how to upload the `esa_credentials.txt` file using commands. However, you can also use Colab's interface as below. Choose whatever way feels easier for you.\n",
        "\n",
        "![](https://github.com/veroandreo/foss4g2024_grass4rs/blob/main/img/upload_or_create_new_file.png?raw=1)"
      ]
    },
    {
      "cell_type": "code",
      "execution_count": null,
      "metadata": {
        "id": "IW53tgTeAQur"
      },
      "outputs": [],
      "source": [
        "# upload the file to Colab - code below will generate a \"Browse\" button for data upload\n",
        "from google.colab import files\n",
        "uploaded = files.upload()\n",
        "\n",
        "!mv \"esa_credentials.txt\" $homedir\n",
        "!ls $homedir"
      ]
    },
    {
      "cell_type": "markdown",
      "metadata": {
        "id": "8PozXH6FbCUJ"
      },
      "source": [
        "Let’s search for the latest available S2 products by means of [i.sentinel.download](https://grass.osgeo.org/grass-stable/manuals/addons/i.sentinel.download.html). Setting the `-l` flag, the result will only\n",
        "be printed."
      ]
    },
    {
      "cell_type": "code",
      "execution_count": null,
      "metadata": {
        "id": "KZkv3SSB-Eo3"
      },
      "outputs": [],
      "source": [
        "# list available Sentinel-2 L2A scenes for AOI\n",
        "# note that we use parse_command() in order to intercept the output\n",
        "gs.parse_command(\"i.sentinel.download\",\n",
        "                 flags=\"l\",\n",
        "                 producttype=\"S2MSI2A\",\n",
        "                 map=\"urban_area_raleigh\",\n",
        "                 settings=os.path.join(homedir, \"esa_credentials.txt\"))"
      ]
    },
    {
      "cell_type": "markdown",
      "metadata": {
        "id": "_SkK7rse-Eo3"
      },
      "source": [
        "By default, the tool returns all the products meeting the defined criteria for the last 60 days. Let’s change\n",
        "the search period setting `start` and `end` options. We will also limit products by `clouds` coverage percentage\n",
        "threshold and `sort` them by ingestion date."
      ]
    },
    {
      "cell_type": "code",
      "execution_count": null,
      "metadata": {
        "id": "SQMfQ_3W-Eo4"
      },
      "outputs": [],
      "source": [
        "gs.parse_command(\"i.sentinel.download\",\n",
        "                 flags=\"l\",\n",
        "                 producttype=\"S2MSI2A\",\n",
        "                 map=\"urban_area_raleigh\",\n",
        "                 settings=os.path.join(homedir, \"esa_credentials.txt\"),\n",
        "                 start=\"2024-08-31\",\n",
        "                 end=\"2024-10-31\",\n",
        "                 clouds=\"5\",\n",
        "                 sort=\"ingestiondate\",\n",
        "                 limit=10)"
      ]
    },
    {
      "cell_type": "markdown",
      "metadata": {
        "id": "vUBwijc3-Eo4"
      },
      "source": [
        "> If a long list of products have been found, you can limit the amount with the <code>limit</code> option as we did above."
      ]
    },
    {
      "cell_type": "markdown",
      "metadata": {
        "id": "pahA0UC7-Eo5"
      },
      "source": [
        "Let's save the output of the search into a list and then beautify the display by creating a pandas table."
      ]
    },
    {
      "cell_type": "code",
      "execution_count": null,
      "metadata": {
        "id": "s9XKx3eN-Eo5"
      },
      "outputs": [],
      "source": [
        "list_prod = gs.read_command(\"i.sentinel.download\",\n",
        "                            flags=\"l\",\n",
        "                            producttype=\"S2MSI2A\",\n",
        "                            map=\"urban_area_raleigh\",\n",
        "                            settings=os.path.join(homedir, \"esa_credentials.txt\"),\n",
        "                            footprints=\"s2_footprints\", # we save the footprints in a vector file\n",
        "                            start=\"2024-08-31\",\n",
        "                            end=\"2024-10-31\",\n",
        "                            clouds=\"5\",\n",
        "                            sort=\"ingestiondate\",\n",
        "                            limit=10)"
      ]
    },
    {
      "cell_type": "code",
      "execution_count": null,
      "metadata": {
        "id": "YPu-TXZc-Eo5"
      },
      "outputs": [],
      "source": [
        "# print plain list\n",
        "list_prod"
      ]
    },
    {
      "cell_type": "code",
      "execution_count": null,
      "metadata": {
        "id": "elJ0tFlk-Eo5"
      },
      "outputs": [],
      "source": [
        "from io import StringIO\n",
        "\n",
        "pd.read_csv(StringIO(list_prod), delimiter=\" \", usecols=[0, 1, 4, 5],\n",
        "            names=['scene', 'date', 'cloud', 'product'])"
      ]
    },
    {
      "cell_type": "markdown",
      "metadata": {
        "id": "u2QdqhTPjCT5"
      },
      "source": [
        "If we want some extra info about each scene before deciding which one to download, we can hava a look at the attribute table of the footprint vector we saved."
      ]
    },
    {
      "cell_type": "code",
      "execution_count": null,
      "metadata": {
        "id": "s6H6VK7fiDvN"
      },
      "outputs": [],
      "source": [
        "# check `footprints` vector attributes\n",
        "footprints = gs.parse_command(\"v.db.select\", map=\"s2_footprints\", format=\"json\")[\"records\"]\n",
        "df = pd.DataFrame(footprints)\n",
        "df"
      ]
    },
    {
      "cell_type": "markdown",
      "metadata": {
        "id": "Mc2IOj1_jYXl"
      },
      "source": [
        "Let's also visualize the footprints map.\n",
        "\n",
        "> In the upcoming GRASS 8.5 the interactive map class comes with several improvements, that will for example, allow us to query the attributes of each footprint."
      ]
    },
    {
      "cell_type": "code",
      "execution_count": null,
      "metadata": {
        "id": "Qpc-kRT9-Eo6"
      },
      "outputs": [],
      "source": [
        "# diplay footprints (you may want to zoom out a bit)\n",
        "fp_map = gj.InteractiveMap(width = 400, use_region=True)\n",
        "fp_map.add_vector(\"s2_footprints\")\n",
        "fp_map.add_vector(\"urban_area_raleigh\")\n",
        "fp_map.add_layer_control(position = \"bottomright\")\n",
        "fp_map.show()"
      ]
    },
    {
      "cell_type": "markdown",
      "metadata": {
        "id": "rWvF7xJa-Eo6"
      },
      "source": [
        "The next step is to download the scene or scenes of interest. Just remove the `-l` flag and add the `output` option in order to define the path to the output directory where data should be saved.\n",
        "\n",
        "As download might take quite some time, we'll **skip this part** and directly use an already prepared set of smaller, ready to import scenes which we downloaded above. Still, we leave an example below for future reference :)\n",
        "\n",
        "Go to section **\"Importing Sentinel 2 data\"**"
      ]
    },
    {
      "cell_type": "code",
      "execution_count": null,
      "metadata": {
        "id": "XXORfz6I-Eo6"
      },
      "outputs": [],
      "source": [
        "# download example:\n",
        "# gs.run_command(\"i.sentinel.download\",\n",
        "#               settings=s2_credentials,\n",
        "#               id=\"S2B_MSIL2A_20240921T154849_N0511_R054_T17SQA_20240921T212218\",\n",
        "#               output=s2_data)"
      ]
    },
    {
      "cell_type": "markdown",
      "metadata": {
        "id": "aJ3WSl8C-Eo7"
      },
      "source": [
        "### Importing Sentinel-2 data\n",
        "\n",
        "Before importing or linking Sentinel-2 data we print a list of filtered raster files including projection match (1 for match, otherwise 0). If the CRS of the input data differs from that of the current project, you should consider reprojection (`-r` flag) or creating a new project for import.\n",
        "\n",
        "We'll limit the S2 data import to the RGB and NIR bands (2, 3, 4, 8A) in 10 m spatial resolution using the `pattern` option. Let's check CRS information of the selected bands only."
      ]
    },
    {
      "cell_type": "code",
      "execution_count": null,
      "metadata": {
        "id": "sQ1-5_Ub-Eo7"
      },
      "outputs": [],
      "source": [
        "# print only to test band selection\n",
        "gs.parse_command(\"i.sentinel.import\",\n",
        "                 flags=\"p\",\n",
        "                 input=s2_data,\n",
        "                 pattern=\"B(02|03|04|08)_10m\")"
      ]
    },
    {
      "cell_type": "markdown",
      "metadata": {
        "id": "eG6KTnVVl_ZM"
      },
      "source": [
        "> We see that CRS does not match. But how do we know which is the CRS of our current project?\n",
        ">\n",
        "> ```\n",
        "> g.proj -p\n",
        "> ```"
      ]
    },
    {
      "cell_type": "markdown",
      "metadata": {
        "id": "NMXmr8Q9-Eo8"
      },
      "source": [
        "By default, input data are imported into GRASS and converted into GRASS native data format.\n",
        "Alternatively, data can be linked if the `-l` flag is provided. It is also\n",
        "useful to import cloud mask vector features (`-c` flag). In addition, we'll use the\n",
        "`register_output` option to produce a timestamp plain text file\n",
        "which will be used later on to create a time series."
      ]
    },
    {
      "cell_type": "code",
      "execution_count": null,
      "metadata": {
        "id": "nGGdYznQ-Eo8"
      },
      "outputs": [],
      "source": [
        "# for S2 import, allow for using 2GB of RAM for faster operations.\n",
        "# (s2_data and s2_timestamps are defined above)\n",
        "# this may take a few minutes...\n",
        "gs.parse_command(\"i.sentinel.import\",\n",
        "                 flags=\"rcsj\",\n",
        "                 input=s2_data,\n",
        "                 pattern=\"B(02|03|04|08)_10m\",\n",
        "                 memory=2000,\n",
        "                 extent=\"input\",\n",
        "                 register_output=s2_timestamps)"
      ]
    },
    {
      "cell_type": "code",
      "execution_count": null,
      "metadata": {
        "id": "6RyYtngl-Eo8"
      },
      "outputs": [],
      "source": [
        "# list imported raster maps\n",
        "gs.list_grouped(type=\"raster\")['sentinel2']"
      ]
    },
    {
      "cell_type": "code",
      "execution_count": null,
      "metadata": {
        "id": "_vULq5y6-Eo8"
      },
      "outputs": [],
      "source": [
        "# check metadata of one of the imported bands\n",
        "gs.raster_info(map=\"T17SQV_20220617T155829_B03_10m\")[\"comments\"]"
      ]
    },
    {
      "cell_type": "code",
      "execution_count": null,
      "metadata": {
        "id": "h7MdCDLw-Eo-"
      },
      "outputs": [],
      "source": [
        "# print timestamp file for inspection\n",
        "with open(s2_timestamps, 'r') as f:\n",
        "    content = f.read()\n",
        "    print(content)\n",
        "    f.close()"
      ]
    },
    {
      "cell_type": "markdown",
      "metadata": {
        "id": "zli4zA12-Eo-"
      },
      "source": [
        "> **Semantic labels**\n",
        ">\n",
        "> A fairly new concept within GRASS GIS is semantic labels. Such labels are useful for satellite imagery as they allow us to identify to which sensor and band a given raster corresponds to. They are particularly relevant when working with image collections and also when classifying different scenes. A spectral signature generated for a given set of bands, can then be re-used to classify another scene as long as the semantic labels are the same.\n",
        ">\n",
        "> Be ware – although it is possible to re-use spectral signatures to any scene with the same bands, temporal changes (seasons, weather impact) might limit their applicability only to scenes obtained more or less at the same time."
      ]
    },
    {
      "cell_type": "markdown",
      "metadata": {
        "id": "ZgMUjFaz-Eo-"
      },
      "source": [
        "### Visualization"
      ]
    },
    {
      "cell_type": "code",
      "execution_count": null,
      "metadata": {
        "id": "jUIg8VNP-Eo-"
      },
      "outputs": [],
      "source": [
        "# create Map instance\n",
        "b3_map = gj.Map(width=400)\n",
        "# add a raster, vector and legend to the map\n",
        "b3_map.d_rast(map=\"T17SQV_20220617T155829_B03_10m\")\n",
        "b3_map.d_legend(raster=\"T17SQV_20220617T155829_B03_10m\",\n",
        "                title=\"Reflectance\",\n",
        "                fontsize=10, at=(70, 93, 80, 90), flags=\"b\")\n",
        "b3_map.d_barscale()\n",
        "# display map\n",
        "b3_map.show()"
      ]
    },
    {
      "cell_type": "code",
      "execution_count": null,
      "metadata": {
        "id": "NS5CQvfy-Eo-"
      },
      "outputs": [],
      "source": [
        "# set color table of bands 4, 3 and 2 to grey\n",
        "gs.run_command(\"r.colors\",\n",
        "               map=\"T17SQV_20220617T155829_B04_10m,T17SQV_20220617T155829_B03_10m,T17SQV_20220617T155829_B02_10m\",\n",
        "               color=\"grey\")"
      ]
    },
    {
      "cell_type": "code",
      "execution_count": null,
      "metadata": {
        "id": "kNm71sOG-Eo-"
      },
      "outputs": [],
      "source": [
        "# color enhancing for RGB composition\n",
        "gs.run_command(\"i.colors.enhance\",\n",
        "               red=\"T17SQV_20220617T155829_B04_10m\",\n",
        "               green=\"T17SQV_20220617T155829_B03_10m\",\n",
        "               blue=\"T17SQV_20220617T155829_B02_10m\",\n",
        "               strength=92)"
      ]
    },
    {
      "cell_type": "code",
      "execution_count": null,
      "metadata": {
        "id": "SaMfhAGz-Eo-"
      },
      "outputs": [],
      "source": [
        "# set region to \"elevation\" map and align to the S2 data\n",
        "gs.run_command(\"g.region\",\n",
        "               raster=\"elevation\",\n",
        "               align=\"T17SQV_20220617T155829_B04_10m\",\n",
        "               flags=\"p\")"
      ]
    },
    {
      "cell_type": "code",
      "execution_count": null,
      "metadata": {
        "id": "s653UeL_-Eo_"
      },
      "outputs": [],
      "source": [
        "# display the enhanced RGB combination\n",
        "rgb = gj.Map(width=400, use_region=True)\n",
        "rgb.d_rgb(red=\"T17SQV_20220617T155829_B04_10m\",\n",
        "          green=\"T17SQV_20220617T155829_B03_10m\",\n",
        "          blue=\"T17SQV_20220617T155829_B02_10m\")\n",
        "rgb.show()"
      ]
    },
    {
      "cell_type": "markdown",
      "metadata": {
        "id": "x2AbGOPQ-Eo_"
      },
      "source": [
        "## Spectral indices of vegetation and water"
      ]
    },
    {
      "cell_type": "markdown",
      "metadata": {
        "id": "pntWR56_-Eo_"
      },
      "source": [
        "We will use *i.vi* to estimate NDVI and NDWI vegetation and water indices. See [i.vi](https://grass.osgeo.org/grass-stable/manuals/i.vi.html) for other available indices."
      ]
    },
    {
      "cell_type": "code",
      "execution_count": null,
      "metadata": {
        "id": "eS-dx7V0-Eo_"
      },
      "outputs": [],
      "source": [
        "# estimate vegetation indices\n",
        "gs.run_command(\"i.vi\",\n",
        "               red=\"T17SQV_20220528T155819_B04_10m\",\n",
        "               nir=\"T17SQV_20220528T155819_B08_10m\",\n",
        "               output=\"T17SQV_20220528T155819_NDVI_10m\",\n",
        "               viname=\"ndvi\")\n",
        "\n",
        "# add semantic label\n",
        "gs.run_command(\"r.support\",\n",
        "               map=\"T17SQV_20220528T155819_NDVI_10m\",\n",
        "               semantic_label=\"S2_NDVI\")"
      ]
    },
    {
      "cell_type": "code",
      "execution_count": null,
      "metadata": {
        "id": "-wytvyB0-EpA"
      },
      "outputs": [],
      "source": [
        "# estimate water indices\n",
        "gs.run_command(\"i.vi\",\n",
        "               green=\"T17SQV_20220528T155819_B03_10m\",\n",
        "               nir=\"T17SQV_20220528T155819_B08_10m\",\n",
        "               output=\"T17SQV_20220528T155819_NDWI_10m\",\n",
        "               viname=\"ndwi\")\n",
        "\n",
        "# set ndwi color palette\n",
        "gs.run_command(\"r.colors\", map=\"T17SQV_20220528T155819_NDWI_10m\", color=\"ndwi\")\n",
        "\n",
        "# add semantic label\n",
        "gs.run_command(\"r.support\",\n",
        "               map=\"T17SQV_20220528T155819_NDWI_10m\",\n",
        "               semantic_label=\"S2_NDWI\")"
      ]
    },
    {
      "cell_type": "code",
      "execution_count": null,
      "metadata": {
        "id": "31eivQnm-EpA"
      },
      "outputs": [],
      "source": [
        "# check metadata of NDVI\n",
        "gs.raster_info(map=\"T17SQV_20220528T155819_NDVI_10m\")[\"semantic_label\"]"
      ]
    },
    {
      "cell_type": "code",
      "execution_count": null,
      "metadata": {
        "id": "sfNPRerJ-EpA"
      },
      "outputs": [],
      "source": [
        "# interactive maps\n",
        "idx_map = gj.InteractiveMap(width = 400, use_region=True)\n",
        "idx_map.add_raster(\"T17SQV_20220528T155819_NDVI_10m\", opacity=0.7)\n",
        "idx_map.add_raster(\"T17SQV_20220528T155819_NDWI_10m\", opacity=0.7)\n",
        "idx_map.add_layer_control(position = \"bottomright\")\n",
        "idx_map.show()\n",
        "# ... use the layer selector in the corner to enable/disable the NDVI/NDWI layers"
      ]
    },
    {
      "cell_type": "markdown",
      "metadata": {
        "id": "hSM_I10m-EpB"
      },
      "source": [
        "#### GRASS GIS maps as numpy arrays\n",
        "\n",
        "GRASS maps can be read as numpy arrays thanks to the array function of the grass.script library. This facilitates many operations with python libraries that require an array as input. In this case, we demonstrate its use plotting an histogram."
      ]
    },
    {
      "cell_type": "code",
      "execution_count": null,
      "metadata": {
        "id": "COsip-IQ-EpB"
      },
      "outputs": [],
      "source": [
        "# import required libraries\n",
        "import numpy as np\n",
        "import seaborn as sns\n",
        "import matplotlib.pyplot as plt\n",
        "from grass.script import array as garray\n",
        "\n",
        "# read NDVI and NDWI as numpy arrays\n",
        "ndvi = garray.array(mapname=\"T17SQV_20220528T155819_NDVI_10m\", null=\"nan\")\n",
        "ndwi = garray.array(mapname=\"T17SQV_20220528T155819_NDWI_10m\", null=\"nan\")\n",
        "print(ndvi.shape,ndwi.shape)"
      ]
    },
    {
      "cell_type": "code",
      "execution_count": null,
      "metadata": {
        "id": "C8-xHhJV-EpD",
        "scrolled": true
      },
      "outputs": [],
      "source": [
        "# Plot NDVI and NDWI\n",
        "sns.set_style('darkgrid')\n",
        "fig, axs = plt.subplots(1, 2, figsize=(7, 7))\n",
        "sns.histplot(ax=axs[0], data=ndvi.ravel(), kde=True, color=\"olive\")\n",
        "sns.histplot(ax=axs[1], data=ndwi.ravel(), kde=True, color=\"skyblue\")\n",
        "plt.show()"
      ]
    },
    {
      "cell_type": "markdown",
      "metadata": {
        "id": "0aIUvwCS-EpD"
      },
      "source": [
        "## NDVI time series data processing"
      ]
    },
    {
      "cell_type": "markdown",
      "metadata": {
        "id": "PWP2SSTc-EpD"
      },
      "source": [
        "### A few concepts of time series data processing in GRASS GIS\n",
        "\n",
        "GRASS GIS offers specialized tools for spatio-temporal data\n",
        "processing, see GRASS documentation [temporalintro](https://grass.osgeo.org/grass-stable/manuals/temporalintro.html) for details and the [temporal data processing](https://grasswiki.osgeo.org/wiki/Temporal_data_processing) wiki for examples and a workflow tutorial.\n",
        "\n",
        "GRASS introduces three special data types that are designed to handle time-series:\n",
        "\n",
        "* *Space-time raster datasets* (`strds`) for managing raster map time series.\n",
        "\n",
        "* *Space-time 3D raster datasets* (`str3ds`) for managing 3D raster map time series.\n",
        "\n",
        "* *Space-time vector datasets* (`stvds`) for managing vector map time series.\n",
        "  \n",
        "<a href=\"https://raw.githubusercontent.com/veroandreo/foss4g2022_grass4rs/main/assets/img/tgrass_flowchart.png\">\n",
        "  <img src=\"https://raw.githubusercontent.com/veroandreo/foss4g2022_grass4rs/main/assets/img/tgrass_flowchart.png\"\n",
        "   alt=\"TGRASS flowchart\"\n",
        "   title=\"GRASS flowchart\"\n",
        "   width=\"65%\">\n",
        "</a>\n"
      ]
    },
    {
      "cell_type": "markdown",
      "metadata": {
        "id": "AXxg4C2D-EpE"
      },
      "source": [
        "### Create space-time dataset\n",
        "\n",
        "At this moment a new space-time dataset can be created by means of [t.create](https://grass.osgeo.org/grass-stable/manuals/t.create.html) and all imported Sentinel bands registered with [t.register](https://grass.osgeo.org/grass-stable/manuals/t.register.html) and the timestamps file we created when we imported S2 bands."
      ]
    },
    {
      "cell_type": "code",
      "execution_count": null,
      "metadata": {
        "id": "PuWSfVx1-EpE"
      },
      "outputs": [],
      "source": [
        "gs.run_command(\"t.create\",\n",
        "               output=\"s2_nc\",\n",
        "               title=\"Sentinel L2A - North Carolina\",\n",
        "               desc=\"Tile T17SQV - 2022\")\n",
        "\n",
        "gs.run_command(\"t.register\",\n",
        "               input=\"s2_nc\",\n",
        "               file=s2_timestamps)"
      ]
    },
    {
      "cell_type": "markdown",
      "metadata": {
        "id": "Qk57ZEgX-EpG"
      },
      "source": [
        "Let’s check basic metadata with [t.info](https://grass.osgeo.org/grass-stable/manuals/t.info.html) and list the registered maps with [t.rast.list](https://grass.osgeo.org/grass-stable/manuals/t.rast.list.html)."
      ]
    },
    {
      "cell_type": "code",
      "execution_count": null,
      "metadata": {
        "id": "C71QrIK_-EpG"
      },
      "outputs": [],
      "source": [
        "# print time series info\n",
        "print(gs.read_command(\"t.info\", input=\"s2_nc\"))"
      ]
    },
    {
      "cell_type": "code",
      "execution_count": null,
      "metadata": {
        "id": "Ah4tHjt6-EpG"
      },
      "outputs": [],
      "source": [
        "# list registered bands in the space-time cube\n",
        "print(gs.read_command(\"t.rast.list\",\n",
        "                      input=\"s2_nc\",\n",
        "                      columns=\"name,start_time,semantic_label\"))"
      ]
    },
    {
      "cell_type": "markdown",
      "metadata": {
        "id": "6Byux5iQ-EpG"
      },
      "source": [
        "We'll now use a special syntaxis to list only band 4 raster maps withing the time series:"
      ]
    },
    {
      "cell_type": "code",
      "execution_count": null,
      "metadata": {
        "id": "hKFJ7HA7-EpH"
      },
      "outputs": [],
      "source": [
        "# list only band 4 maps\n",
        "print(gs.read_command(\"t.rast.list\",\n",
        "                      input=\"s2_nc.S2_4\",\n",
        "                      columns=\"name,start_time,semantic_label\"))"
      ]
    },
    {
      "cell_type": "markdown",
      "metadata": {
        "id": "vDCqmxtP-EpH"
      },
      "source": [
        "### NDVI Space-Time computation\n",
        "\n",
        "For NDVI computation the 4th and 8th bands are required, as we saw above for a single map.\n",
        "Now, we will create a time series of NDVI maps. We will take advantage of the semantic labels syntax and use\n",
        "[t.rast.mapcalc](https://grass.osgeo.org/grass-stable/manuals/t.rast.mapcalc.html) to estimate NDVI for all the timestamps in the time series, using band 4 and 8 subsets."
      ]
    },
    {
      "cell_type": "code",
      "execution_count": null,
      "metadata": {
        "id": "oNzIXrPO-EpH"
      },
      "outputs": [],
      "source": [
        "gs.run_command(\"t.rast.mapcalc\",\n",
        "               inputs=\"s2_nc.S2_8,s2_nc.S2_4\",\n",
        "               output=\"s2_ndvi\",\n",
        "               basename=\"s2_ndvi\",\n",
        "               expression=\"float(s2_nc.S2_8 - s2_nc.S2_4) / (s2_nc.S2_8 + s2_nc.S2_4)\")"
      ]
    },
    {
      "cell_type": "markdown",
      "metadata": {
        "id": "Se67v8uZ-EpH"
      },
      "source": [
        "When computation is finished, the *ndvi* color table can be set with [t.rast.colors](https://grass.osgeo.org/grass-stable/manuals/t.rast.colors.html):"
      ]
    },
    {
      "cell_type": "code",
      "execution_count": null,
      "metadata": {
        "id": "40mvfPh2-EpH"
      },
      "outputs": [],
      "source": [
        "gs.run_command(\"t.rast.colors\", input=\"s2_ndvi\", color=\"ndvi\")"
      ]
    },
    {
      "cell_type": "code",
      "execution_count": null,
      "metadata": {
        "id": "kcSNLz8D-EpI"
      },
      "outputs": [],
      "source": [
        "print(gs.read_command(\"t.info\", input=\"s2_ndvi\"))"
      ]
    },
    {
      "cell_type": "markdown",
      "metadata": {
        "id": "T4_xr0KD-EpI"
      },
      "source": [
        "### Time series plots"
      ]
    },
    {
      "cell_type": "markdown",
      "metadata": {
        "id": "kVtqOvew-EpI"
      },
      "source": [
        "Let’s check content of the new dataset by means of [t.rast.list](https://grass.osgeo.org/grass-stable/manuals/t.rast.list.html):"
      ]
    },
    {
      "cell_type": "code",
      "execution_count": null,
      "metadata": {
        "id": "Ps-boOPL-EpI"
      },
      "outputs": [],
      "source": [
        "print(gs.read_command(\"t.rast.list\",\n",
        "                      input=\"s2_ndvi\",\n",
        "                      columns=\"name,start_time,min,max\"))"
      ]
    },
    {
      "cell_type": "markdown",
      "metadata": {
        "id": "9Eiz113e-EpI"
      },
      "source": [
        "If we save the previous output to a file, we can then plot the min and max time series:"
      ]
    },
    {
      "cell_type": "code",
      "execution_count": null,
      "metadata": {
        "id": "jqo3M0Va-EpJ"
      },
      "outputs": [],
      "source": [
        "gs.run_command(\"t.rast.list\",\n",
        "                input=\"s2_ndvi\",\n",
        "                columns=\"name,start_time,min,max\",\n",
        "                format=\"csv\",\n",
        "                separator=\"comma\",\n",
        "                output=os.path.join(homedir,\"ndvi.csv\"))"
      ]
    },
    {
      "cell_type": "code",
      "execution_count": null,
      "metadata": {
        "id": "U90egKeJ-EpO"
      },
      "outputs": [],
      "source": [
        "# read the csv and plot\n",
        "ndvi = pd.read_csv(os.path.join(homedir,\"ndvi.csv\"))\n",
        "ndvi.plot(0, [2,3], subplots=False)"
      ]
    },
    {
      "cell_type": "markdown",
      "metadata": {
        "id": "b3XkKm65-EpO"
      },
      "source": [
        "We could also use [t.rast.univar](https://grass.osgeo.org/grass-stable/manuals/t.rast.univar.html) to obtain extended statistics:"
      ]
    },
    {
      "cell_type": "code",
      "execution_count": null,
      "metadata": {
        "id": "jkPF5Vx5-EpO"
      },
      "outputs": [],
      "source": [
        "# get extended univar stats and save them as a csv file\n",
        "gs.run_command(\"t.rast.univar\",\n",
        "                flags=\"e\",\n",
        "                input=\"s2_ndvi\",\n",
        "                output=os.path.join(homedir,\"ndvi_ext_stats.csv\"),\n",
        "                separator=\"comma\")"
      ]
    },
    {
      "cell_type": "code",
      "execution_count": null,
      "metadata": {
        "id": "8_PIfarz-EpO"
      },
      "outputs": [],
      "source": [
        "# read the csv and plot\n",
        "ndvi = pd.read_csv(os.path.join(homedir,\"ndvi_ext_stats.csv\"))\n",
        "ndvi['start'] = pd.to_datetime(ndvi.start, format=\"%Y-%m-%d\", exact=False)\n",
        "ndvi.plot.line(1, [3,4,5], subplots=False)"
      ]
    },
    {
      "cell_type": "markdown",
      "metadata": {
        "id": "V7_qNJzz-EpO"
      },
      "source": [
        "### Query time series in a single point\n",
        "\n",
        "`g.region` command allows us to get the coordinates of the center of the computational region, we'll use those to query the NDVI time series."
      ]
    },
    {
      "cell_type": "code",
      "execution_count": null,
      "metadata": {
        "id": "SbySbc13-EpO"
      },
      "outputs": [],
      "source": [
        "# get region center coordinates for query (center_easting, center_northing values)\n",
        "gs.region(complete=True)"
      ]
    },
    {
      "cell_type": "code",
      "execution_count": null,
      "metadata": {
        "id": "7YJm7Zqx-EpP"
      },
      "outputs": [],
      "source": [
        "# query map at center coordinates\n",
        "print(gs.read_command(\"t.rast.what\",\n",
        "                      strds=\"s2_ndvi\",\n",
        "                      coordinates=\"637500,221750\",\n",
        "                      layout=\"col\",\n",
        "                      flags=\"n\"))"
      ]
    },
    {
      "cell_type": "markdown",
      "metadata": {
        "id": "VbC27nTq-EpP"
      },
      "source": [
        "### Time series animation"
      ]
    },
    {
      "cell_type": "code",
      "execution_count": null,
      "metadata": {
        "id": "mNaeLG7Mv62Y"
      },
      "outputs": [],
      "source": [
        "# get the list of map names within the strds\n",
        "import json\n",
        "result = json.loads(\n",
        "    gs.read_command(\n",
        "        \"t.rast.list\", input=\"s2_ndvi\", format=\"json\"\n",
        "    )\n",
        ")\n",
        "\n",
        "names = [item['name'] for item in result['data']]\n",
        "names"
      ]
    },
    {
      "cell_type": "code",
      "execution_count": null,
      "metadata": {
        "id": "6ucOzghP-EpP"
      },
      "outputs": [],
      "source": [
        "# display newly created NDVI time series map\n",
        "ndviseries = gj.SeriesMap(use_region=True)\n",
        "ndviseries.add_rasters(names)\n",
        "ndviseries.d_barscale()\n",
        "ndviseries.show()"
      ]
    },
    {
      "cell_type": "markdown",
      "source": [
        "## Create an image stack (imagery group)"
      ],
      "metadata": {
        "id": "wByUsv8GfMjS"
      }
    },
    {
      "cell_type": "markdown",
      "metadata": {
        "id": "UA7jsvG4-EpQ"
      },
      "source": [
        "**Stack of maps = imagery group**\n",
        "\n",
        "We use [i.group](https://grass.osgeo.org/grass-stable/manuals/i.group.html)  to stack raster maps (e.g., R-G-B channels or more) in GRASS GIS. These groups/stacks are just based on metadata, so they do not take up more disk space."
      ]
    },
    {
      "cell_type": "code",
      "execution_count": null,
      "metadata": {
        "id": "4V86Qc3W-EpR"
      },
      "outputs": [],
      "source": [
        "# list of selected S2 maps\n",
        "s2_maps = gs.list_grouped(type=\"raster\", pattern=\"*20220528T155819*\")['sentinel2']\n",
        "print(s2_maps)"
      ]
    },
    {
      "cell_type": "code",
      "execution_count": null,
      "metadata": {
        "id": "U3V1aAGC-EpR"
      },
      "outputs": [],
      "source": [
        "# create group and subgroup with S2 bands\n",
        "gs.run_command(\"i.group\", group=\"s2\", subgroup=\"s2\", input=s2_maps)\n",
        "print(gs.read_command(\"i.group\", group=\"s2\", flags=\"l\"))"
      ]
    },
    {
      "cell_type": "markdown",
      "metadata": {
        "id": "jPFjOu3A-EpS"
      },
      "source": [
        "## Object recognition with image segmentation"
      ]
    },
    {
      "cell_type": "markdown",
      "metadata": {
        "id": "g2DMx7c7-EpT"
      },
      "source": [
        "We'll use [i.segment](https://grass.osgeo.org/grass-stable/manuals/i.segment.html) to perform image segmentation. The resulting map will be used together with S2 bands, NDVI and NDWI to perform supervised classification."
      ]
    },
    {
      "cell_type": "code",
      "execution_count": null,
      "metadata": {
        "id": "VmOiwyaG-EpT"
      },
      "outputs": [],
      "source": [
        "# threshold = 0 merges only identical segments; threshold = 1 merges all\n",
        "gs.run_command(\"i.segment\",\n",
        "               group=\"s2\",\n",
        "               threshold=\"0.05\",\n",
        "               minsize=\"100\",\n",
        "               output=\"sentinel_segments_min100\",\n",
        "               goodness=\"sentinel_segments_goodness_min100\",\n",
        "               memory=2000)"
      ]
    },
    {
      "cell_type": "code",
      "execution_count": null,
      "metadata": {
        "id": "3futaYO1-EpT"
      },
      "outputs": [],
      "source": [
        "# display newly created segments raster map\n",
        "segments = gj.InteractiveMap(width = 400, use_region=True)\n",
        "segments.add_raster(\"sentinel_segments_min100\", opacity=0.8)\n",
        "segments.add_raster(\"s2_ndvi_4\", opacity=0.3)\n",
        "segments.add_layer_control(position = \"bottomright\")\n",
        "segments.show()"
      ]
    },
    {
      "cell_type": "code",
      "execution_count": null,
      "metadata": {
        "id": "HADeA7zw-EpT"
      },
      "outputs": [],
      "source": [
        "# show univariate statistics of goodness-of-fit raster map, with extended statistics (quartiles)\n",
        "print(gs.read_command(\"r.univar\",\n",
        "                      map=\"sentinel_segments_goodness_min100\",\n",
        "                      flags=\"ge\"))"
      ]
    },
    {
      "cell_type": "code",
      "execution_count": null,
      "metadata": {
        "id": "en7G8Ehd-EpT"
      },
      "outputs": [],
      "source": [
        "# assign color table (low fit values: blue; high fit values: green)\n",
        "gs.run_command(\"r.colors\",\n",
        "               map=\"sentinel_segments_goodness_min100\",\n",
        "               color=\"byg\",\n",
        "               flags=\"e\")"
      ]
    },
    {
      "cell_type": "code",
      "execution_count": null,
      "metadata": {
        "id": "_yXCrcqp-EpU"
      },
      "outputs": [],
      "source": [
        "# display newly created goodness-of-fit raster map\n",
        "segments = gj.InteractiveMap(width = 400, use_region=True)\n",
        "segments.add_raster(\"sentinel_segments_goodness_min100\", opacity=0.8)\n",
        "segments.add_layer_control(position = \"bottomright\")\n",
        "segments.show()"
      ]
    },
    {
      "cell_type": "markdown",
      "source": [
        "> If you are interested in Object Based Image Analysis (OBIA), check these  addon tools and the references therein:\n",
        "> - [i.segment.uspo](https://grass.osgeo.org/grass-stable/manuals/addons/i.segment.uspo.html) for unsupervised parameter optimization\n",
        "> - [i.segment.stats](https://grass.osgeo.org/grass-stable/manuals/addons/i.segment.stats.html) to extract stats from segments"
      ],
      "metadata": {
        "id": "3VLpHy6xgWHW"
      }
    },
    {
      "cell_type": "markdown",
      "metadata": {
        "id": "h0fjdphj-EpU"
      },
      "source": [
        "## Supervised Classification: RandomForest\n",
        "\n",
        "We will now demonstrate a very much simplified workflow to perform a supervised [Random Forest classification](https://en.wikipedia.org/wiki/Random_forest).\n",
        "\n",
        "We will feed the following data into the model:\n",
        "\n",
        "- NDVI and NDWI maps (created above)\n",
        "- image segmentation (created above)\n",
        "- random training points extracted from landuse map\n",
        "\n",
        "First we inspect the raster maps available in the current mapset (i.e., `sentinel2`), just to recall their names."
      ]
    },
    {
      "cell_type": "code",
      "execution_count": null,
      "metadata": {
        "id": "RFqfDJ4o-EpU"
      },
      "outputs": [],
      "source": [
        "gs.list_grouped(type=\"raster\")[\"sentinel2\"]"
      ]
    },
    {
      "cell_type": "markdown",
      "metadata": {
        "id": "77ekPYXi-EpU"
      },
      "source": [
        "### Creation of a classification training map by sampling from existing data\n",
        "\n",
        "In order to generate training data for the Sentinel-2 image classification, we will use the [National Land Cover Database (NLCD) 2019](https://www.lib.ncsu.edu/gis/lulc). It is available for download (30m raster map) from [here](https://drive.google.com/open?id=18D99kuotQp_BkxBnkn8OS3qgCeLVwovb&authuser=0). However, we have already prepared the dataset (`nc_nlcd2019.pack` landuse map). We will use it to perform stratified sampling to retrieve training and test data."
      ]
    },
    {
      "cell_type": "code",
      "execution_count": null,
      "metadata": {
        "id": "LjpybFcN-Eox"
      },
      "outputs": [],
      "source": [
        "# import the North Carolina NLCD2019 raster map (subset; resampled to 10m)\n",
        "gs.run_command(\"r.unpack\",\n",
        "               input=os.path.join(homedir, \"nc_nlcd2019.pack\"))"
      ]
    },
    {
      "cell_type": "code",
      "execution_count": null,
      "metadata": {
        "id": "Z7z4F7y9-EpV"
      },
      "outputs": [],
      "source": [
        "# check raster categories of landuse map\n",
        "print(gs.read_command(\"r.category\",\n",
        "                      map=\"nc_nlcd2019\",\n",
        "                      separator=\"comma\"))"
      ]
    },
    {
      "cell_type": "code",
      "execution_count": null,
      "metadata": {
        "id": "m0JOWn6Q-EpV"
      },
      "outputs": [],
      "source": [
        "# display nc_nlcd2019 landuse raster map\n",
        "lulc = gj.InteractiveMap(width = 400, use_region=True)\n",
        "lulc.add_raster(\"nc_nlcd2019\", opacity=0.6)\n",
        "lulc.add_layer_control(position = \"bottomright\")\n",
        "lulc.show()"
      ]
    },
    {
      "cell_type": "markdown",
      "metadata": {
        "id": "2O0ySz5r-EpV"
      },
      "source": [
        "We already note differences between the underlying OpenStreetMap data and the 30m NLCD map, but well..."
      ]
    },
    {
      "cell_type": "code",
      "execution_count": null,
      "metadata": {
        "id": "ZktjJ3ie-EpW"
      },
      "outputs": [],
      "source": [
        "# show simple legend\n",
        "legend = gj.Map(width=400, use_region=True)\n",
        "# at=bottom,top,left,right, percentage of screen coordinates (0,0 is lower left)\n",
        "legend.d_legend(raster=\"nc_nlcd2019\",\n",
        "                title=\"Classes\",\n",
        "                fontsize=12,\n",
        "                at=(10, 90, 20, 90),\n",
        "                flags=\"n\")\n",
        "legend.show()"
      ]
    },
    {
      "cell_type": "markdown",
      "metadata": {
        "id": "hLfbJJ9Q-EpW"
      },
      "source": [
        "### Random sampling from rasterized simplified landuse map\n",
        "\n",
        "We now perform stratified sampling, i.e. we extract for each land use class `n` sampling points, using the GRASS GIS addon [r.sample.category](https://grass.osgeo.org/grass-stable/manuals/addons/r.sample.category.html).\n",
        "\n",
        "First, we install this addon."
      ]
    },
    {
      "cell_type": "code",
      "execution_count": null,
      "metadata": {
        "id": "M0GR2J5v-EpW"
      },
      "outputs": [],
      "source": [
        "# install r.sample.category\n",
        "gs.run_command(\"g.extension\", extension=\"r.sample.category\")"
      ]
    },
    {
      "cell_type": "code",
      "execution_count": null,
      "metadata": {
        "id": "9Vu-UoaK-EpW"
      },
      "outputs": [],
      "source": [
        "# stratified random sampling to generate points\n",
        "gs.run_command(\"r.sample.category\",\n",
        "               input=\"nc_nlcd2019\",\n",
        "               output=\"landuse_random_points\",\n",
        "               n=\"150\",\n",
        "               random_seed=\"43\")"
      ]
    },
    {
      "cell_type": "code",
      "execution_count": null,
      "metadata": {
        "id": "-sdyaU9b-EpX"
      },
      "outputs": [],
      "source": [
        "# visualize newly created vector points map\n",
        "points = gj.InteractiveMap(width = 400, use_region=True)\n",
        "points.add_raster(\"nc_nlcd2019\", opacity=0.7)\n",
        "points.add_vector(\"landuse_random_points\")\n",
        "points.add_layer_control(position = \"bottomright\")\n",
        "points.show()"
      ]
    },
    {
      "cell_type": "code",
      "source": [
        "# check `random_points` vector attributes\n",
        "rp = gs.parse_command(\"v.db.select\", map=\"landuse_random_points\", format=\"json\")[\"records\"]\n",
        "df = pd.DataFrame(rp)\n",
        "df"
      ],
      "metadata": {
        "id": "AfZLgPNap6is"
      },
      "execution_count": null,
      "outputs": []
    },
    {
      "cell_type": "markdown",
      "source": [
        "Before proceeding with the training of a RF model, we'll split our set of random points into train and test sets. For that, we'll use the [v.divide.training_validation](https://mundialis.github.io/v.divide.training_validation/) tool. Note that the addon is not in the oficial GRASS addons repo, but at [mundialis](https://github.com/mundialis/)'s."
      ],
      "metadata": {
        "id": "gI7sIO4YqWpk"
      }
    },
    {
      "cell_type": "code",
      "source": [
        "# install the extension\n",
        "gs.run_command(\"g.extension\",\n",
        "               extension=\"v.divide.training_validation\",\n",
        "               url=\"https://github.com/mundialis/v.divide.training_validation\")"
      ],
      "metadata": {
        "id": "u8fUqeyHlXww"
      },
      "execution_count": null,
      "outputs": []
    },
    {
      "cell_type": "code",
      "source": [
        "# split random points into train and test\n",
        "gs.run_command(\"v.divide.training_validation\",\n",
        "               input=\"landuse_random_points\",\n",
        "               column=\"label\",\n",
        "               training=\"train\",\n",
        "               validation=\"test\",\n",
        "               training_percent=70)"
      ],
      "metadata": {
        "id": "J4WLFIx4lZ4K"
      },
      "execution_count": null,
      "outputs": []
    },
    {
      "cell_type": "markdown",
      "source": [
        "📝 **Your turn!** Check the attribute table of *train* and *test* vector maps."
      ],
      "metadata": {
        "id": "uA3JAAnMsEUl"
      }
    },
    {
      "cell_type": "code",
      "source": [],
      "metadata": {
        "id": "1-TTG9WQrxJB"
      },
      "execution_count": null,
      "outputs": []
    },
    {
      "cell_type": "markdown",
      "metadata": {
        "id": "LKANcDbm-EpX"
      },
      "source": [
        "Since RF classifier expects raster points as input, we convert the *train* vector map using [v.to.rast](https://grass.osgeo.org/grass-stable/manuals/v.to.rast.html)."
      ]
    },
    {
      "cell_type": "code",
      "execution_count": null,
      "metadata": {
        "id": "-alwlINW-EpX"
      },
      "outputs": [],
      "source": [
        "# convert points from vector to raster model\n",
        "gs.run_command(\"v.to.rast\",\n",
        "               input=\"train\",\n",
        "               output=\"train\",\n",
        "               use=\"attr\",\n",
        "               attribute_column=\"nc_nlcd2019\",\n",
        "               label_column=\"label\")"
      ]
    },
    {
      "cell_type": "code",
      "execution_count": null,
      "metadata": {
        "id": "lfSgbVaI-EpX"
      },
      "outputs": [],
      "source": [
        "# check raster categories of new raster training map\n",
        "# skip reporting on empty cells\n",
        "print(gs.read_command(\"r.report\",\n",
        "                      map=\"train\",\n",
        "                      flags=\"n\"))"
      ]
    },
    {
      "cell_type": "markdown",
      "metadata": {
        "id": "LyJx_iYH-EpY"
      },
      "source": [
        "### Train RF model\n",
        "\n",
        "First we install the [r.learn.ml2](https://grass.osgeo.org/grass-stable/manuals/addons/r.learn.ml2.html) extention. It consists of two modules: `r.learn.train` and `r.learn.predict`."
      ]
    },
    {
      "cell_type": "code",
      "execution_count": null,
      "metadata": {
        "id": "bvLBJiul-EpY"
      },
      "outputs": [],
      "source": [
        "# install ML extension\n",
        "gs.run_command(\"g.extension\", extension=\"r.learn.ml2\")"
      ]
    },
    {
      "cell_type": "code",
      "execution_count": null,
      "metadata": {
        "id": "B2O333O0-EpY"
      },
      "outputs": [],
      "source": [
        "# add segmentation map to group and subgroup already populated with S2 bands, NDWI and NDVI\n",
        "gs.run_command(\"i.group\",\n",
        "               group=\"s2\",\n",
        "               subgroup=\"s2\",\n",
        "               input=\"sentinel_segments_min100\")\n",
        "\n",
        "# list group content\n",
        "print(gs.read_command(\"i.group\", group=\"s2\", flags=\"l\"))"
      ]
    },
    {
      "cell_type": "markdown",
      "metadata": {
        "id": "CydZ-qAK-EpY"
      },
      "source": [
        "We now train the ML model using [r.learn.train](https://grass.osgeo.org/grass-stable/manuals/addons/r.learn.train.html), with model \"RandomForestClassifier\"."
      ]
    },
    {
      "cell_type": "code",
      "execution_count": null,
      "metadata": {
        "id": "9RIQqWGT-EpZ"
      },
      "outputs": [],
      "source": [
        "# train a random forest classification model\n",
        "gs.run_command(\"r.learn.train\",\n",
        "               group=\"s2\",\n",
        "               training_map=\"train\",\n",
        "               model_name=\"RandomForestClassifier\",\n",
        "               save_model=os.path.join(homedir, \"rf_model.gz\"))"
      ]
    },
    {
      "cell_type": "markdown",
      "metadata": {
        "id": "5FEJSRkB-EpZ"
      },
      "source": [
        " The model has been stored in the file `rf_model.gz` for use in the prediction step of the supervised classification."
      ]
    },
    {
      "cell_type": "code",
      "execution_count": null,
      "metadata": {
        "id": "76AguR7C-EpZ"
      },
      "outputs": [],
      "source": [
        "os.listdir(homedir)"
      ]
    },
    {
      "cell_type": "markdown",
      "metadata": {
        "id": "qV_0531n-EpZ"
      },
      "source": [
        "### Predict RF model trained\n",
        "\n",
        "The trained model will now be applied to the entire dataset."
      ]
    },
    {
      "cell_type": "code",
      "execution_count": null,
      "metadata": {
        "id": "xv34qeuT-EpZ"
      },
      "outputs": [],
      "source": [
        "# predict using r.learn.predict\n",
        "gs.run_command(\"r.learn.predict\",\n",
        "               group=\"s2\",\n",
        "               load_model=os.path.join(homedir, \"rf_model.gz\"),\n",
        "               output=\"sentinel_rf\")"
      ]
    },
    {
      "cell_type": "code",
      "execution_count": null,
      "metadata": {
        "id": "9QL3svfc-Epa"
      },
      "outputs": [],
      "source": [
        "# set color table, we transfer the colors from the original landuse map\n",
        "gs.run_command(\"r.colors\",\n",
        "               map=\"sentinel_rf\",\n",
        "               raster=\"nc_nlcd2019\")"
      ]
    },
    {
      "cell_type": "markdown",
      "metadata": {
        "id": "2zDzaMsH-Epb"
      },
      "source": [
        "### Visualize and report"
      ]
    },
    {
      "cell_type": "code",
      "execution_count": null,
      "metadata": {
        "id": "dRRhBb4D-Epc"
      },
      "outputs": [],
      "source": [
        "# visualize classified `sentinel_rf` map\n",
        "rfmap = gj.InteractiveMap(width = 600)\n",
        "rfmap.add_raster(\"sentinel_rf\", opacity=0.7)\n",
        "# rfmap.add_raster(\"nc_nlcd2019\", opacity=0.7)\n",
        "rfmap.add_layer_control(position = \"bottomright\")\n",
        "rfmap.show()"
      ]
    },
    {
      "cell_type": "code",
      "execution_count": null,
      "metadata": {
        "id": "2ywUeOUu-Epc"
      },
      "outputs": [],
      "source": [
        "# show legend\n",
        "legend = gj.Map(width=400, use_region=True)\n",
        "legend.d_legend(raster=\"sentinel_rf\",\n",
        "                title=\"Classes\",\n",
        "                font=\"sans\",\n",
        "                fontsize=14,\n",
        "                at=(10, 80, 10, 40),\n",
        "                flags=\"n\")\n",
        "legend.show()"
      ]
    },
    {
      "cell_type": "code",
      "execution_count": null,
      "metadata": {
        "id": "AlFdOru_-Epc"
      },
      "outputs": [],
      "source": [
        "# show class distribution in percent\n",
        "print(gs.read_command(\"r.report\",\n",
        "                      map=\"sentinel_rf\",\n",
        "                      units=\"p\",\n",
        "                      flags=\"h\"))"
      ]
    },
    {
      "cell_type": "code",
      "execution_count": null,
      "metadata": {
        "id": "oElgKJCV-Epd"
      },
      "outputs": [],
      "source": [
        "# export map to GTiff (COG requires GDAL 3.1)\n",
        "gs.run_command(\"r.out.gdal\",\n",
        "               flags=\"fmt\", #\n",
        "               input=\"sentinel_rf\",\n",
        "               output=os.path.join(homedir, \"nc_sentinel2_RF.tif\"),\n",
        "               format=\"GTiff\",\n",
        "               overviews=\"4\")"
      ]
    },
    {
      "cell_type": "markdown",
      "source": [
        "### Evaluate results"
      ],
      "metadata": {
        "id": "O1LbDdW4xarq"
      }
    },
    {
      "cell_type": "markdown",
      "metadata": {
        "id": "rSqudtvn-Epd"
      },
      "source": [
        "We will now do an evaluation of our results, using the [r.kappa](https://grass.osgeo.org/grass-stable/manuals/r.kappa.html) tool to calculate different accuracy measures. For this, we'll use the *test* dataset that we separated earlier."
      ]
    },
    {
      "cell_type": "code",
      "source": [
        "# convert labeled test segments to raster\n",
        "gs.run_command(\"v.to.rast\",\n",
        "               input=\"test\",\n",
        "               output=\"test\",\n",
        "               use=\"attr\",\n",
        "               attribute_column=\"nc_nlcd2019\",\n",
        "               label_column=\"label\")"
      ],
      "metadata": {
        "id": "zZMaOs0klZuu"
      },
      "execution_count": null,
      "outputs": []
    },
    {
      "cell_type": "code",
      "source": [
        "# create confusion matrix and estimate precision measures\n",
        "print(gs.read_command(\"r.kappa\",\n",
        "                      classification=\"sentinel_rf\",\n",
        "                      reference=\"test\",\n",
        "                      flags=\"w\"))"
      ],
      "metadata": {
        "id": "AvwJn-PVlZUI"
      },
      "execution_count": null,
      "outputs": []
    },
    {
      "cell_type": "markdown",
      "metadata": {
        "id": "Ukj1WQF2-Epe"
      },
      "source": [
        "## Bonus track: Supervised Classification with Maximum Likelihood and use of semantic labels\n",
        "\n",
        "We will now demonstrate the workflow to perform a supervised maximum likelihood classification which is integrated with the semantic labels metadata class, and hence allow us to use the same spectral signature to classify multiple scenes as long as the raster map order in the group is the same."
      ]
    },
    {
      "cell_type": "markdown",
      "metadata": {
        "id": "fdup9oOA-Epe"
      },
      "source": [
        "Let's first check the semantic labels of the bands in our `s2` group:"
      ]
    },
    {
      "cell_type": "code",
      "execution_count": null,
      "metadata": {
        "id": "nvUOJQAu-Epe"
      },
      "outputs": [],
      "source": [
        "band_list = gs.read_command(\"i.group\", group=\"s2\", flags=\"lg\")"
      ]
    },
    {
      "cell_type": "code",
      "execution_count": null,
      "metadata": {
        "id": "1AlAoOjK-Epf"
      },
      "outputs": [],
      "source": [
        "# add semantic label to the segmentation\n",
        "gs.run_command(\"r.support\",\n",
        "               map=\"sentinel_segments_min100\",\n",
        "               semantic_label=\"S2_seg\")"
      ]
    },
    {
      "cell_type": "code",
      "execution_count": null,
      "metadata": {
        "id": "KazIouq8-Epf"
      },
      "outputs": [],
      "source": [
        "for m in band_list.split():\n",
        "    sl = gs.raster_info(m)['semantic_label']\n",
        "    print(m,sl)"
      ]
    },
    {
      "cell_type": "markdown",
      "metadata": {
        "id": "BwkX6uBK-Epf"
      },
      "source": [
        "Now, we generate the signature file based on the training sample that we obtained earlier, this will then be the input for the maximum likelihood classification"
      ]
    },
    {
      "cell_type": "code",
      "execution_count": null,
      "metadata": {
        "id": "5j-d1Ljp-Epf"
      },
      "outputs": [],
      "source": [
        "# obtain signature files\n",
        "gs.run_command(\"i.gensig\",\n",
        "               trainingmap=\"train\",\n",
        "               group=\"s2\",\n",
        "               subgroup=\"s2\",\n",
        "               signaturefile=\"sig_sentinel\")"
      ]
    },
    {
      "cell_type": "code",
      "execution_count": null,
      "metadata": {
        "id": "WmsjrPp5-Epf"
      },
      "outputs": [],
      "source": [
        "# perform ML supervised classification\n",
        "gs.run_command(\"i.maxlik\",\n",
        "               group=\"s2\",\n",
        "               subgroup=\"s2\",\n",
        "               signaturefile=\"sig_sentinel\",\n",
        "               output=\"sentinel_maxlik\")"
      ]
    },
    {
      "cell_type": "code",
      "execution_count": null,
      "metadata": {
        "id": "9HBHdgqM-Epf"
      },
      "outputs": [],
      "source": [
        "# check classes\n",
        "print(gs.read_command(\"r.category\",\n",
        "                      map=\"sentinel_maxlik\",\n",
        "                      separator=\"comma\"))"
      ]
    },
    {
      "cell_type": "code",
      "source": [
        "# set color table, we transfer the colors from the original landuse map\n",
        "gs.run_command(\"r.colors\",\n",
        "               map=\"sentinel_maxlik\",\n",
        "               raster=\"nc_nlcd2019\")"
      ],
      "metadata": {
        "id": "6KTUI2S55mss"
      },
      "execution_count": null,
      "outputs": []
    },
    {
      "cell_type": "code",
      "execution_count": null,
      "metadata": {
        "id": "B3w2U-fe-Epg"
      },
      "outputs": [],
      "source": [
        "# display results\n",
        "maxlik_sup_class = gj.Map(width=500, use_region=True)\n",
        "maxlik_sup_class.d_rast(map=\"sentinel_maxlik\")\n",
        "maxlik_sup_class.d_legend(raster=\"sentinel_maxlik\",\n",
        "                          title=\"Class\",\n",
        "                          fontsize=12,\n",
        "                          at=(50, 95, 65, 90),\n",
        "                          flags=\"bn\")\n",
        "maxlik_sup_class.d_barscale()\n",
        "maxlik_sup_class.show()"
      ]
    },
    {
      "cell_type": "code",
      "execution_count": null,
      "metadata": {
        "id": "KQyfrCMy-Epg"
      },
      "outputs": [],
      "source": [
        "# percentage of each class\n",
        "print(gs.read_command(\"r.report\",\n",
        "                      map=\"sentinel_maxlik\",\n",
        "                      units=\"p\",\n",
        "                      flags=\"h\"))"
      ]
    },
    {
      "cell_type": "code",
      "execution_count": null,
      "metadata": {
        "id": "aqAsbhT8-Epg"
      },
      "outputs": [],
      "source": [
        "# class statistics: NDVI\n",
        "class_stats = gs.read_command(\"r.univar\",\n",
        "                              map=\"T17SQV_20220528T155819_NDVI_10m\",\n",
        "                              zones=\"sentinel_maxlik\",\n",
        "                              flags=\"t\")"
      ]
    },
    {
      "cell_type": "code",
      "execution_count": null,
      "metadata": {
        "id": "oSKUAYDC-Epg"
      },
      "outputs": [],
      "source": [
        "pd.read_csv(StringIO(class_stats),\n",
        "            delimiter=\"|\",\n",
        "            usecols=[1, 4, 5, 7])"
      ]
    },
    {
      "cell_type": "markdown",
      "metadata": {
        "id": "RuwPc6fM-Epg"
      },
      "source": [
        "Next, and to demonstrate the use of semantic labels, we will classify another sentinel scene with the same signature obtained earlier. To this aim, we need to:\n",
        "1. create a new imagery group for a different scene with the exact same band order\n",
        "1. estimate NDVI and NDWI and assign semantic labels\n",
        "1. run a segmentation and assign semantic labels\n",
        "1. check group and semantic labels\n",
        "1. run `i.maxlik`\n",
        "\n",
        "<div class=\"alert alert-warning\">Be ware – changes over time (phenology, weather) will make spectral signatures to not fit well or at all. Do not use same signatures for a different season!"
      ]
    },
    {
      "cell_type": "code",
      "execution_count": null,
      "metadata": {
        "id": "9er2y3OK-Eph"
      },
      "outputs": [],
      "source": [
        "s2_maps = gs.list_grouped(type=\"raster\", pattern=\"*20220617*\")['sentinel2']\n",
        "s2_maps"
      ]
    },
    {
      "cell_type": "code",
      "execution_count": null,
      "metadata": {
        "id": "B1HDCreR-Eph"
      },
      "outputs": [],
      "source": [
        "# since imagery groups can not be overwritten,\n",
        "# we delete any leftover \"s2_new\" group from previous runs\n",
        "gs.run_command(\"g.remove\",\n",
        "               type=\"group\",\n",
        "               name=\"s2_new\",\n",
        "               flags=\"f\")"
      ]
    },
    {
      "cell_type": "code",
      "execution_count": null,
      "metadata": {
        "id": "qq8mbikh-Eph"
      },
      "outputs": [],
      "source": [
        "gs.run_command(\"i.group\", group=\"s2_new\", subgroup=\"s2_new\", input=s2_maps)\n",
        "print(gs.read_command(\"i.group\", group=\"s2_new\", flags=\"l\"))"
      ]
    },
    {
      "cell_type": "code",
      "execution_count": null,
      "metadata": {
        "id": "FUkXV49M-Eph"
      },
      "outputs": [],
      "source": [
        "# estimate NDVI\n",
        "gs.run_command(\"i.vi\",\n",
        "               red=\"T17SQV_20220617T155829_B04_10m\",\n",
        "               nir=\"T17SQV_20220617T155829_B08_10m\",\n",
        "               output=\"T17SQV_20220617T155829_NDVI_10m\",\n",
        "               viname=\"ndvi\")\n",
        "\n",
        "# add semantic label\n",
        "gs.run_command(\"r.support\",\n",
        "               map=\"T17SQV_20220617T155829_NDVI_10m\",\n",
        "               semantic_label=\"S2_NDVI\")"
      ]
    },
    {
      "cell_type": "code",
      "execution_count": null,
      "metadata": {
        "id": "xCShj3iR-Epi"
      },
      "outputs": [],
      "source": [
        "# estimate NDWI\n",
        "gs.run_command(\"i.vi\",\n",
        "               green=\"T17SQV_20220617T155829_B03_10m\",\n",
        "               nir=\"T17SQV_20220617T155829_B08_10m\",\n",
        "               output=\"T17SQV_20220617T155829_NDWI_10m\",\n",
        "               viname=\"ndwi\")\n",
        "\n",
        "# add semantic label\n",
        "gs.run_command(\"r.support\",\n",
        "               map=\"T17SQV_20220617T155829_NDWI_10m\",\n",
        "               semantic_label=\"S2_NDWI\")"
      ]
    },
    {
      "cell_type": "code",
      "execution_count": null,
      "metadata": {
        "id": "SE65ARqO-Epi"
      },
      "outputs": [],
      "source": [
        "# add NDVI and NDWI to s2_mew group\n",
        "gs.run_command(\"i.group\",\n",
        "               group=\"s2_new\",\n",
        "               subgroup=\"s2_new\",\n",
        "               input=\"T17SQV_20220617T155829_NDVI_10m,T17SQV_20220617T155829_NDWI_10m\")\n",
        "\n",
        "# print maps in the group\n",
        "print(gs.read_command(\"i.group\", group=\"s2_new\", flags=\"l\"))"
      ]
    },
    {
      "cell_type": "code",
      "execution_count": null,
      "metadata": {
        "id": "PE7pUoa--Epi"
      },
      "outputs": [],
      "source": [
        "# run segmentation\n",
        "gs.run_command(\"i.segment\",\n",
        "               group=\"s2_new\",\n",
        "               threshold=\"0.05\",\n",
        "               minsize=\"100\",\n",
        "               output=\"sentinel_new_segments_min100\",\n",
        "               goodness=\"sentinel_new_segments_goodness_min100\")"
      ]
    },
    {
      "cell_type": "code",
      "execution_count": null,
      "metadata": {
        "id": "pWbMVJDE-Epi"
      },
      "outputs": [],
      "source": [
        "# add semantic label to the segmentation\n",
        "gs.run_command(\"r.support\",\n",
        "               map=\"sentinel_new_segments_min100\",\n",
        "               semantic_label=\"S2_seg\")"
      ]
    },
    {
      "cell_type": "code",
      "execution_count": null,
      "metadata": {
        "id": "IBAhjFCT-Epi"
      },
      "outputs": [],
      "source": [
        "# add segmentation to the s2_new group\n",
        "gs.run_command(\"i.group\", group=\"s2_new\", subgroup=\"s2_new\", input=\"sentinel_new_segments_min100\")"
      ]
    },
    {
      "cell_type": "code",
      "execution_count": null,
      "metadata": {
        "id": "YsjArI_2-Epi"
      },
      "outputs": [],
      "source": [
        "# check\n",
        "print(gs.read_command(\"i.group\", group=\"s2_new\", flags=\"l\"))"
      ]
    },
    {
      "cell_type": "code",
      "execution_count": null,
      "metadata": {
        "id": "YpBOGvYV-Epj"
      },
      "outputs": [],
      "source": [
        "# run the classification\n",
        "gs.run_command(\"i.maxlik\",\n",
        "               group=\"s2_new\",\n",
        "               subgroup=\"s2_new\",\n",
        "               signaturefile=\"sig_sentinel\",\n",
        "               output=\"sentinel_maxlik_new\")"
      ]
    },
    {
      "cell_type": "code",
      "source": [
        "# set color table, we transfer the colors from the original landuse map\n",
        "gs.run_command(\"r.colors\",\n",
        "               map=\"sentinel_maxlik_new\",\n",
        "               raster=\"nc_nlcd2019\")"
      ],
      "metadata": {
        "id": "QOeUmKsH8TWV"
      },
      "execution_count": null,
      "outputs": []
    },
    {
      "cell_type": "code",
      "execution_count": null,
      "metadata": {
        "id": "j_sda1YO-Epk"
      },
      "outputs": [],
      "source": [
        "# display results\n",
        "maxlik_sup_class = gj.Map(width=500, use_region=True)\n",
        "maxlik_sup_class.d_rast(map=\"sentinel_maxlik_new\")\n",
        "maxlik_sup_class.d_legend(raster=\"sentinel_maxlik_new\",\n",
        "                          title=\"Class\",\n",
        "                          fontsize=12,\n",
        "                          at=(60, 95, 70, 90),\n",
        "                          flags=\"bn\")\n",
        "maxlik_sup_class.d_barscale()\n",
        "maxlik_sup_class.show()"
      ]
    },
    {
      "cell_type": "markdown",
      "metadata": {
        "id": "8rVfMeNK-Epk"
      },
      "source": [
        "# What's next?\n",
        "\n",
        "You may enjoy more Jupyter notebooks at: https://github.com/OSGeo/grass/tree/main/doc/notebooks"
      ]
    },
    {
      "cell_type": "markdown",
      "metadata": {
        "id": "Bg4UewEY-Epk"
      },
      "source": [
        "# References\n",
        "\n",
        "- [GRASS GIS Reference Manual](https://grass.osgeo.org/grass-stable/manuals/)\n",
        "- [GRASS GIS Addons Reference Manuals](https://grass.osgeo.org/grass-stable/manuals/addons/)\n",
        "- [GRASS GIS Python library documentation](https://grass.osgeo.org/grass-stable/manuals/libpython/)\n",
        "- [Temporal data processing](https://grasswiki.osgeo.org/wiki/Temporal_data_processing)"
      ]
    },
    {
      "cell_type": "code",
      "source": [],
      "metadata": {
        "id": "z6JG9xM33vhB"
      },
      "execution_count": null,
      "outputs": []
    }
  ],
  "metadata": {
    "colab": {
      "name": "grassgis4rs_colab.ipynb",
      "provenance": []
    },
    "kernelspec": {
      "display_name": "Python 3 (ipykernel)",
      "language": "python",
      "name": "python3"
    },
    "language_info": {
      "codemirror_mode": {
        "name": "ipython",
        "version": 3
      },
      "file_extension": ".py",
      "mimetype": "text/x-python",
      "name": "python",
      "nbconvert_exporter": "python",
      "pygments_lexer": "ipython3",
      "version": "3.10.5"
    }
  },
  "nbformat": 4,
  "nbformat_minor": 0
}
